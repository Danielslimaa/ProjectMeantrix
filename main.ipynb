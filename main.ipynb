{
 "cells": [
  {
   "cell_type": "code",
   "execution_count": 141,
   "metadata": {
    "collapsed": true
   },
   "outputs": [],
   "source": [
    "import numpy as np\n",
    "import pandas as pd\n",
    "import sklearn\n",
    "import nltk"
   ]
  },
  {
   "cell_type": "code",
   "execution_count": 84,
   "outputs": [
    {
     "data": {
      "text/plain": "         name                                        description  employees  \\\n0       fitin  fitin is the latest fit tech platform that pro...        1.0   \n1  quinditech  our services include independent & collaborati...       10.0   \n\n  total_funding      city subcountry       lat       lng  \n0           NaN   toronto    ontario  43.70011 -79.41630  \n1           NaN  montreal     quebec  45.50884 -73.58781  ",
      "text/html": "<div>\n<style scoped>\n    .dataframe tbody tr th:only-of-type {\n        vertical-align: middle;\n    }\n\n    .dataframe tbody tr th {\n        vertical-align: top;\n    }\n\n    .dataframe thead th {\n        text-align: right;\n    }\n</style>\n<table border=\"1\" class=\"dataframe\">\n  <thead>\n    <tr style=\"text-align: right;\">\n      <th></th>\n      <th>name</th>\n      <th>description</th>\n      <th>employees</th>\n      <th>total_funding</th>\n      <th>city</th>\n      <th>subcountry</th>\n      <th>lat</th>\n      <th>lng</th>\n    </tr>\n  </thead>\n  <tbody>\n    <tr>\n      <th>0</th>\n      <td>fitin</td>\n      <td>fitin is the latest fit tech platform that pro...</td>\n      <td>1.0</td>\n      <td>NaN</td>\n      <td>toronto</td>\n      <td>ontario</td>\n      <td>43.70011</td>\n      <td>-79.41630</td>\n    </tr>\n    <tr>\n      <th>1</th>\n      <td>quinditech</td>\n      <td>our services include independent &amp; collaborati...</td>\n      <td>10.0</td>\n      <td>NaN</td>\n      <td>montreal</td>\n      <td>quebec</td>\n      <td>45.50884</td>\n      <td>-73.58781</td>\n    </tr>\n  </tbody>\n</table>\n</div>"
     },
     "execution_count": 84,
     "metadata": {},
     "output_type": "execute_result"
    }
   ],
   "source": [
    "df = pd.read_csv('canada_amostra.csv')\n",
    "df.head(2)"
   ],
   "metadata": {
    "collapsed": false,
    "pycharm": {
     "name": "#%%\n"
    }
   }
  },
  {
   "cell_type": "code",
   "execution_count": 173,
   "outputs": [],
   "source": [
    "Numero_de_exemplos = df.shape[0]\n",
    "\n",
    "unsplitted_descriptions = df[\"description\"].to_numpy()\n",
    "\n",
    "lista_filtro_grosso = []\n",
    "\n",
    "for i in range(len(unsplitted_descriptions)):\n",
    "    if \"waste\" in unsplitted_descriptions[i].lower().split(\" \"):\n",
    "        lista_filtro_grosso.insert(i,1)\n",
    "    else:\n",
    "        lista_filtro_grosso.insert(i,0)\n",
    "\n",
    "df[\"Filtro grosso\"] = lista_filtro_grosso\n",
    "\n"
   ],
   "metadata": {
    "collapsed": false,
    "pycharm": {
     "name": "#%%\n"
    }
   }
  },
  {
   "cell_type": "code",
   "execution_count": 174,
   "outputs": [
    {
     "data": {
      "text/plain": "124"
     },
     "execution_count": 174,
     "metadata": {},
     "output_type": "execute_result"
    }
   ],
   "source": [
    "df[\"Filtro grosso\"].sum()\n"
   ],
   "metadata": {
    "collapsed": false,
    "pycharm": {
     "name": "#%%\n"
    }
   }
  },
  {
   "cell_type": "code",
   "execution_count": 147,
   "outputs": [
    {
     "data": {
      "text/plain": "<function len(obj, /)>"
     },
     "execution_count": 147,
     "metadata": {},
     "output_type": "execute_result"
    }
   ],
   "source": [
    "df[\"description\"].str.contains(\"waste\").sum()\n",
    "len"
   ],
   "metadata": {
    "collapsed": false,
    "pycharm": {
     "name": "#%%\n"
    }
   }
  },
  {
   "cell_type": "code",
   "execution_count": 198,
   "outputs": [
    {
     "data": {
      "text/plain": "'luevo has built the first pre-ordering platform for emerging fashion designers. partnered with fashion week runway shows across us and canada, we help designers get the funding they need based on guaranteed, paid in advance, pre-orders. consumers use luevo to discover and support the freshest emerging designers. for the first time fashion enthusiasts can pre-order straight off the runway. more so, we are creating a widget that our designers can install as simple as “copy and paste” on their website. this tool will allow them to raise pre-orders via multiple platforms and drive more traffic and interest to their items online. with the data gathered we can create accurate forecasts and trend reports that will be sold under different packages to brands. and finally, we will white-label our technology to be used by brands and retailers alike. we are revolutionizing the creation and consumption of fashion to empower growth in local economies.'"
     },
     "execution_count": 198,
     "metadata": {},
     "output_type": "execute_result"
    }
   ],
   "source": [
    "text = df[\"description\"].loc[10000]\n",
    "text"
   ],
   "metadata": {
    "collapsed": false,
    "pycharm": {
     "name": "#%%\n"
    }
   }
  },
  {
   "cell_type": "code",
   "execution_count": 199,
   "outputs": [
    {
     "data": {
      "text/plain": "['luevo',\n 'has',\n 'built',\n 'the',\n 'first',\n 'pre-ordering',\n 'platform',\n 'for',\n 'emerging',\n 'fashion',\n 'designers',\n '.',\n 'partnered',\n 'with',\n 'fashion',\n 'week',\n 'runway',\n 'shows',\n 'across',\n 'us',\n 'and',\n 'canada',\n ',',\n 'we',\n 'help',\n 'designers',\n 'get',\n 'the',\n 'funding',\n 'they',\n 'need',\n 'based',\n 'on',\n 'guaranteed',\n ',',\n 'paid',\n 'in',\n 'advance',\n ',',\n 'pre-orders',\n '.',\n 'consumers',\n 'use',\n 'luevo',\n 'to',\n 'discover',\n 'and',\n 'support',\n 'the',\n 'freshest',\n 'emerging',\n 'designers',\n '.',\n 'for',\n 'the',\n 'first',\n 'time',\n 'fashion',\n 'enthusiasts',\n 'can',\n 'pre-order',\n 'straight',\n 'off',\n 'the',\n 'runway',\n '.',\n 'more',\n 'so',\n ',',\n 'we',\n 'are',\n 'creating',\n 'a',\n 'widget',\n 'that',\n 'our',\n 'designers',\n 'can',\n 'install',\n 'as',\n 'simple',\n 'as',\n '“',\n 'copy',\n 'and',\n 'paste',\n '”',\n 'on',\n 'their',\n 'website',\n '.',\n 'this',\n 'tool',\n 'will',\n 'allow',\n 'them',\n 'to',\n 'raise',\n 'pre-orders',\n 'via',\n 'multiple',\n 'platforms',\n 'and',\n 'drive',\n 'more',\n 'traffic',\n 'and',\n 'interest',\n 'to',\n 'their',\n 'items',\n 'online',\n '.',\n 'with',\n 'the',\n 'data',\n 'gathered',\n 'we',\n 'can',\n 'create',\n 'accurate',\n 'forecasts',\n 'and',\n 'trend',\n 'reports',\n 'that',\n 'will',\n 'be',\n 'sold',\n 'under',\n 'different',\n 'packages',\n 'to',\n 'brands',\n '.',\n 'and',\n 'finally',\n ',',\n 'we',\n 'will',\n 'white-label',\n 'our',\n 'technology',\n 'to',\n 'be',\n 'used',\n 'by',\n 'brands',\n 'and',\n 'retailers',\n 'alike',\n '.',\n 'we',\n 'are',\n 'revolutionizing',\n 'the',\n 'creation',\n 'and',\n 'consumption',\n 'of',\n 'fashion',\n 'to',\n 'empower',\n 'growth',\n 'in',\n 'local',\n 'economies',\n '.']"
     },
     "execution_count": 199,
     "metadata": {},
     "output_type": "execute_result"
    }
   ],
   "source": [
    "text2 = nltk.word_tokenize(text)\n",
    "text2"
   ],
   "metadata": {
    "collapsed": false,
    "pycharm": {
     "name": "#%%\n"
    }
   }
  },
  {
   "cell_type": "code",
   "execution_count": 204,
   "outputs": [
    {
     "ename": "AttributeError",
     "evalue": "'tuple' object has no attribute 'isdigit'",
     "output_type": "error",
     "traceback": [
      "\u001B[0;31m---------------------------------------------------------------------------\u001B[0m",
      "\u001B[0;31mAttributeError\u001B[0m                            Traceback (most recent call last)",
      "Input \u001B[0;32mIn [204]\u001B[0m, in \u001B[0;36m<cell line: 1>\u001B[0;34m()\u001B[0m\n\u001B[0;32m----> 1\u001B[0m \u001B[43mpos_tag\u001B[49m\u001B[43m(\u001B[49m\u001B[43mnltk\u001B[49m\u001B[38;5;241;43m.\u001B[39;49m\u001B[43mpos_tag\u001B[49m\u001B[43m(\u001B[49m\u001B[43mtext2\u001B[49m\u001B[43m)\u001B[49m\u001B[43m)\u001B[49m\n",
      "File \u001B[0;32m~/.local/lib/python3.9/site-packages/nltk/tag/__init__.py:166\u001B[0m, in \u001B[0;36mpos_tag\u001B[0;34m(tokens, tagset, lang)\u001B[0m\n\u001B[1;32m    141\u001B[0m \u001B[38;5;124;03m\"\"\"\u001B[39;00m\n\u001B[1;32m    142\u001B[0m \u001B[38;5;124;03mUse NLTK's currently recommended part of speech tagger to\u001B[39;00m\n\u001B[1;32m    143\u001B[0m \u001B[38;5;124;03mtag the given list of tokens.\u001B[39;00m\n\u001B[0;32m   (...)\u001B[0m\n\u001B[1;32m    163\u001B[0m \u001B[38;5;124;03m:rtype: list(tuple(str, str))\u001B[39;00m\n\u001B[1;32m    164\u001B[0m \u001B[38;5;124;03m\"\"\"\u001B[39;00m\n\u001B[1;32m    165\u001B[0m tagger \u001B[38;5;241m=\u001B[39m _get_tagger(lang)\n\u001B[0;32m--> 166\u001B[0m \u001B[38;5;28;01mreturn\u001B[39;00m \u001B[43m_pos_tag\u001B[49m\u001B[43m(\u001B[49m\u001B[43mtokens\u001B[49m\u001B[43m,\u001B[49m\u001B[43m \u001B[49m\u001B[43mtagset\u001B[49m\u001B[43m,\u001B[49m\u001B[43m \u001B[49m\u001B[43mtagger\u001B[49m\u001B[43m,\u001B[49m\u001B[43m \u001B[49m\u001B[43mlang\u001B[49m\u001B[43m)\u001B[49m\n",
      "File \u001B[0;32m~/.local/lib/python3.9/site-packages/nltk/tag/__init__.py:123\u001B[0m, in \u001B[0;36m_pos_tag\u001B[0;34m(tokens, tagset, tagger, lang)\u001B[0m\n\u001B[1;32m    120\u001B[0m     \u001B[38;5;28;01mraise\u001B[39;00m \u001B[38;5;167;01mTypeError\u001B[39;00m(\u001B[38;5;124m\"\u001B[39m\u001B[38;5;124mtokens: expected a list of strings, got a string\u001B[39m\u001B[38;5;124m\"\u001B[39m)\n\u001B[1;32m    122\u001B[0m \u001B[38;5;28;01melse\u001B[39;00m:\n\u001B[0;32m--> 123\u001B[0m     tagged_tokens \u001B[38;5;241m=\u001B[39m \u001B[43mtagger\u001B[49m\u001B[38;5;241;43m.\u001B[39;49m\u001B[43mtag\u001B[49m\u001B[43m(\u001B[49m\u001B[43mtokens\u001B[49m\u001B[43m)\u001B[49m\n\u001B[1;32m    124\u001B[0m     \u001B[38;5;28;01mif\u001B[39;00m tagset:  \u001B[38;5;66;03m# Maps to the specified tagset.\u001B[39;00m\n\u001B[1;32m    125\u001B[0m         \u001B[38;5;28;01mif\u001B[39;00m lang \u001B[38;5;241m==\u001B[39m \u001B[38;5;124m\"\u001B[39m\u001B[38;5;124meng\u001B[39m\u001B[38;5;124m\"\u001B[39m:\n",
      "File \u001B[0;32m~/.local/lib/python3.9/site-packages/nltk/tag/perceptron.py:180\u001B[0m, in \u001B[0;36mPerceptronTagger.tag\u001B[0;34m(self, tokens, return_conf, use_tagdict)\u001B[0m\n\u001B[1;32m    177\u001B[0m prev, prev2 \u001B[38;5;241m=\u001B[39m \u001B[38;5;28mself\u001B[39m\u001B[38;5;241m.\u001B[39mSTART\n\u001B[1;32m    178\u001B[0m output \u001B[38;5;241m=\u001B[39m []\n\u001B[0;32m--> 180\u001B[0m context \u001B[38;5;241m=\u001B[39m \u001B[38;5;28mself\u001B[39m\u001B[38;5;241m.\u001B[39mSTART \u001B[38;5;241m+\u001B[39m [\u001B[38;5;28mself\u001B[39m\u001B[38;5;241m.\u001B[39mnormalize(w) \u001B[38;5;28;01mfor\u001B[39;00m w \u001B[38;5;129;01min\u001B[39;00m tokens] \u001B[38;5;241m+\u001B[39m \u001B[38;5;28mself\u001B[39m\u001B[38;5;241m.\u001B[39mEND\n\u001B[1;32m    181\u001B[0m \u001B[38;5;28;01mfor\u001B[39;00m i, word \u001B[38;5;129;01min\u001B[39;00m \u001B[38;5;28menumerate\u001B[39m(tokens):\n\u001B[1;32m    182\u001B[0m     tag, conf \u001B[38;5;241m=\u001B[39m (\n\u001B[1;32m    183\u001B[0m         (\u001B[38;5;28mself\u001B[39m\u001B[38;5;241m.\u001B[39mtagdict\u001B[38;5;241m.\u001B[39mget(word), \u001B[38;5;241m1.0\u001B[39m) \u001B[38;5;28;01mif\u001B[39;00m use_tagdict \u001B[38;5;241m==\u001B[39m \u001B[38;5;28;01mTrue\u001B[39;00m \u001B[38;5;28;01melse\u001B[39;00m (\u001B[38;5;28;01mNone\u001B[39;00m, \u001B[38;5;28;01mNone\u001B[39;00m)\n\u001B[1;32m    184\u001B[0m     )\n",
      "File \u001B[0;32m~/.local/lib/python3.9/site-packages/nltk/tag/perceptron.py:180\u001B[0m, in \u001B[0;36m<listcomp>\u001B[0;34m(.0)\u001B[0m\n\u001B[1;32m    177\u001B[0m prev, prev2 \u001B[38;5;241m=\u001B[39m \u001B[38;5;28mself\u001B[39m\u001B[38;5;241m.\u001B[39mSTART\n\u001B[1;32m    178\u001B[0m output \u001B[38;5;241m=\u001B[39m []\n\u001B[0;32m--> 180\u001B[0m context \u001B[38;5;241m=\u001B[39m \u001B[38;5;28mself\u001B[39m\u001B[38;5;241m.\u001B[39mSTART \u001B[38;5;241m+\u001B[39m [\u001B[38;5;28;43mself\u001B[39;49m\u001B[38;5;241;43m.\u001B[39;49m\u001B[43mnormalize\u001B[49m\u001B[43m(\u001B[49m\u001B[43mw\u001B[49m\u001B[43m)\u001B[49m \u001B[38;5;28;01mfor\u001B[39;00m w \u001B[38;5;129;01min\u001B[39;00m tokens] \u001B[38;5;241m+\u001B[39m \u001B[38;5;28mself\u001B[39m\u001B[38;5;241m.\u001B[39mEND\n\u001B[1;32m    181\u001B[0m \u001B[38;5;28;01mfor\u001B[39;00m i, word \u001B[38;5;129;01min\u001B[39;00m \u001B[38;5;28menumerate\u001B[39m(tokens):\n\u001B[1;32m    182\u001B[0m     tag, conf \u001B[38;5;241m=\u001B[39m (\n\u001B[1;32m    183\u001B[0m         (\u001B[38;5;28mself\u001B[39m\u001B[38;5;241m.\u001B[39mtagdict\u001B[38;5;241m.\u001B[39mget(word), \u001B[38;5;241m1.0\u001B[39m) \u001B[38;5;28;01mif\u001B[39;00m use_tagdict \u001B[38;5;241m==\u001B[39m \u001B[38;5;28;01mTrue\u001B[39;00m \u001B[38;5;28;01melse\u001B[39;00m (\u001B[38;5;28;01mNone\u001B[39;00m, \u001B[38;5;28;01mNone\u001B[39;00m)\n\u001B[1;32m    184\u001B[0m     )\n",
      "File \u001B[0;32m~/.local/lib/python3.9/site-packages/nltk/tag/perceptron.py:277\u001B[0m, in \u001B[0;36mPerceptronTagger.normalize\u001B[0;34m(self, word)\u001B[0m\n\u001B[1;32m    275\u001B[0m \u001B[38;5;28;01mif\u001B[39;00m \u001B[38;5;124m\"\u001B[39m\u001B[38;5;124m-\u001B[39m\u001B[38;5;124m\"\u001B[39m \u001B[38;5;129;01min\u001B[39;00m word \u001B[38;5;129;01mand\u001B[39;00m word[\u001B[38;5;241m0\u001B[39m] \u001B[38;5;241m!=\u001B[39m \u001B[38;5;124m\"\u001B[39m\u001B[38;5;124m-\u001B[39m\u001B[38;5;124m\"\u001B[39m:\n\u001B[1;32m    276\u001B[0m     \u001B[38;5;28;01mreturn\u001B[39;00m \u001B[38;5;124m\"\u001B[39m\u001B[38;5;124m!HYPHEN\u001B[39m\u001B[38;5;124m\"\u001B[39m\n\u001B[0;32m--> 277\u001B[0m \u001B[38;5;28;01mif\u001B[39;00m \u001B[43mword\u001B[49m\u001B[38;5;241;43m.\u001B[39;49m\u001B[43misdigit\u001B[49m() \u001B[38;5;129;01mand\u001B[39;00m \u001B[38;5;28mlen\u001B[39m(word) \u001B[38;5;241m==\u001B[39m \u001B[38;5;241m4\u001B[39m:\n\u001B[1;32m    278\u001B[0m     \u001B[38;5;28;01mreturn\u001B[39;00m \u001B[38;5;124m\"\u001B[39m\u001B[38;5;124m!YEAR\u001B[39m\u001B[38;5;124m\"\u001B[39m\n\u001B[1;32m    279\u001B[0m \u001B[38;5;28;01mif\u001B[39;00m word \u001B[38;5;129;01mand\u001B[39;00m word[\u001B[38;5;241m0\u001B[39m]\u001B[38;5;241m.\u001B[39misdigit():\n",
      "\u001B[0;31mAttributeError\u001B[0m: 'tuple' object has no attribute 'isdigit'"
     ]
    }
   ],
   "source": [
    "pos_tag(nltk.pos_tag(text2))"
   ],
   "metadata": {
    "collapsed": false,
    "pycharm": {
     "name": "#%%\n"
    }
   }
  },
  {
   "cell_type": "code",
   "execution_count": 162,
   "outputs": [],
   "source": [
    "from nltk.probability import FreqDist\n",
    "from nltk.tokenize import word_tokenize\n",
    "dist = FreqDist(text)"
   ],
   "metadata": {
    "collapsed": false,
    "pycharm": {
     "name": "#%%\n"
    }
   }
  },
  {
   "cell_type": "code",
   "execution_count": 206,
   "outputs": [
    {
     "data": {
      "text/plain": "['solutions on waste and water',\n ' Improve water quality and water efficiency use',\n ' water contamination',\n ' water for human consumption',\n ' water resources']"
     },
     "execution_count": 206,
     "metadata": {},
     "output_type": "execute_result"
    }
   ],
   "source": [
    "target = \"solutions on waste and water, Improve water quality and water efficiency use, water contamination, water for human consumption, water resources\"\n",
    "target_list = target.split(\",\")\n",
    "target_list"
   ],
   "metadata": {
    "collapsed": false,
    "pycharm": {
     "name": "#%%\n"
    }
   }
  },
  {
   "cell_type": "code",
   "execution_count": 208,
   "outputs": [
    {
     "name": "stderr",
     "output_type": "stream",
     "text": [
      "[nltk_data] Downloading package stopwords to /home/daniel/nltk_data...\n",
      "[nltk_data]   Package stopwords is already up-to-date!\n"
     ]
    },
    {
     "data": {
      "text/plain": "True"
     },
     "execution_count": 208,
     "metadata": {},
     "output_type": "execute_result"
    }
   ],
   "source": [
    "nltk.download(\"stopwords\")"
   ],
   "metadata": {
    "collapsed": false,
    "pycharm": {
     "name": "#%%\n"
    }
   }
  },
  {
   "cell_type": "code",
   "source": [
    "from nltk.corpus import stopwords\n",
    "from nltk.stem.porter import PorterStemmer"
   ],
   "metadata": {
    "collapsed": false,
    "pycharm": {
     "name": "#%%\n"
    }
   },
   "execution_count": 209,
   "outputs": []
  },
  {
   "cell_type": "code",
   "execution_count": 210,
   "outputs": [],
   "source": [
    "ps = PorterStemmer()"
   ],
   "metadata": {
    "collapsed": false,
    "pycharm": {
     "name": "#%%\n"
    }
   }
  },
  {
   "cell_type": "code",
   "execution_count": 211,
   "outputs": [],
   "source": [
    "stemmed_dataset=[]\n"
   ],
   "metadata": {
    "collapsed": false,
    "pycharm": {
     "name": "#%%\n"
    }
   }
  },
  {
   "cell_type": "code",
   "execution_count": 215,
   "outputs": [
    {
     "data": {
      "text/plain": "array([\"fitin is the latest fit tech platform that provides a professional marketing and booking tool for gyms, studios, independent instructors and personal trainers. customers want a combination of 'trip advisor' and 'groupon', where they can read reviews, check out schedules, browse photos, and book…all in one place. gyms and trainers want to be able to fill their classes and schedules. at fitin, we want to connect them and provide the community with a self-sustaining resource that helps everyone. with the wide variety of fitness entrepreneurs out there, we have amazing diversity in our workout options, but they are currently too difficult to find, if you don’t already know where to go – you need to search for hours, reach out to friends and family for referrals that may or may not be a good fit for you. we have over 700 classes already listed in our platform, and we want to be the resource that inspires canadians to just get moving…no matter what kind of class that may be!\",\n       'our services include independent & collaborative ai-powered medical solutions and customizable ai-enabled services. our current leading projects are qskin for instant recognition of 26 types of skin diseases and epileptic seizure detection and prediction collaborated with the center hospital of university de montreal (chum). our kick-off product qskin is an ai-driven dermatologist-level app to help people instantly detect and recognize various skin diseases by simply taking a photo with their smartphones. once users upload their photos to our server, our ai algorithm returns the top three skin diseases with the highest match rate compared to our database. the app is ready to download at apple store and google play in north america since aug. 24th. besides initial recognition, qskin provides record management and treatment suggestions. for dermatologists, qskin will provide dermoscopy image analysis, automated disease report, emr management and other computer-aided diagnosis tools.',\n       'chatlanding is a digital chatbot platform where you can make conversational experiences for your website in under 2 minutes with pre-built templates. website visitors get instant valuable info in a beautiful experience while our product owners get valuable lead information, higher engagement and conversion in return.',\n       ...,\n       'h2o innovation is known for its state of the art water & wastewater treatment systems. through the years, we have developed a strong knowledge of membrane filtration and a solid understanding of the water industry. this brought us to elaborate a comprehensive offer and provide complete engineering services, in-house manufacturing and thorough after sale service.the progression and maturity of the company naturally led us to erect a second pillar to enrich our business offer: the sale of specialty products and services, including the sale of maple equipment. with this solid business model, h2o innovation positioned itself as a leader among the major water treatment players and is continuously increasing its market share. collapse',\n       'ovivo is a world leader in equipment and solutions applicable to the treatment of water, wastewater and ultra-pure water. we bring together some of the world’s most established brands with an amalgamated heritage of over 200 years of experience. ovivo has locations in more than 15 countries and employs close to 800 talented people. unlike other... read more',\n       'vertex is a north american provider of environmental and environmentally focused industrial services. with over 40 years of expertise, vertex helps clients achieve their development goals through our versatile suite of services. from the initial site selection, consultation and regulatory approval, through the construction, operation and maintenance phases, to conclusion and environmental cleanup, vertex offers a diverse range of services throughout the life cycle of our clients’ projects. collapse'],\n      dtype=object)"
     },
     "execution_count": 215,
     "metadata": {},
     "output_type": "execute_result"
    }
   ],
   "source": [
    "unsplitted_descriptions = df[\"description\"].to_numpy()\n",
    "unsplitted_descriptions"
   ],
   "metadata": {
    "collapsed": false,
    "pycharm": {
     "name": "#%%\n"
    }
   }
  },
  {
   "cell_type": "markdown",
   "source": [],
   "metadata": {
    "collapsed": false,
    "pycharm": {
     "name": "#%% md\n"
    }
   }
  },
  {
   "cell_type": "code",
   "execution_count": 216,
   "outputs": [
    {
     "name": "stdout",
     "output_type": "stream",
     "text": [
      "name                 1\n",
      "description          0\n",
      "employees            0\n",
      "total_funding    19032\n",
      "city                14\n",
      "subcountry          14\n",
      "lat                 14\n",
      "lng                 14\n",
      "Filtro grosso        0\n",
      "dtype: int64\n"
     ]
    }
   ],
   "source": [
    "print(df.isnull().sum(axis=0))"
   ],
   "metadata": {
    "collapsed": false,
    "pycharm": {
     "name": "#%%\n"
    }
   }
  },
  {
   "cell_type": "code",
   "execution_count": 220,
   "outputs": [
    {
     "data": {
      "text/plain": "(21299, 9)"
     },
     "execution_count": 220,
     "metadata": {},
     "output_type": "execute_result"
    }
   ],
   "source": [
    "df.shape"
   ],
   "metadata": {
    "collapsed": false,
    "pycharm": {
     "name": "#%%\n"
    }
   }
  },
  {
   "cell_type": "code",
   "execution_count": 221,
   "outputs": [
    {
     "data": {
      "text/plain": "(21299, 9)"
     },
     "execution_count": 221,
     "metadata": {},
     "output_type": "execute_result"
    }
   ],
   "source": [
    "df.dropna(subset=[\"description\"],axis=0, inplace=True)\n",
    "df.shape"
   ],
   "metadata": {
    "collapsed": false,
    "pycharm": {
     "name": "#%%\n"
    }
   }
  },
  {
   "cell_type": "code",
   "execution_count": 222,
   "outputs": [],
   "source": [
    "target = \"solutions on waste and water, Improve water quality and water efficiency use, water contamination, water for human consumption, water resources\"\n",
    "target1 = ['solutions','water','waste','solutions on waste and water','solutions on water']\n",
    "target2 = ['Improve water quality and water efficiency use','water quality','quality','water','water use','water efficiency']"
   ],
   "metadata": {
    "collapsed": false,
    "pycharm": {
     "name": "#%%\n"
    }
   }
  },
  {
   "cell_type": "code",
   "execution_count": 230,
   "outputs": [
    {
     "data": {
      "text/plain": "0"
     },
     "execution_count": 230,
     "metadata": {},
     "output_type": "execute_result"
    }
   ],
   "source": [
    "lista_filtro_grosso = []\n",
    "\n",
    "for i in range(len(unsplitted_descriptions)):\n",
    "    text = unsplitted_descriptions[i].lower().split(\" \")\n",
    "    if \"water for human consumption\" in text:# and \"water\" in text:\n",
    "        lista_filtro_grosso.insert(i,1)\n",
    "    else:\n",
    "        lista_filtro_grosso.insert(i,0)\n",
    "\n",
    "df[\"Filtro grosso\"] = lista_filtro_grosso\n",
    "df[\"Filtro grosso\"].sum()"
   ],
   "metadata": {
    "collapsed": false,
    "pycharm": {
     "name": "#%%\n"
    }
   }
  },
  {
   "cell_type": "code",
   "execution_count": 226,
   "outputs": [
    {
     "data": {
      "text/plain": "0        0\n1        0\n2        0\n3        0\n4        0\n        ..\n21294    0\n21295    0\n21296    0\n21297    0\n21298    0\nName: Filtro grosso, Length: 21299, dtype: int64"
     },
     "execution_count": 226,
     "metadata": {},
     "output_type": "execute_result"
    }
   ],
   "source": [
    "df[\"Filtro grosso\"]"
   ],
   "metadata": {
    "collapsed": false,
    "pycharm": {
     "name": "#%%\n"
    }
   }
  },
  {
   "cell_type": "code",
   "execution_count": 227,
   "outputs": [
    {
     "data": {
      "text/plain": "                                         name  \\\n1741                                nise tech   \n2211                       astrum electronics   \n3464                          jet set systems   \n4527                                 jet.corp   \n5280                      aquatic informatics   \n7927                                 eleven-x   \n11530             aqua intelligent technology   \n11536                  quantwave technologies   \n11822                  fer-pal infrastructure   \n12327                                   4deep   \n13487                              offsetters   \n14081                     high mark plumbing    \n14902                          tabl'eau water   \n16520              stewart painting 1977 ltd.   \n16623            santos water service & drain   \n16909                       naya waters, inc.   \n17677                           mobile klinik   \n18767                   solaris solar heating   \n19395  whistler medical marijuana corporation   \n20120                         greenlife water   \n\n                                             description  employees  \\\n1741   nise building a smart-kitchen ecosystem by ena...        0.0   \n2211   our experienced technicians are highly-trained...        0.0   \n3464   jet set is a line of hot tubs that boast stunn...        0.0   \n4527   an advanced smartphone with dual interface cap...        1.0   \n5280   aquatic informatics provides leading software ...        0.0   \n7927   we provide a highly specialized wireless netwo...       10.0   \n11530  the product is a software that works on cell p...        0.0   \n11536  quantwave integrates the microfluidic technolo...        0.0   \n11822  fer-pal infrastructure is proud to offer a cem...        0.0   \n12327  4deep inwater imaging is a privately owned, ha...        1.0   \n13487  as canada’s leading provider of sustainability...       10.0   \n14081  high mark mechanical services provides quality...        1.0   \n14902  tabl’eau filtered water provides exceptional d...        1.0   \n16520  a father and son company over 40 years in busi...        0.0   \n16623  santos water offers high quality and professio...        0.0   \n16909  naya waters, inc. provides bottled spring wate...        0.0   \n17677  mobile klinik is canada’s go-to store for quic...       50.0   \n18767  we manufacture exceptional quality solar heati...        1.0   \n19395  whistler medical marijuana corporation is prod...       10.0   \n20120  greenlife water is the leading provider of wat...       10.0   \n\n      total_funding       city        subcountry        lat         lng  \\\n1741            NaN    toronto           ontario  43.700110  -79.416300   \n2211            NaN  saskatoon      saskatchewan  52.132380 -106.668920   \n3464            NaN   montreal            quebec  45.508840  -73.587810   \n4527            NaN    toronto           ontario  43.700110  -79.416300   \n5280            NaN  vancouver  british columbia  49.249660 -123.119340   \n7927            NaN   waterloo           ontario  43.466874  -80.524635   \n11530             -  vancouver  british columbia  49.249660 -123.119340   \n11536             -   waterloo           ontario  43.466874  -80.524635   \n11822             -    toronto           ontario  43.700110  -79.416300   \n12327      500000.0    halifax       nova scotia  44.645330  -63.572390   \n13487           NaN  vancouver  british columbia  49.249660 -123.119340   \n14081           NaN  vancouver  british columbia  49.249660 -123.119340   \n14902           NaN    toronto           ontario  43.700110  -79.416300   \n16520           NaN    calgary           alberta  51.050110 -114.085290   \n16623           NaN    toronto           ontario  43.700110  -79.416300   \n16909           NaN    toronto           ontario  43.700110  -79.416300   \n17677     5657271.0    toronto           ontario  43.700110  -79.416300   \n18767           NaN     regina      saskatchewan  50.450080 -104.617800   \n19395     5894836.0  vancouver  british columbia  49.249660 -123.119340   \n20120           NaN    toronto           ontario  43.700110  -79.416300   \n\n       Filtro grosso  \n1741               1  \n2211               1  \n3464               1  \n4527               1  \n5280               1  \n7927               1  \n11530              1  \n11536              1  \n11822              1  \n12327              1  \n13487              1  \n14081              1  \n14902              1  \n16520              1  \n16623              1  \n16909              1  \n17677              1  \n18767              1  \n19395              1  \n20120              1  ",
      "text/html": "<div>\n<style scoped>\n    .dataframe tbody tr th:only-of-type {\n        vertical-align: middle;\n    }\n\n    .dataframe tbody tr th {\n        vertical-align: top;\n    }\n\n    .dataframe thead th {\n        text-align: right;\n    }\n</style>\n<table border=\"1\" class=\"dataframe\">\n  <thead>\n    <tr style=\"text-align: right;\">\n      <th></th>\n      <th>name</th>\n      <th>description</th>\n      <th>employees</th>\n      <th>total_funding</th>\n      <th>city</th>\n      <th>subcountry</th>\n      <th>lat</th>\n      <th>lng</th>\n      <th>Filtro grosso</th>\n    </tr>\n  </thead>\n  <tbody>\n    <tr>\n      <th>1741</th>\n      <td>nise tech</td>\n      <td>nise building a smart-kitchen ecosystem by ena...</td>\n      <td>0.0</td>\n      <td>NaN</td>\n      <td>toronto</td>\n      <td>ontario</td>\n      <td>43.700110</td>\n      <td>-79.416300</td>\n      <td>1</td>\n    </tr>\n    <tr>\n      <th>2211</th>\n      <td>astrum electronics</td>\n      <td>our experienced technicians are highly-trained...</td>\n      <td>0.0</td>\n      <td>NaN</td>\n      <td>saskatoon</td>\n      <td>saskatchewan</td>\n      <td>52.132380</td>\n      <td>-106.668920</td>\n      <td>1</td>\n    </tr>\n    <tr>\n      <th>3464</th>\n      <td>jet set systems</td>\n      <td>jet set is a line of hot tubs that boast stunn...</td>\n      <td>0.0</td>\n      <td>NaN</td>\n      <td>montreal</td>\n      <td>quebec</td>\n      <td>45.508840</td>\n      <td>-73.587810</td>\n      <td>1</td>\n    </tr>\n    <tr>\n      <th>4527</th>\n      <td>jet.corp</td>\n      <td>an advanced smartphone with dual interface cap...</td>\n      <td>1.0</td>\n      <td>NaN</td>\n      <td>toronto</td>\n      <td>ontario</td>\n      <td>43.700110</td>\n      <td>-79.416300</td>\n      <td>1</td>\n    </tr>\n    <tr>\n      <th>5280</th>\n      <td>aquatic informatics</td>\n      <td>aquatic informatics provides leading software ...</td>\n      <td>0.0</td>\n      <td>NaN</td>\n      <td>vancouver</td>\n      <td>british columbia</td>\n      <td>49.249660</td>\n      <td>-123.119340</td>\n      <td>1</td>\n    </tr>\n    <tr>\n      <th>7927</th>\n      <td>eleven-x</td>\n      <td>we provide a highly specialized wireless netwo...</td>\n      <td>10.0</td>\n      <td>NaN</td>\n      <td>waterloo</td>\n      <td>ontario</td>\n      <td>43.466874</td>\n      <td>-80.524635</td>\n      <td>1</td>\n    </tr>\n    <tr>\n      <th>11530</th>\n      <td>aqua intelligent technology</td>\n      <td>the product is a software that works on cell p...</td>\n      <td>0.0</td>\n      <td>-</td>\n      <td>vancouver</td>\n      <td>british columbia</td>\n      <td>49.249660</td>\n      <td>-123.119340</td>\n      <td>1</td>\n    </tr>\n    <tr>\n      <th>11536</th>\n      <td>quantwave technologies</td>\n      <td>quantwave integrates the microfluidic technolo...</td>\n      <td>0.0</td>\n      <td>-</td>\n      <td>waterloo</td>\n      <td>ontario</td>\n      <td>43.466874</td>\n      <td>-80.524635</td>\n      <td>1</td>\n    </tr>\n    <tr>\n      <th>11822</th>\n      <td>fer-pal infrastructure</td>\n      <td>fer-pal infrastructure is proud to offer a cem...</td>\n      <td>0.0</td>\n      <td>-</td>\n      <td>toronto</td>\n      <td>ontario</td>\n      <td>43.700110</td>\n      <td>-79.416300</td>\n      <td>1</td>\n    </tr>\n    <tr>\n      <th>12327</th>\n      <td>4deep</td>\n      <td>4deep inwater imaging is a privately owned, ha...</td>\n      <td>1.0</td>\n      <td>500000.0</td>\n      <td>halifax</td>\n      <td>nova scotia</td>\n      <td>44.645330</td>\n      <td>-63.572390</td>\n      <td>1</td>\n    </tr>\n    <tr>\n      <th>13487</th>\n      <td>offsetters</td>\n      <td>as canada’s leading provider of sustainability...</td>\n      <td>10.0</td>\n      <td>NaN</td>\n      <td>vancouver</td>\n      <td>british columbia</td>\n      <td>49.249660</td>\n      <td>-123.119340</td>\n      <td>1</td>\n    </tr>\n    <tr>\n      <th>14081</th>\n      <td>high mark plumbing</td>\n      <td>high mark mechanical services provides quality...</td>\n      <td>1.0</td>\n      <td>NaN</td>\n      <td>vancouver</td>\n      <td>british columbia</td>\n      <td>49.249660</td>\n      <td>-123.119340</td>\n      <td>1</td>\n    </tr>\n    <tr>\n      <th>14902</th>\n      <td>tabl'eau water</td>\n      <td>tabl’eau filtered water provides exceptional d...</td>\n      <td>1.0</td>\n      <td>NaN</td>\n      <td>toronto</td>\n      <td>ontario</td>\n      <td>43.700110</td>\n      <td>-79.416300</td>\n      <td>1</td>\n    </tr>\n    <tr>\n      <th>16520</th>\n      <td>stewart painting 1977 ltd.</td>\n      <td>a father and son company over 40 years in busi...</td>\n      <td>0.0</td>\n      <td>NaN</td>\n      <td>calgary</td>\n      <td>alberta</td>\n      <td>51.050110</td>\n      <td>-114.085290</td>\n      <td>1</td>\n    </tr>\n    <tr>\n      <th>16623</th>\n      <td>santos water service &amp; drain</td>\n      <td>santos water offers high quality and professio...</td>\n      <td>0.0</td>\n      <td>NaN</td>\n      <td>toronto</td>\n      <td>ontario</td>\n      <td>43.700110</td>\n      <td>-79.416300</td>\n      <td>1</td>\n    </tr>\n    <tr>\n      <th>16909</th>\n      <td>naya waters, inc.</td>\n      <td>naya waters, inc. provides bottled spring wate...</td>\n      <td>0.0</td>\n      <td>NaN</td>\n      <td>toronto</td>\n      <td>ontario</td>\n      <td>43.700110</td>\n      <td>-79.416300</td>\n      <td>1</td>\n    </tr>\n    <tr>\n      <th>17677</th>\n      <td>mobile klinik</td>\n      <td>mobile klinik is canada’s go-to store for quic...</td>\n      <td>50.0</td>\n      <td>5657271.0</td>\n      <td>toronto</td>\n      <td>ontario</td>\n      <td>43.700110</td>\n      <td>-79.416300</td>\n      <td>1</td>\n    </tr>\n    <tr>\n      <th>18767</th>\n      <td>solaris solar heating</td>\n      <td>we manufacture exceptional quality solar heati...</td>\n      <td>1.0</td>\n      <td>NaN</td>\n      <td>regina</td>\n      <td>saskatchewan</td>\n      <td>50.450080</td>\n      <td>-104.617800</td>\n      <td>1</td>\n    </tr>\n    <tr>\n      <th>19395</th>\n      <td>whistler medical marijuana corporation</td>\n      <td>whistler medical marijuana corporation is prod...</td>\n      <td>10.0</td>\n      <td>5894836.0</td>\n      <td>vancouver</td>\n      <td>british columbia</td>\n      <td>49.249660</td>\n      <td>-123.119340</td>\n      <td>1</td>\n    </tr>\n    <tr>\n      <th>20120</th>\n      <td>greenlife water</td>\n      <td>greenlife water is the leading provider of wat...</td>\n      <td>10.0</td>\n      <td>NaN</td>\n      <td>toronto</td>\n      <td>ontario</td>\n      <td>43.700110</td>\n      <td>-79.416300</td>\n      <td>1</td>\n    </tr>\n  </tbody>\n</table>\n</div>"
     },
     "execution_count": 227,
     "metadata": {},
     "output_type": "execute_result"
    }
   ],
   "source": [
    "df.loc[df[\"Filtro grosso\"]!=0]"
   ],
   "metadata": {
    "collapsed": false,
    "pycharm": {
     "name": "#%%\n"
    }
   }
  },
  {
   "cell_type": "code",
   "execution_count": 228,
   "outputs": [
    {
     "data": {
      "text/plain": "'our experienced technicians are highly-trained and qualified to perform a variety of different types of repairs. we use only the highest quality parts for all of our repairs. our electronics technicians are capable of interpreting blueprints of electronics equipments, lcd replacement services, water damage diagnostic and many more.'"
     },
     "execution_count": 228,
     "metadata": {},
     "output_type": "execute_result"
    }
   ],
   "source": [
    "df[\"description\"].loc[2211]"
   ],
   "metadata": {
    "collapsed": false,
    "pycharm": {
     "name": "#%%\n"
    }
   }
  },
  {
   "cell_type": "code",
   "execution_count": 248,
   "outputs": [],
   "source": [
    "ps = PorterStemmer()\n",
    "#for i in range(0,len(df[\"description\"])):\n",
    "i=2211\n",
    "non_stemmed_text = df[\"description\"].loc[i].split(\" \")\n",
    "stemmed_text = [ps.stem(word) for word in non_stemmed_text if not word in set(stopwords.words(\"english\"))]\n",
    "stemmed_text = \" \".join(stemmed_text)\n",
    "\n"
   ],
   "metadata": {
    "collapsed": false,
    "pycharm": {
     "name": "#%%\n"
    }
   }
  },
  {
   "cell_type": "code",
   "execution_count": 242,
   "outputs": [
    {
     "data": {
      "text/plain": "['our',\n 'experienced',\n 'technicians',\n 'are',\n 'highly-trained',\n 'and',\n 'qualified',\n 'to',\n 'perform',\n 'a',\n 'variety',\n 'of',\n 'different',\n 'types',\n 'of',\n 'repairs.',\n 'we',\n 'use',\n 'only',\n 'the',\n 'highest',\n 'quality',\n 'parts',\n 'for',\n 'all',\n 'of',\n 'our',\n 'repairs.',\n 'our',\n 'electronics',\n 'technicians',\n 'are',\n 'capable',\n 'of',\n 'interpreting',\n 'blueprints',\n 'of',\n 'electronics',\n 'equipments,',\n 'lcd',\n 'replacement',\n 'services,',\n 'water',\n 'damage',\n 'diagnostic',\n 'and',\n 'many',\n 'more.']"
     },
     "execution_count": 242,
     "metadata": {},
     "output_type": "execute_result"
    }
   ],
   "source": [
    "stemmed_text = \" \".join(stemmed_text)\n",
    "df[\"stemmed_text\"][2211] = stemmed_text"
   ],
   "metadata": {
    "collapsed": false,
    "pycharm": {
     "name": "#%%\n"
    }
   }
  },
  {
   "cell_type": "code",
   "execution_count": 246,
   "outputs": [],
   "source": [
    "stemmed_text = \" \".join(stemmed_text)"
   ],
   "metadata": {
    "collapsed": false,
    "pycharm": {
     "name": "#%%\n"
    }
   }
  },
  {
   "cell_type": "code",
   "execution_count": 249,
   "outputs": [
    {
     "ename": "KeyError",
     "evalue": "'stemmed_text'",
     "output_type": "error",
     "traceback": [
      "\u001B[0;31m---------------------------------------------------------------------------\u001B[0m",
      "\u001B[0;31mKeyError\u001B[0m                                  Traceback (most recent call last)",
      "File \u001B[0;32m~/.local/lib/python3.9/site-packages/pandas/core/indexes/base.py:3361\u001B[0m, in \u001B[0;36mIndex.get_loc\u001B[0;34m(self, key, method, tolerance)\u001B[0m\n\u001B[1;32m   3360\u001B[0m \u001B[38;5;28;01mtry\u001B[39;00m:\n\u001B[0;32m-> 3361\u001B[0m     \u001B[38;5;28;01mreturn\u001B[39;00m \u001B[38;5;28;43mself\u001B[39;49m\u001B[38;5;241;43m.\u001B[39;49m\u001B[43m_engine\u001B[49m\u001B[38;5;241;43m.\u001B[39;49m\u001B[43mget_loc\u001B[49m\u001B[43m(\u001B[49m\u001B[43mcasted_key\u001B[49m\u001B[43m)\u001B[49m\n\u001B[1;32m   3362\u001B[0m \u001B[38;5;28;01mexcept\u001B[39;00m \u001B[38;5;167;01mKeyError\u001B[39;00m \u001B[38;5;28;01mas\u001B[39;00m err:\n",
      "File \u001B[0;32m~/.local/lib/python3.9/site-packages/pandas/_libs/index.pyx:76\u001B[0m, in \u001B[0;36mpandas._libs.index.IndexEngine.get_loc\u001B[0;34m()\u001B[0m\n",
      "File \u001B[0;32m~/.local/lib/python3.9/site-packages/pandas/_libs/index.pyx:108\u001B[0m, in \u001B[0;36mpandas._libs.index.IndexEngine.get_loc\u001B[0;34m()\u001B[0m\n",
      "File \u001B[0;32mpandas/_libs/hashtable_class_helper.pxi:5198\u001B[0m, in \u001B[0;36mpandas._libs.hashtable.PyObjectHashTable.get_item\u001B[0;34m()\u001B[0m\n",
      "File \u001B[0;32mpandas/_libs/hashtable_class_helper.pxi:5206\u001B[0m, in \u001B[0;36mpandas._libs.hashtable.PyObjectHashTable.get_item\u001B[0;34m()\u001B[0m\n",
      "\u001B[0;31mKeyError\u001B[0m: 'stemmed_text'",
      "\nThe above exception was the direct cause of the following exception:\n",
      "\u001B[0;31mKeyError\u001B[0m                                  Traceback (most recent call last)",
      "Input \u001B[0;32mIn [249]\u001B[0m, in \u001B[0;36m<cell line: 1>\u001B[0;34m()\u001B[0m\n\u001B[0;32m----> 1\u001B[0m \u001B[43mdf\u001B[49m\u001B[43m[\u001B[49m\u001B[38;5;124;43m\"\u001B[39;49m\u001B[38;5;124;43mstemmed_text\u001B[39;49m\u001B[38;5;124;43m\"\u001B[39;49m\u001B[43m]\u001B[49m[\u001B[38;5;241m2211\u001B[39m] \u001B[38;5;241m=\u001B[39m stemmed_text\n",
      "File \u001B[0;32m~/.local/lib/python3.9/site-packages/pandas/core/frame.py:3458\u001B[0m, in \u001B[0;36mDataFrame.__getitem__\u001B[0;34m(self, key)\u001B[0m\n\u001B[1;32m   3456\u001B[0m \u001B[38;5;28;01mif\u001B[39;00m \u001B[38;5;28mself\u001B[39m\u001B[38;5;241m.\u001B[39mcolumns\u001B[38;5;241m.\u001B[39mnlevels \u001B[38;5;241m>\u001B[39m \u001B[38;5;241m1\u001B[39m:\n\u001B[1;32m   3457\u001B[0m     \u001B[38;5;28;01mreturn\u001B[39;00m \u001B[38;5;28mself\u001B[39m\u001B[38;5;241m.\u001B[39m_getitem_multilevel(key)\n\u001B[0;32m-> 3458\u001B[0m indexer \u001B[38;5;241m=\u001B[39m \u001B[38;5;28;43mself\u001B[39;49m\u001B[38;5;241;43m.\u001B[39;49m\u001B[43mcolumns\u001B[49m\u001B[38;5;241;43m.\u001B[39;49m\u001B[43mget_loc\u001B[49m\u001B[43m(\u001B[49m\u001B[43mkey\u001B[49m\u001B[43m)\u001B[49m\n\u001B[1;32m   3459\u001B[0m \u001B[38;5;28;01mif\u001B[39;00m is_integer(indexer):\n\u001B[1;32m   3460\u001B[0m     indexer \u001B[38;5;241m=\u001B[39m [indexer]\n",
      "File \u001B[0;32m~/.local/lib/python3.9/site-packages/pandas/core/indexes/base.py:3363\u001B[0m, in \u001B[0;36mIndex.get_loc\u001B[0;34m(self, key, method, tolerance)\u001B[0m\n\u001B[1;32m   3361\u001B[0m         \u001B[38;5;28;01mreturn\u001B[39;00m \u001B[38;5;28mself\u001B[39m\u001B[38;5;241m.\u001B[39m_engine\u001B[38;5;241m.\u001B[39mget_loc(casted_key)\n\u001B[1;32m   3362\u001B[0m     \u001B[38;5;28;01mexcept\u001B[39;00m \u001B[38;5;167;01mKeyError\u001B[39;00m \u001B[38;5;28;01mas\u001B[39;00m err:\n\u001B[0;32m-> 3363\u001B[0m         \u001B[38;5;28;01mraise\u001B[39;00m \u001B[38;5;167;01mKeyError\u001B[39;00m(key) \u001B[38;5;28;01mfrom\u001B[39;00m \u001B[38;5;21;01merr\u001B[39;00m\n\u001B[1;32m   3365\u001B[0m \u001B[38;5;28;01mif\u001B[39;00m is_scalar(key) \u001B[38;5;129;01mand\u001B[39;00m isna(key) \u001B[38;5;129;01mand\u001B[39;00m \u001B[38;5;129;01mnot\u001B[39;00m \u001B[38;5;28mself\u001B[39m\u001B[38;5;241m.\u001B[39mhasnans:\n\u001B[1;32m   3366\u001B[0m     \u001B[38;5;28;01mraise\u001B[39;00m \u001B[38;5;167;01mKeyError\u001B[39;00m(key)\n",
      "\u001B[0;31mKeyError\u001B[0m: 'stemmed_text'"
     ]
    }
   ],
   "source": [
    "df[\"stemmed_text\"][2211] = stemmed_text"
   ],
   "metadata": {
    "collapsed": false,
    "pycharm": {
     "name": "#%%\n"
    }
   }
  },
  {
   "cell_type": "code",
   "execution_count": 252,
   "outputs": [],
   "source": [
    "df[\"stemmed_text\"] = np.zeros(df.shape[0])"
   ],
   "metadata": {
    "collapsed": false,
    "pycharm": {
     "name": "#%%\n"
    }
   }
  },
  {
   "cell_type": "code",
   "execution_count": 254,
   "outputs": [
    {
     "name": "stderr",
     "output_type": "stream",
     "text": [
      "/tmp/ipykernel_8437/2752446983.py:1: SettingWithCopyWarning: \n",
      "A value is trying to be set on a copy of a slice from a DataFrame\n",
      "\n",
      "See the caveats in the documentation: https://pandas.pydata.org/pandas-docs/stable/user_guide/indexing.html#returning-a-view-versus-a-copy\n",
      "  df[\"stemmed_text\"][2211] = stemmed_text\n",
      "/home/daniel/.local/lib/python3.9/site-packages/pandas/core/indexing.py:1732: SettingWithCopyWarning: \n",
      "A value is trying to be set on a copy of a slice from a DataFrame\n",
      "\n",
      "See the caveats in the documentation: https://pandas.pydata.org/pandas-docs/stable/user_guide/indexing.html#returning-a-view-versus-a-copy\n",
      "  self._setitem_single_block(indexer, value, name)\n"
     ]
    }
   ],
   "source": [
    "df[\"stemmed_text\"][2211] = stemmed_text"
   ],
   "metadata": {
    "collapsed": false,
    "pycharm": {
     "name": "#%%\n"
    }
   }
  },
  {
   "cell_type": "code",
   "execution_count": null,
   "outputs": [],
   "source": [],
   "metadata": {
    "collapsed": false,
    "pycharm": {
     "name": "#%%\n"
    }
   }
  },
  {
   "cell_type": "code",
   "execution_count": null,
   "outputs": [],
   "source": [],
   "metadata": {
    "collapsed": false,
    "pycharm": {
     "name": "#%%\n"
    }
   }
  },
  {
   "cell_type": "code",
   "execution_count": null,
   "outputs": [],
   "source": [],
   "metadata": {
    "collapsed": false,
    "pycharm": {
     "name": "#%%\n"
    }
   }
  },
  {
   "cell_type": "code",
   "execution_count": null,
   "outputs": [],
   "source": [],
   "metadata": {
    "collapsed": false,
    "pycharm": {
     "name": "#%%\n"
    }
   }
  },
  {
   "cell_type": "code",
   "execution_count": null,
   "outputs": [],
   "source": [],
   "metadata": {
    "collapsed": false,
    "pycharm": {
     "name": "#%%\n"
    }
   }
  },
  {
   "cell_type": "code",
   "execution_count": null,
   "outputs": [],
   "source": [],
   "metadata": {
    "collapsed": false,
    "pycharm": {
     "name": "#%%\n"
    }
   }
  },
  {
   "cell_type": "code",
   "execution_count": null,
   "outputs": [],
   "source": [],
   "metadata": {
    "collapsed": false,
    "pycharm": {
     "name": "#%%\n"
    }
   }
  },
  {
   "cell_type": "code",
   "execution_count": null,
   "outputs": [],
   "source": [],
   "metadata": {
    "collapsed": false,
    "pycharm": {
     "name": "#%%\n"
    }
   }
  },
  {
   "cell_type": "code",
   "execution_count": null,
   "outputs": [],
   "source": [],
   "metadata": {
    "collapsed": false,
    "pycharm": {
     "name": "#%%\n"
    }
   }
  },
  {
   "cell_type": "code",
   "execution_count": null,
   "outputs": [],
   "source": [],
   "metadata": {
    "collapsed": false,
    "pycharm": {
     "name": "#%%\n"
    }
   }
  },
  {
   "cell_type": "code",
   "execution_count": null,
   "outputs": [],
   "source": [],
   "metadata": {
    "collapsed": false,
    "pycharm": {
     "name": "#%%\n"
    }
   }
  },
  {
   "cell_type": "code",
   "execution_count": null,
   "outputs": [],
   "source": [],
   "metadata": {
    "collapsed": false,
    "pycharm": {
     "name": "#%%\n"
    }
   }
  },
  {
   "cell_type": "code",
   "execution_count": null,
   "outputs": [],
   "source": [],
   "metadata": {
    "collapsed": false,
    "pycharm": {
     "name": "#%%\n"
    }
   }
  },
  {
   "cell_type": "code",
   "execution_count": null,
   "outputs": [],
   "source": [],
   "metadata": {
    "collapsed": false,
    "pycharm": {
     "name": "#%%\n"
    }
   }
  },
  {
   "cell_type": "code",
   "execution_count": null,
   "outputs": [],
   "source": [],
   "metadata": {
    "collapsed": false,
    "pycharm": {
     "name": "#%%\n"
    }
   }
  },
  {
   "cell_type": "code",
   "execution_count": null,
   "outputs": [],
   "source": [],
   "metadata": {
    "collapsed": false,
    "pycharm": {
     "name": "#%%\n"
    }
   }
  },
  {
   "cell_type": "code",
   "execution_count": null,
   "outputs": [],
   "source": [],
   "metadata": {
    "collapsed": false,
    "pycharm": {
     "name": "#%%\n"
    }
   }
  },
  {
   "cell_type": "code",
   "execution_count": null,
   "outputs": [],
   "source": [],
   "metadata": {
    "collapsed": false,
    "pycharm": {
     "name": "#%%\n"
    }
   }
  },
  {
   "cell_type": "code",
   "execution_count": null,
   "outputs": [],
   "source": [],
   "metadata": {
    "collapsed": false,
    "pycharm": {
     "name": "#%%\n"
    }
   }
  },
  {
   "cell_type": "code",
   "execution_count": null,
   "outputs": [],
   "source": [],
   "metadata": {
    "collapsed": false,
    "pycharm": {
     "name": "#%%\n"
    }
   }
  },
  {
   "cell_type": "code",
   "execution_count": null,
   "outputs": [],
   "source": [],
   "metadata": {
    "collapsed": false,
    "pycharm": {
     "name": "#%%\n"
    }
   }
  },
  {
   "cell_type": "code",
   "execution_count": null,
   "outputs": [],
   "source": [],
   "metadata": {
    "collapsed": false,
    "pycharm": {
     "name": "#%%\n"
    }
   }
  },
  {
   "cell_type": "code",
   "execution_count": null,
   "outputs": [],
   "source": [],
   "metadata": {
    "collapsed": false,
    "pycharm": {
     "name": "#%%\n"
    }
   }
  },
  {
   "cell_type": "code",
   "execution_count": null,
   "outputs": [],
   "source": [],
   "metadata": {
    "collapsed": false,
    "pycharm": {
     "name": "#%%\n"
    }
   }
  },
  {
   "cell_type": "code",
   "execution_count": null,
   "outputs": [],
   "source": [],
   "metadata": {
    "collapsed": false,
    "pycharm": {
     "name": "#%%\n"
    }
   }
  },
  {
   "cell_type": "code",
   "execution_count": null,
   "outputs": [],
   "source": [],
   "metadata": {
    "collapsed": false,
    "pycharm": {
     "name": "#%%\n"
    }
   }
  },
  {
   "cell_type": "code",
   "execution_count": null,
   "outputs": [],
   "source": [],
   "metadata": {
    "collapsed": false,
    "pycharm": {
     "name": "#%%\n"
    }
   }
  },
  {
   "cell_type": "code",
   "execution_count": null,
   "outputs": [],
   "source": [],
   "metadata": {
    "collapsed": false,
    "pycharm": {
     "name": "#%%\n"
    }
   }
  },
  {
   "cell_type": "code",
   "execution_count": null,
   "outputs": [],
   "source": [],
   "metadata": {
    "collapsed": false,
    "pycharm": {
     "name": "#%%\n"
    }
   }
  },
  {
   "cell_type": "code",
   "execution_count": null,
   "outputs": [],
   "source": [],
   "metadata": {
    "collapsed": false,
    "pycharm": {
     "name": "#%%\n"
    }
   }
  },
  {
   "cell_type": "code",
   "execution_count": null,
   "outputs": [],
   "source": [],
   "metadata": {
    "collapsed": false,
    "pycharm": {
     "name": "#%%\n"
    }
   }
  },
  {
   "cell_type": "code",
   "execution_count": null,
   "outputs": [],
   "source": [],
   "metadata": {
    "collapsed": false,
    "pycharm": {
     "name": "#%%\n"
    }
   }
  },
  {
   "cell_type": "code",
   "execution_count": null,
   "outputs": [],
   "source": [],
   "metadata": {
    "collapsed": false,
    "pycharm": {
     "name": "#%%\n"
    }
   }
  },
  {
   "cell_type": "code",
   "execution_count": null,
   "outputs": [],
   "source": [],
   "metadata": {
    "collapsed": false,
    "pycharm": {
     "name": "#%%\n"
    }
   }
  },
  {
   "cell_type": "code",
   "execution_count": null,
   "outputs": [],
   "source": [],
   "metadata": {
    "collapsed": false,
    "pycharm": {
     "name": "#%%\n"
    }
   }
  },
  {
   "cell_type": "code",
   "execution_count": null,
   "outputs": [],
   "source": [],
   "metadata": {
    "collapsed": false,
    "pycharm": {
     "name": "#%%\n"
    }
   }
  },
  {
   "cell_type": "code",
   "execution_count": null,
   "outputs": [],
   "source": [],
   "metadata": {
    "collapsed": false,
    "pycharm": {
     "name": "#%%\n"
    }
   }
  },
  {
   "cell_type": "code",
   "execution_count": null,
   "outputs": [],
   "source": [],
   "metadata": {
    "collapsed": false,
    "pycharm": {
     "name": "#%%\n"
    }
   }
  },
  {
   "cell_type": "code",
   "execution_count": null,
   "outputs": [],
   "source": [],
   "metadata": {
    "collapsed": false,
    "pycharm": {
     "name": "#%%\n"
    }
   }
  },
  {
   "cell_type": "code",
   "execution_count": null,
   "outputs": [],
   "source": [],
   "metadata": {
    "collapsed": false,
    "pycharm": {
     "name": "#%%\n"
    }
   }
  }
 ],
 "metadata": {
  "kernelspec": {
   "display_name": "Python 3",
   "language": "python",
   "name": "python3"
  },
  "language_info": {
   "codemirror_mode": {
    "name": "ipython",
    "version": 2
   },
   "file_extension": ".py",
   "mimetype": "text/x-python",
   "name": "python",
   "nbconvert_exporter": "python",
   "pygments_lexer": "ipython2",
   "version": "2.7.6"
  }
 },
 "nbformat": 4,
 "nbformat_minor": 0
}