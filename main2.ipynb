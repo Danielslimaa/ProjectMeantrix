{
 "cells": [
  {
   "cell_type": "code",
   "execution_count": 5,
   "metadata": {
    "collapsed": true
   },
   "outputs": [],
   "source": [
    "import numpy as np\n",
    "import pandas as pd\n",
    "import sklearn\n",
    "from sklearn.feature_extraction.text import CountVectorizer, TfidfVectorizer\n",
    "from sklearn.decomposition import NMF\n",
    "\n",
    "target = \"solutions on waste and water, Improve water quality and water efficiency use, water contamination, water for human consumption, water resources\".split()\n",
    "\n",
    "#Lendo a base o arquivo CSV:\n",
    "df = pd.read_csv('canada_amostra.csv')"
   ]
  },
  {
   "cell_type": "markdown",
   "metadata": {
    "pycharm": {
     "name": "#%% md\n"
    }
   },
   "source": [
    "Definindo a modelo e suas features. Para cada descrição, nós vamos computar os valores TF-IDF com no máximo 300 características mais relevantes"
   ]
  },
  {
   "cell_type": "code",
   "execution_count": null,
   "metadata": {
    "pycharm": {
     "is_executing": true,
     "name": "#%%\n"
    }
   },
   "outputs": [],
   "source": [
    "vec = TfidfVectorizer(max_features=300, stop_words=\"english\", max_df=0.95, min_df=2)\n",
    "features = vec.fit(df.description)\n",
    "features = vec.transform(df.description)"
   ]
  },
  {
   "cell_type": "markdown",
   "metadata": {
    "pycharm": {
     "name": "#%% md\n"
    }
   },
   "source": [
    "Vamos criar uma instância de NMF, \"Non Negative Matrix Factorization\", supondo que as features possam ser agrupadas em 20 tópicos"
   ]
  },
  {
   "cell_type": "code",
   "execution_count": 19,
   "metadata": {
    "pycharm": {
     "name": "#%%\n"
    }
   },
   "outputs": [
    {
     "name": "stderr",
     "output_type": "stream",
     "text": [
      "/home/daniel/.local/lib/python3.9/site-packages/sklearn/decomposition/_nmf.py:289: FutureWarning: The 'init' value, when 'init=None' and n_components is less than n_samples and n_features, will be changed from 'nndsvd' to 'nndsvda' in 1.1 (renaming of 0.26).\n",
      "  warnings.warn(\n"
     ]
    },
    {
     "data": {
      "text/plain": [
       "NMF(n_components=20)"
      ]
     },
     "execution_count": 19,
     "metadata": {},
     "output_type": "execute_result"
    }
   ],
   "source": [
    "from sklearn.decomposition import NMF\n",
    "\n",
    "n_topicos = 20 #Número de tópicos\n",
    "\n",
    "cls = NMF(n_components=n_topicos, random_state=None)\n",
    "cls.fit(features)"
   ]
  },
  {
   "cell_type": "code",
   "execution_count": 21,
   "metadata": {
    "pycharm": {
     "name": "#%%\n"
    }
   },
   "outputs": [
    {
     "data": {
      "text/plain": [
       "array([16])"
      ]
     },
     "execution_count": 21,
     "metadata": {},
     "output_type": "execute_result"
    }
   ],
   "source": [
    "target = \"solutions on waste and water\"\n",
    "target_list = target.split(\",\")\n",
    "cls.transform(vec.transform(target_list)).argsort(axis=1)[:,-1]"
   ]
  },
  {
   "cell_type": "markdown",
   "metadata": {
    "pycharm": {
     "name": "#%% md\n"
    }
   },
   "source": [
    "Achando a correspondência entre tema e a melhor descrição e, consequentemente, a melhor empresa. Vamos usar o algorítmo \"Próximo vizinho\" (Nearest Neighbor)"
   ]
  },
  {
   "cell_type": "code",
   "execution_count": 69,
   "metadata": {
    "pycharm": {
     "name": "#%%\n"
    }
   },
   "outputs": [],
   "source": [
    "vec = TfidfVectorizer(max_features=5000, stop_words=\"english\", max_df=0.90, min_df=2)\n",
    "features = vec.fit(df.description)\n",
    "features = vec.transform(df.description)"
   ]
  },
  {
   "cell_type": "code",
   "execution_count": 70,
   "metadata": {
    "pycharm": {
     "name": "#%%\n"
    }
   },
   "outputs": [
    {
     "data": {
      "text/plain": [
       "NearestNeighbors(metric='cosine', n_neighbors=20)"
      ]
     },
     "execution_count": 70,
     "metadata": {},
     "output_type": "execute_result"
    }
   ],
   "source": [
    "from sklearn.neighbors import NearestNeighbors\n",
    "knn = NearestNeighbors(n_neighbors=20, metric='cosine')\n",
    "knn.fit(features)"
   ]
  },
  {
   "cell_type": "code",
   "execution_count": 71,
   "metadata": {
    "pycharm": {
     "name": "#%%\n"
    }
   },
   "outputs": [
    {
     "data": {
      "text/plain": [
       "array([[    0, 12034, 11630,  4878,  3907, 13638,  7105,  6093,  4817,\n",
       "         5023,  6755,  8503,  3881,   691,  4777,  3884,  8483,   786,\n",
       "        19999,  5873]])"
      ]
     },
     "execution_count": 71,
     "metadata": {},
     "output_type": "execute_result"
    }
   ],
   "source": [
    "knn.kneighbors(features[0:1], return_distance=False)"
   ]
  },
  {
   "cell_type": "code",
   "execution_count": 564,
   "metadata": {
    "pycharm": {
     "name": "#%%\n"
    }
   },
   "outputs": [
    {
     "name": "stdout",
     "output_type": "stream",
     "text": [
      "Tema de busca =  'solutions on waste and water' \n",
      "\n",
      "Distância KNN = 0.457. Neighbor idx =  11376\n",
      "Nome da empresa: Aqua air 247. Cidade: Kelowna\n",
      "----------------------------------------------------------------------\n",
      "Distância KNN = 0.457. Neighbor idx =  387\n",
      "Nome da empresa: Aqua air 247 . Cidade: Kelowna\n",
      "----------------------------------------------------------------------\n",
      "Distância KNN = 0.527. Neighbor idx =  14902\n",
      "Nome da empresa: Tabl'eau water. Cidade: Toronto\n",
      "----------------------------------------------------------------------\n",
      "Distância KNN = 0.527. Neighbor idx =  14671\n",
      "Nome da empresa: Fine recycling & disposal ltd. Cidade: Toronto\n",
      "----------------------------------------------------------------------\n",
      "Distância KNN = 0.531. Neighbor idx =  18582\n",
      "Nome da empresa: Island water technologies. Cidade: Toronto\n",
      "----------------------------------------------------------------------\n",
      "Distância KNN = 0.558. Neighbor idx =  18135\n",
      "Nome da empresa: New earth waste services. Cidade: Calgary\n",
      "----------------------------------------------------------------------\n",
      "Distância KNN = 0.558. Neighbor idx =  5761\n",
      "Nome da empresa: Clean wave products international. Cidade: Calgary\n",
      "----------------------------------------------------------------------\n",
      "Distância KNN = 0.56. Neighbor idx =  12201\n",
      "Nome da empresa: Roshan water solutions. Cidade: Calgary\n",
      "----------------------------------------------------------------------\n",
      "Distância KNN = 0.579. Neighbor idx =  638\n",
      "Nome da empresa: Taphax. Cidade: Kitchener\n",
      "----------------------------------------------------------------------\n",
      "Distância KNN = 0.587. Neighbor idx =  20120\n",
      "Nome da empresa: Greenlife water. Cidade: Toronto\n",
      "----------------------------------------------------------------------\n",
      "Distância KNN = 0.6. Neighbor idx =  17037\n",
      "Nome da empresa: Mangrove water technologies. Cidade: Vancouver\n",
      "----------------------------------------------------------------------\n",
      "Distância KNN = 0.6. Neighbor idx =  20064\n",
      "Nome da empresa: Earth smart solutions. Cidade: Calgary\n",
      "----------------------------------------------------------------------\n",
      "Distância KNN = 0.603. Neighbor idx =  4203\n",
      "Nome da empresa: Kns environmental services. Cidade: Brantford\n",
      "----------------------------------------------------------------------\n",
      "Distância KNN = 0.606. Neighbor idx =  17432\n",
      "Nome da empresa: Waste robotics. Cidade: Toronto\n",
      "----------------------------------------------------------------------\n",
      "Distância KNN = 0.615. Neighbor idx =  4311\n",
      "Nome da empresa: Zero waste market. Cidade: Vancouver\n",
      "----------------------------------------------------------------------\n",
      "Distância KNN = 0.62. Neighbor idx =  14567\n",
      "Nome da empresa: Bin solutions. Cidade: Toronto\n",
      "----------------------------------------------------------------------\n",
      "Distância KNN = 0.622. Neighbor idx =  2270\n",
      "Nome da empresa: Canadian comfort home services. Cidade: Toronto\n",
      "----------------------------------------------------------------------\n",
      "Distância KNN = 0.623. Neighbor idx =  11952\n",
      "Nome da empresa: Cann forecast. Cidade: Toronto\n",
      "----------------------------------------------------------------------\n",
      "Distância KNN = 0.631. Neighbor idx =  17870\n",
      "Nome da empresa: Acuva technologies. Cidade: Vancouver\n",
      "----------------------------------------------------------------------\n",
      "Distância KNN = 0.634. Neighbor idx =  7447\n",
      "Nome da empresa: Sustainable waste solutions. Cidade: Calgary\n",
      "----------------------------------------------------------------------\n",
      "====================================================================================================\n",
      "\n",
      "Tema de busca =  'Improve water quality and water efficiency use' \n",
      "\n",
      "Distância KNN = 0.383. Neighbor idx =  14902\n",
      "Nome da empresa: Tabl'eau water. Cidade: Toronto\n",
      "----------------------------------------------------------------------\n",
      "Distância KNN = 0.439. Neighbor idx =  387\n",
      "Nome da empresa: Aqua air 247 . Cidade: Kelowna\n",
      "----------------------------------------------------------------------\n",
      "Distância KNN = 0.439. Neighbor idx =  11376\n",
      "Nome da empresa: Aqua air 247. Cidade: Kelowna\n",
      "----------------------------------------------------------------------\n",
      "Distância KNN = 0.445. Neighbor idx =  5761\n",
      "Nome da empresa: Clean wave products international. Cidade: Calgary\n",
      "----------------------------------------------------------------------\n",
      "Distância KNN = 0.468. Neighbor idx =  20120\n",
      "Nome da empresa: Greenlife water. Cidade: Toronto\n",
      "----------------------------------------------------------------------\n",
      "Distância KNN = 0.525. Neighbor idx =  2270\n",
      "Nome da empresa: Canadian comfort home services. Cidade: Toronto\n",
      "----------------------------------------------------------------------\n",
      "Distância KNN = 0.527. Neighbor idx =  11952\n",
      "Nome da empresa: Cann forecast. Cidade: Toronto\n",
      "----------------------------------------------------------------------\n",
      "Distância KNN = 0.537. Neighbor idx =  17870\n",
      "Nome da empresa: Acuva technologies. Cidade: Vancouver\n",
      "----------------------------------------------------------------------\n",
      "Distância KNN = 0.537. Neighbor idx =  12201\n",
      "Nome da empresa: Roshan water solutions. Cidade: Calgary\n",
      "----------------------------------------------------------------------\n",
      "Distância KNN = 0.549. Neighbor idx =  10821\n",
      "Nome da empresa: Watrhub. Cidade: Toronto\n",
      "----------------------------------------------------------------------\n",
      "Distância KNN = 0.553. Neighbor idx =  4855\n",
      "Nome da empresa: Nutra one. Cidade: Montreal\n",
      "----------------------------------------------------------------------\n",
      "Distância KNN = 0.564. Neighbor idx =  6242\n",
      "Nome da empresa: Ubios.ai. Cidade: Montreal\n",
      "----------------------------------------------------------------------\n",
      "Distância KNN = 0.569. Neighbor idx =  1671\n",
      "Nome da empresa: Ontario safety standards. Cidade: Ottawa\n",
      "----------------------------------------------------------------------\n",
      "Distância KNN = 0.571. Neighbor idx =  11822\n",
      "Nome da empresa: Fer-pal infrastructure. Cidade: Toronto\n",
      "----------------------------------------------------------------------\n",
      "Distância KNN = 0.574. Neighbor idx =  11998\n",
      "Nome da empresa: Demizine technology. Cidade: Vancouver\n",
      "----------------------------------------------------------------------\n",
      "Distância KNN = 0.581. Neighbor idx =  15603\n",
      "Nome da empresa: Aqua terra water management. Cidade: Calgary\n",
      "----------------------------------------------------------------------\n",
      "Distância KNN = 0.584. Neighbor idx =  13601\n",
      "Nome da empresa: Smart watering systems. Cidade: Toronto\n",
      "----------------------------------------------------------------------\n",
      "Distância KNN = 0.591. Neighbor idx =  19888\n",
      "Nome da empresa: Twothirds water inc.. Cidade: Vancouver\n",
      "----------------------------------------------------------------------\n",
      "Distância KNN = 0.592. Neighbor idx =  18037\n",
      "Nome da empresa: Homebeaver. Cidade: Toronto\n",
      "----------------------------------------------------------------------\n",
      "Distância KNN = 0.596. Neighbor idx =  5522\n",
      "Nome da empresa: Sanzfield technologies. Cidade: Toronto\n",
      "----------------------------------------------------------------------\n",
      "====================================================================================================\n",
      "\n",
      "Tema de busca =  'water contamination' \n",
      "\n",
      "Distância KNN = 0.241. Neighbor idx =  14902\n",
      "Nome da empresa: Tabl'eau water. Cidade: Toronto\n",
      "----------------------------------------------------------------------\n",
      "Distância KNN = 0.283. Neighbor idx =  11376\n",
      "Nome da empresa: Aqua air 247. Cidade: Kelowna\n",
      "----------------------------------------------------------------------\n",
      "Distância KNN = 0.283. Neighbor idx =  387\n",
      "Nome da empresa: Aqua air 247 . Cidade: Kelowna\n",
      "----------------------------------------------------------------------\n",
      "Distância KNN = 0.291. Neighbor idx =  5761\n",
      "Nome da empresa: Clean wave products international. Cidade: Calgary\n",
      "----------------------------------------------------------------------\n",
      "Distância KNN = 0.337. Neighbor idx =  20120\n",
      "Nome da empresa: Greenlife water. Cidade: Toronto\n",
      "----------------------------------------------------------------------\n",
      "Distância KNN = 0.393. Neighbor idx =  2270\n",
      "Nome da empresa: Canadian comfort home services. Cidade: Toronto\n",
      "----------------------------------------------------------------------\n",
      "Distância KNN = 0.395. Neighbor idx =  11952\n",
      "Nome da empresa: Cann forecast. Cidade: Toronto\n",
      "----------------------------------------------------------------------\n",
      "Distância KNN = 0.408. Neighbor idx =  17870\n",
      "Nome da empresa: Acuva technologies. Cidade: Vancouver\n",
      "----------------------------------------------------------------------\n",
      "Distância KNN = 0.409. Neighbor idx =  12201\n",
      "Nome da empresa: Roshan water solutions. Cidade: Calgary\n",
      "----------------------------------------------------------------------\n",
      "Distância KNN = 0.429. Neighbor idx =  4855\n",
      "Nome da empresa: Nutra one. Cidade: Montreal\n",
      "----------------------------------------------------------------------\n",
      "Distância KNN = 0.443. Neighbor idx =  6242\n",
      "Nome da empresa: Ubios.ai. Cidade: Montreal\n",
      "----------------------------------------------------------------------\n",
      "Distância KNN = 0.449. Neighbor idx =  1671\n",
      "Nome da empresa: Ontario safety standards. Cidade: Ottawa\n",
      "----------------------------------------------------------------------\n",
      "Distância KNN = 0.464. Neighbor idx =  15603\n",
      "Nome da empresa: Aqua terra water management. Cidade: Calgary\n",
      "----------------------------------------------------------------------\n",
      "Distância KNN = 0.473. Neighbor idx =  11998\n",
      "Nome da empresa: Demizine technology. Cidade: Vancouver\n",
      "----------------------------------------------------------------------\n",
      "Distância KNN = 0.475. Neighbor idx =  10821\n",
      "Nome da empresa: Watrhub. Cidade: Toronto\n",
      "----------------------------------------------------------------------\n",
      "Distância KNN = 0.476. Neighbor idx =  11822\n",
      "Nome da empresa: Fer-pal infrastructure. Cidade: Toronto\n",
      "----------------------------------------------------------------------\n",
      "Distância KNN = 0.478. Neighbor idx =  19888\n",
      "Nome da empresa: Twothirds water inc.. Cidade: Vancouver\n",
      "----------------------------------------------------------------------\n",
      "Distância KNN = 0.484. Neighbor idx =  5522\n",
      "Nome da empresa: Sanzfield technologies. Cidade: Toronto\n",
      "----------------------------------------------------------------------\n",
      "Distância KNN = 0.492. Neighbor idx =  11890\n",
      "Nome da empresa: 2s water incorporated. Cidade: Calgary\n",
      "----------------------------------------------------------------------\n",
      "Distância KNN = 0.502. Neighbor idx =  13601\n",
      "Nome da empresa: Smart watering systems. Cidade: Toronto\n",
      "----------------------------------------------------------------------\n",
      "====================================================================================================\n",
      "\n",
      "Tema de busca =  'water for human consumption' \n",
      "\n",
      "Distância KNN = 0.442. Neighbor idx =  638\n",
      "Nome da empresa: Taphax. Cidade: Kitchener\n",
      "----------------------------------------------------------------------\n",
      "Distância KNN = 0.581. Neighbor idx =  14902\n",
      "Nome da empresa: Tabl'eau water. Cidade: Toronto\n",
      "----------------------------------------------------------------------\n",
      "Distância KNN = 0.583. Neighbor idx =  5522\n",
      "Nome da empresa: Sanzfield technologies. Cidade: Toronto\n",
      "----------------------------------------------------------------------\n",
      "Distância KNN = 0.604. Neighbor idx =  11376\n",
      "Nome da empresa: Aqua air 247. Cidade: Kelowna\n",
      "----------------------------------------------------------------------\n",
      "Distância KNN = 0.604. Neighbor idx =  387\n",
      "Nome da empresa: Aqua air 247 . Cidade: Kelowna\n",
      "----------------------------------------------------------------------\n",
      "Distância KNN = 0.608. Neighbor idx =  5761\n",
      "Nome da empresa: Clean wave products international. Cidade: Calgary\n",
      "----------------------------------------------------------------------\n",
      "Distância KNN = 0.622. Neighbor idx =  11998\n",
      "Nome da empresa: Demizine technology. Cidade: Vancouver\n",
      "----------------------------------------------------------------------\n",
      "Distância KNN = 0.634. Neighbor idx =  20120\n",
      "Nome da empresa: Greenlife water. Cidade: Toronto\n",
      "----------------------------------------------------------------------\n",
      "Distância KNN = 0.66. Neighbor idx =  18037\n",
      "Nome da empresa: Homebeaver. Cidade: Toronto\n",
      "----------------------------------------------------------------------\n",
      "Distância KNN = 0.665. Neighbor idx =  2270\n",
      "Nome da empresa: Canadian comfort home services. Cidade: Toronto\n",
      "----------------------------------------------------------------------\n",
      "Distância KNN = 0.666. Neighbor idx =  11952\n",
      "Nome da empresa: Cann forecast. Cidade: Toronto\n",
      "----------------------------------------------------------------------\n",
      "Distância KNN = 0.673. Neighbor idx =  17870\n",
      "Nome da empresa: Acuva technologies. Cidade: Vancouver\n",
      "----------------------------------------------------------------------\n",
      "Distância KNN = 0.673. Neighbor idx =  12201\n",
      "Nome da empresa: Roshan water solutions. Cidade: Calgary\n",
      "----------------------------------------------------------------------\n",
      "Distância KNN = 0.674. Neighbor idx =  17303\n",
      "Nome da empresa: Midgard insect farm. Cidade: Toronto\n",
      "----------------------------------------------------------------------\n",
      "Distância KNN = 0.685. Neighbor idx =  4855\n",
      "Nome da empresa: Nutra one. Cidade: Montreal\n",
      "----------------------------------------------------------------------\n",
      "Distância KNN = 0.692. Neighbor idx =  4220\n",
      "Nome da empresa: Brave technology coop. Cidade: Vancouver\n",
      "----------------------------------------------------------------------\n",
      "Distância KNN = 0.692. Neighbor idx =  6242\n",
      "Nome da empresa: Ubios.ai. Cidade: Montreal\n",
      "----------------------------------------------------------------------\n",
      "Distância KNN = 0.696. Neighbor idx =  1671\n",
      "Nome da empresa: Ontario safety standards. Cidade: Ottawa\n",
      "----------------------------------------------------------------------\n",
      "Distância KNN = 0.704. Neighbor idx =  15603\n",
      "Nome da empresa: Aqua terra water management. Cidade: Calgary\n",
      "----------------------------------------------------------------------\n",
      "Distância KNN = 0.71. Neighbor idx =  10821\n",
      "Nome da empresa: Watrhub. Cidade: Toronto\n",
      "----------------------------------------------------------------------\n",
      "====================================================================================================\n",
      "\n",
      "Tema de busca =  'water resources' \n",
      "\n",
      "Distância KNN = 0.407. Neighbor idx =  14902\n",
      "Nome da empresa: Tabl'eau water. Cidade: Toronto\n",
      "----------------------------------------------------------------------\n",
      "Distância KNN = 0.439. Neighbor idx =  387\n",
      "Nome da empresa: Aqua air 247 . Cidade: Kelowna\n",
      "----------------------------------------------------------------------\n",
      "Distância KNN = 0.439. Neighbor idx =  11376\n",
      "Nome da empresa: Aqua air 247. Cidade: Kelowna\n",
      "----------------------------------------------------------------------\n",
      "Distância KNN = 0.446. Neighbor idx =  5761\n",
      "Nome da empresa: Clean wave products international. Cidade: Calgary\n",
      "----------------------------------------------------------------------\n",
      "Distância KNN = 0.481. Neighbor idx =  20120\n",
      "Nome da empresa: Greenlife water. Cidade: Toronto\n",
      "----------------------------------------------------------------------\n",
      "Distância KNN = 0.525. Neighbor idx =  2270\n",
      "Nome da empresa: Canadian comfort home services. Cidade: Toronto\n",
      "----------------------------------------------------------------------\n",
      "Distância KNN = 0.527. Neighbor idx =  11952\n",
      "Nome da empresa: Cann forecast. Cidade: Toronto\n",
      "----------------------------------------------------------------------\n",
      "Distância KNN = 0.537. Neighbor idx =  17870\n",
      "Nome da empresa: Acuva technologies. Cidade: Vancouver\n",
      "----------------------------------------------------------------------\n",
      "Distância KNN = 0.538. Neighbor idx =  12201\n",
      "Nome da empresa: Roshan water solutions. Cidade: Calgary\n",
      "----------------------------------------------------------------------\n",
      "Distância KNN = 0.554. Neighbor idx =  4855\n",
      "Nome da empresa: Nutra one. Cidade: Montreal\n",
      "----------------------------------------------------------------------\n",
      "Distância KNN = 0.564. Neighbor idx =  6242\n",
      "Nome da empresa: Ubios.ai. Cidade: Montreal\n",
      "----------------------------------------------------------------------\n",
      "Distância KNN = 0.569. Neighbor idx =  1671\n",
      "Nome da empresa: Ontario safety standards. Cidade: Ottawa\n",
      "----------------------------------------------------------------------\n",
      "Distância KNN = 0.581. Neighbor idx =  15603\n",
      "Nome da empresa: Aqua terra water management. Cidade: Calgary\n",
      "----------------------------------------------------------------------\n",
      "Distância KNN = 0.588. Neighbor idx =  11998\n",
      "Nome da empresa: Demizine technology. Cidade: Vancouver\n",
      "----------------------------------------------------------------------\n",
      "Distância KNN = 0.59. Neighbor idx =  10821\n",
      "Nome da empresa: Watrhub. Cidade: Toronto\n",
      "----------------------------------------------------------------------\n",
      "Distância KNN = 0.59. Neighbor idx =  11822\n",
      "Nome da empresa: Fer-pal infrastructure. Cidade: Toronto\n",
      "----------------------------------------------------------------------\n",
      "Distância KNN = 0.592. Neighbor idx =  19888\n",
      "Nome da empresa: Twothirds water inc.. Cidade: Vancouver\n",
      "----------------------------------------------------------------------\n",
      "Distância KNN = 0.597. Neighbor idx =  5522\n",
      "Nome da empresa: Sanzfield technologies. Cidade: Toronto\n",
      "----------------------------------------------------------------------\n",
      "Distância KNN = 0.603. Neighbor idx =  11890\n",
      "Nome da empresa: 2s water incorporated. Cidade: Calgary\n",
      "----------------------------------------------------------------------\n",
      "Distância KNN = 0.611. Neighbor idx =  13601\n",
      "Nome da empresa: Smart watering systems. Cidade: Toronto\n",
      "----------------------------------------------------------------------\n",
      "====================================================================================================\n",
      "\n"
     ]
    }
   ],
   "source": [
    "target = \"solutions on waste and water,Improve water quality and water efficiency use,water contamination,water for human consumption,water resources\"\n",
    "\n",
    "target_list = target.split(\",\")\n",
    "\n",
    "temas = target_list#[\"any recommendations for good ftp sites?\", \"i need to clean my car\"]\n",
    "input_features = vec.transform(temas)\n",
    "\n",
    "D, N = knn.kneighbors(input_features, n_neighbors=20, return_distance=True)\n",
    "\n",
    "df_respostas = pd.DataFrame\n",
    "\n",
    "lista_temas = []\n",
    "nomes = []\n",
    "cidades = []\n",
    "empregados = []\n",
    "aportes = []\n",
    "lista_lat = []\n",
    "lista_lng = []\n",
    "\n",
    "\n",
    "\n",
    "for tema, distances, neighbors in zip(temas, D, N):\n",
    "    print(\"Tema de busca = \" + \" '\" + str(tema) + \"'\", \"\\n\")\n",
    "    for dist, neighbor_idx in zip(distances, neighbors):\n",
    "\n",
    "        nome_da_empresa = df.name.loc[neighbor_idx].capitalize()\n",
    "        cidade_da_empresa = df.city.loc[neighbor_idx].capitalize()\n",
    "        numero_de_empregados = df.employees.loc[neighbor_idx]\n",
    "        aporte_da_empresa = df.total_funding.loc[neighbor_idx]\n",
    "        lat = df.lat.loc[neighbor_idx]\n",
    "        lng = df.lng.loc[neighbor_idx]\n",
    "\n",
    "\n",
    "        lista_temas.insert(len(lista_temas),tema)\n",
    "        nomes.insert(len(nomes),nome_da_empresa)\n",
    "        cidades.insert(len(cidades),cidade_da_empresa)\n",
    "        empregados.insert(len(empregados),numero_de_empregados)\n",
    "        aportes.insert(len(aportes),aporte_da_empresa)\n",
    "        lista_lat.insert(len(lista_lat), lat)\n",
    "        lista_lng.insert(len(lista_lng), lng)\n",
    "\n",
    "        nova_linha = [{\"tema\":tema,\"nome\":nome_da_empresa,\"cidade\":cidade_da_empresa,\"empregados\":numero_de_empregados,\"aporte\":aporte_da_empresa}]\n",
    "        #df_respostas = df_respostas.append(nova_linha, ignore_index=True)\n",
    "\n",
    "        print(\"Distância KNN = \" + str(round(dist,3)) + \". Neighbor idx = \", neighbor_idx)\n",
    "        print(\"Nome da empresa: \" + nome_da_empresa + \". Cidade: \" + cidade_da_empresa)\n",
    "\n",
    "\n",
    "        print(\"-\"*70)\n",
    "    print(\"=\"*100)\n",
    "    print()\n",
    "\n",
    "#Cria um dataframe de todas as respostas\n",
    "data = {\"tema\":lista_temas, \"nome\":nomes, \"cidade\":cidades, \"empregados\":empregados, \"aporte\":aportes, \"X\": lista_lng, \"Y\": lista_lat}\n",
    "df_respostas = pd.DataFrame(data)"
   ]
  },
  {
   "cell_type": "code",
   "execution_count": 565,
   "metadata": {
    "pycharm": {
     "name": "#%%\n"
    }
   },
   "outputs": [
    {
     "data": {
      "text/plain": "(100, 7)"
     },
     "execution_count": 565,
     "metadata": {},
     "output_type": "execute_result"
    }
   ],
   "source": [
    "df_respostas.shape"
   ]
  },
  {
   "cell_type": "code",
   "execution_count": 498,
   "metadata": {
    "pycharm": {
     "name": "#%%\n"
    }
   },
   "outputs": [
    {
     "data": {
      "text/plain": "   num_empregados  contagem_mesmo_num_empregados\n0             1.0                             43\n1             0.0                             39\n2            10.0                             13\n3            50.0                              5",
      "text/html": "<div>\n<style scoped>\n    .dataframe tbody tr th:only-of-type {\n        vertical-align: middle;\n    }\n\n    .dataframe tbody tr th {\n        vertical-align: top;\n    }\n\n    .dataframe thead th {\n        text-align: right;\n    }\n</style>\n<table border=\"1\" class=\"dataframe\">\n  <thead>\n    <tr style=\"text-align: right;\">\n      <th></th>\n      <th>num_empregados</th>\n      <th>contagem_mesmo_num_empregados</th>\n    </tr>\n  </thead>\n  <tbody>\n    <tr>\n      <th>0</th>\n      <td>1.0</td>\n      <td>43</td>\n    </tr>\n    <tr>\n      <th>1</th>\n      <td>0.0</td>\n      <td>39</td>\n    </tr>\n    <tr>\n      <th>2</th>\n      <td>10.0</td>\n      <td>13</td>\n    </tr>\n    <tr>\n      <th>3</th>\n      <td>50.0</td>\n      <td>5</td>\n    </tr>\n  </tbody>\n</table>\n</div>"
     },
     "execution_count": 498,
     "metadata": {},
     "output_type": "execute_result"
    }
   ],
   "source": [
    "cidades_por_resposta = pd.DataFrame(df_respostas[\"cidade\"].value_counts())\n",
    "cidades_por_resposta.reset_index(inplace=True)\n",
    "cidades_por_resposta.rename(columns = {\"index\":\"cidade\",\"cidade\": \"contagem\"}, inplace=True)\n",
    "\n",
    "empregados_por_resposta = pd.DataFrame(df_respostas[\"empregados\"].value_counts())\n",
    "empregados_por_resposta.reset_index(inplace=True)\n",
    "empregados_por_resposta.rename(columns = {\"index\":\"num_empregados\",\"empregados\": \"contagem_mesmo_num_empregados\"}, inplace=True)\n",
    "\n",
    "\n",
    "\n",
    "\n",
    "empregados_por_resposta"
   ]
  },
  {
   "cell_type": "code",
   "execution_count": 546,
   "metadata": {
    "pycharm": {
     "name": "#%%\n"
    }
   },
   "outputs": [
    {
     "data": {
      "text/plain": "<Figure size 360x360 with 1 Axes>",
      "image/png": "[encoded data removed]"
     },
     "metadata": {
      "needs_background": "light"
     },
     "output_type": "display_data"
    }
   ],
   "source": [
    "import matplotlib\n",
    "import matplotlib.pyplot as plt\n",
    "import numpy as np\n",
    "\n",
    "size = 5\n",
    "\n",
    "labels = tuple(cidades_por_resposta[\"cidade\"].unique())\n",
    "cidades = cidades_por_resposta[\"contagem\"].tolist()\n",
    "\n",
    "\n",
    "x = labels#np.arange(len(labels))  # the label locations\n",
    "width = 0.5  # the width of the bars\n",
    "\n",
    "plt.rcParams[\"figure.figsize\"] = (size,size)\n",
    "fig, ax = plt.subplots()\n",
    "ax.bar(labels, cidades, width)\n",
    "\n",
    "# Add some text for labels, title and custom x-axis tick labels, etc.\n",
    "ax.set_ylabel('Número de empresas')\n",
    "#ax.set_xlabel('Número de funcionários/empresa')\n",
    "#.set_title(str(cidades)+' ')\n",
    "plt.xticks(rotation=90)\n",
    "ax.tick_params(axis='x', which='major',labelsize = 15)\n",
    "ax.set_xticks(labels)\n",
    "#ax.set_xticklabels(labels)\n",
    "\n",
    "plt.show()\n",
    "\n"
   ]
  },
  {
   "cell_type": "code",
   "execution_count": 491,
   "metadata": {
    "pycharm": {
     "name": "#%%\n"
    }
   },
   "outputs": [
    {
     "data": {
      "text/plain": "  0%|          | 0/41 [00:00<?, ?it/s]",
      "application/vnd.jupyter.widget-view+json": {
       "version_major": 2,
       "version_minor": 0,
       "model_id": "e9d405c5e94145d98c55a047d44492e7"
      }
     },
     "metadata": {},
     "output_type": "display_data"
    },
    {
     "name": "stdout",
     "output_type": "stream",
     "text": [
      "Multi-thread elapsed time: 00:00:00\n"
     ]
    }
   ],
   "source": [
    "import time\n",
    "import json\n",
    "import requests\n",
    "geofile = 'toronto_crs84.geojson'\n",
    "\n",
    "with open(geofile) as json_file:\n",
    "    geodata = json.load(json_file)\n",
    "\n",
    "#Convert latitude/longitude to point objects and find out which area they lie in\n",
    "#The running of this code will take a while (more than 3 hours)\n",
    "\n",
    "#!pip install tqdm\n",
    "from tqdm.auto import tqdm, trange\n",
    "\n",
    "import concurrent.futures\n",
    "import multiprocessing\n",
    "\n",
    "import concurrent.futures\n",
    "import multiprocessing\n",
    "num_processes = multiprocessing.cpu_count()\n",
    "\n",
    "from shapely.geometry import shape, Point, Polygon\n",
    "from shapely.ops import nearest_points\n",
    "from time import strftime, gmtime\n",
    "import random\n",
    "\n",
    "\n",
    "def find_county(lon, lat):\n",
    "    point = Point(lon, lat)\n",
    "    found_nhood = 0\n",
    "    '''Most accidents can be trivially located within a neighbourhood\n",
    "       using the polygon.contains() function from shapely\n",
    "    '''\n",
    "    for i in range(0,len(geodata['features'])):\n",
    "        polygon = shape(geodata['features'][i]['geometry'])\n",
    "    if polygon.contains(point):\n",
    "            nhood = geodata['features'][i]['properties']['AREA_NAME']\n",
    "            found_nhood = 1\n",
    "    if found_nhood == 0:\n",
    "        '''Some accidents can't be located within neighbourhoods because\n",
    "           they occur on major highways which mark neighbourhood boundaries:\n",
    "           the \"no man's land\" problem. Let's deal with these by assigning\n",
    "           them to the _nearest_ neighbourhood\n",
    "        '''\n",
    "        nhoods = []\n",
    "        distances = np.zeros(len(geodata['features']))\n",
    "        for i in range(0,len(geodata['features'])):\n",
    "            polygon = shape(geodata['features'][i]['geometry'])\n",
    "            distances[i] = point.distance(polygon)\n",
    "            nhoods.append(geodata['features'][i]['properties']['AREA_NAME'])\n",
    "\n",
    "        min_distance = np.where(distances == np.amin(distances))\n",
    "        try:\n",
    "            #Usually this finds the nearest district\n",
    "            min_distance_index = int(min_distance[0])\n",
    "        except:\n",
    "            '''But sometimes the accident is exactly equidistant between\n",
    "               two neighbourhood boundaries. In this case, choose one\n",
    "               of the districts at random to avoid biasing the sample\n",
    "            '''\n",
    "            min_distance_index = int(random.choice(min_distance[0]))\n",
    "        nhood = nhoods[min_distance_index]\n",
    "        found_nhood = 1\n",
    "        if found_nhood == 0:\n",
    "            sys.exit(\"I'm sorry I can't do that Dave...\")\n",
    "    return nhood\n",
    "\n",
    "start_time = time.time()\n",
    "\n",
    "df_vizinhanca = pd.DataFrame()\n",
    "\n",
    "with concurrent.futures.ProcessPoolExecutor(num_processes) as pool:\n",
    "    df_vizinhanca[\"NEIGHBOURHOOD\"] = list(tqdm(pool.map(find_county, df_respostas[df_respostas[\"cidade\"]==\"Toronto\"]['X'], df_respostas[df_respostas[\"cidade\"]==\"Toronto\"]['Y'], chunksize=10), total=df_respostas[df_respostas[\"cidade\"]==\"Toronto\"].shape[0]))\n",
    "\n",
    "elapsed_time = time.time() - start_time\n",
    "print(\"Multi-thread elapsed time: \"+str(strftime(\"%H:%M:%S\", gmtime(elapsed_time))))\n",
    "\n",
    "#Saving the processed dataframe\n",
    "df.to_pickle('processed_df.pkl')"
   ]
  },
  {
   "cell_type": "code",
   "execution_count": 480,
   "outputs": [],
   "source": [
    "import time"
   ],
   "metadata": {
    "collapsed": false,
    "pycharm": {
     "name": "#%%\n"
    }
   }
  },
  {
   "cell_type": "code",
   "execution_count": 485,
   "outputs": [
    {
     "ename": "KeyError",
     "evalue": "'NEIGHBOURHOOD'",
     "output_type": "error",
     "traceback": [
      "\u001B[0;31m---------------------------------------------------------------------------\u001B[0m",
      "\u001B[0;31mKeyError\u001B[0m                                  Traceback (most recent call last)",
      "File \u001B[0;32m~/.local/lib/python3.9/site-packages/pandas/core/indexes/base.py:3361\u001B[0m, in \u001B[0;36mIndex.get_loc\u001B[0;34m(self, key, method, tolerance)\u001B[0m\n\u001B[1;32m   3360\u001B[0m \u001B[38;5;28;01mtry\u001B[39;00m:\n\u001B[0;32m-> 3361\u001B[0m     \u001B[38;5;28;01mreturn\u001B[39;00m \u001B[38;5;28;43mself\u001B[39;49m\u001B[38;5;241;43m.\u001B[39;49m\u001B[43m_engine\u001B[49m\u001B[38;5;241;43m.\u001B[39;49m\u001B[43mget_loc\u001B[49m\u001B[43m(\u001B[49m\u001B[43mcasted_key\u001B[49m\u001B[43m)\u001B[49m\n\u001B[1;32m   3362\u001B[0m \u001B[38;5;28;01mexcept\u001B[39;00m \u001B[38;5;167;01mKeyError\u001B[39;00m \u001B[38;5;28;01mas\u001B[39;00m err:\n",
      "File \u001B[0;32m~/.local/lib/python3.9/site-packages/pandas/_libs/index.pyx:76\u001B[0m, in \u001B[0;36mpandas._libs.index.IndexEngine.get_loc\u001B[0;34m()\u001B[0m\n",
      "File \u001B[0;32m~/.local/lib/python3.9/site-packages/pandas/_libs/index.pyx:108\u001B[0m, in \u001B[0;36mpandas._libs.index.IndexEngine.get_loc\u001B[0;34m()\u001B[0m\n",
      "File \u001B[0;32mpandas/_libs/hashtable_class_helper.pxi:5198\u001B[0m, in \u001B[0;36mpandas._libs.hashtable.PyObjectHashTable.get_item\u001B[0;34m()\u001B[0m\n",
      "File \u001B[0;32mpandas/_libs/hashtable_class_helper.pxi:5206\u001B[0m, in \u001B[0;36mpandas._libs.hashtable.PyObjectHashTable.get_item\u001B[0;34m()\u001B[0m\n",
      "\u001B[0;31mKeyError\u001B[0m: 'NEIGHBOURHOOD'",
      "\nThe above exception was the direct cause of the following exception:\n",
      "\u001B[0;31mKeyError\u001B[0m                                  Traceback (most recent call last)",
      "Input \u001B[0;32mIn [485]\u001B[0m, in \u001B[0;36m<cell line: 1>\u001B[0;34m()\u001B[0m\n\u001B[0;32m----> 1\u001B[0m \u001B[43mdf_respostas\u001B[49m\u001B[43m[\u001B[49m\u001B[43mdf_respostas\u001B[49m\u001B[43m[\u001B[49m\u001B[38;5;124;43m\"\u001B[39;49m\u001B[38;5;124;43mcidade\u001B[39;49m\u001B[38;5;124;43m\"\u001B[39;49m\u001B[43m]\u001B[49m\u001B[38;5;241;43m==\u001B[39;49m\u001B[38;5;124;43m\"\u001B[39;49m\u001B[38;5;124;43mToronto\u001B[39;49m\u001B[38;5;124;43m\"\u001B[39;49m\u001B[43m]\u001B[49m\u001B[43m[\u001B[49m\u001B[38;5;124;43m\"\u001B[39;49m\u001B[38;5;124;43mNEIGHBOURHOOD\u001B[39;49m\u001B[38;5;124;43m\"\u001B[39;49m\u001B[43m]\u001B[49m\n",
      "File \u001B[0;32m~/.local/lib/python3.9/site-packages/pandas/core/frame.py:3458\u001B[0m, in \u001B[0;36mDataFrame.__getitem__\u001B[0;34m(self, key)\u001B[0m\n\u001B[1;32m   3456\u001B[0m \u001B[38;5;28;01mif\u001B[39;00m \u001B[38;5;28mself\u001B[39m\u001B[38;5;241m.\u001B[39mcolumns\u001B[38;5;241m.\u001B[39mnlevels \u001B[38;5;241m>\u001B[39m \u001B[38;5;241m1\u001B[39m:\n\u001B[1;32m   3457\u001B[0m     \u001B[38;5;28;01mreturn\u001B[39;00m \u001B[38;5;28mself\u001B[39m\u001B[38;5;241m.\u001B[39m_getitem_multilevel(key)\n\u001B[0;32m-> 3458\u001B[0m indexer \u001B[38;5;241m=\u001B[39m \u001B[38;5;28;43mself\u001B[39;49m\u001B[38;5;241;43m.\u001B[39;49m\u001B[43mcolumns\u001B[49m\u001B[38;5;241;43m.\u001B[39;49m\u001B[43mget_loc\u001B[49m\u001B[43m(\u001B[49m\u001B[43mkey\u001B[49m\u001B[43m)\u001B[49m\n\u001B[1;32m   3459\u001B[0m \u001B[38;5;28;01mif\u001B[39;00m is_integer(indexer):\n\u001B[1;32m   3460\u001B[0m     indexer \u001B[38;5;241m=\u001B[39m [indexer]\n",
      "File \u001B[0;32m~/.local/lib/python3.9/site-packages/pandas/core/indexes/base.py:3363\u001B[0m, in \u001B[0;36mIndex.get_loc\u001B[0;34m(self, key, method, tolerance)\u001B[0m\n\u001B[1;32m   3361\u001B[0m         \u001B[38;5;28;01mreturn\u001B[39;00m \u001B[38;5;28mself\u001B[39m\u001B[38;5;241m.\u001B[39m_engine\u001B[38;5;241m.\u001B[39mget_loc(casted_key)\n\u001B[1;32m   3362\u001B[0m     \u001B[38;5;28;01mexcept\u001B[39;00m \u001B[38;5;167;01mKeyError\u001B[39;00m \u001B[38;5;28;01mas\u001B[39;00m err:\n\u001B[0;32m-> 3363\u001B[0m         \u001B[38;5;28;01mraise\u001B[39;00m \u001B[38;5;167;01mKeyError\u001B[39;00m(key) \u001B[38;5;28;01mfrom\u001B[39;00m \u001B[38;5;21;01merr\u001B[39;00m\n\u001B[1;32m   3365\u001B[0m \u001B[38;5;28;01mif\u001B[39;00m is_scalar(key) \u001B[38;5;129;01mand\u001B[39;00m isna(key) \u001B[38;5;129;01mand\u001B[39;00m \u001B[38;5;129;01mnot\u001B[39;00m \u001B[38;5;28mself\u001B[39m\u001B[38;5;241m.\u001B[39mhasnans:\n\u001B[1;32m   3366\u001B[0m     \u001B[38;5;28;01mraise\u001B[39;00m \u001B[38;5;167;01mKeyError\u001B[39;00m(key)\n",
      "\u001B[0;31mKeyError\u001B[0m: 'NEIGHBOURHOOD'"
     ]
    }
   ],
   "source": [
    "df_respostas[df_respostas[\"cidade\"]==\"Toronto\"][\"NEIGHBOURHOOD\"]"
   ],
   "metadata": {
    "collapsed": false,
    "pycharm": {
     "name": "#%%\n"
    }
   }
  },
  {
   "cell_type": "code",
   "execution_count": 493,
   "outputs": [
    {
     "data": {
      "text/plain": "              NEIGHBOURHOOD\n0   Forest Hill South (101)\n1   Forest Hill South (101)\n2   Forest Hill South (101)\n3   Forest Hill South (101)\n4   Forest Hill South (101)\n5   Forest Hill South (101)\n6   Forest Hill South (101)\n7   Forest Hill South (101)\n8   Forest Hill South (101)\n9   Forest Hill South (101)\n10  Forest Hill South (101)\n11  Forest Hill South (101)\n12  Forest Hill South (101)\n13  Forest Hill South (101)\n14  Forest Hill South (101)\n15  Forest Hill South (101)\n16  Forest Hill South (101)\n17  Forest Hill South (101)\n18  Forest Hill South (101)\n19  Forest Hill South (101)\n20  Forest Hill South (101)\n21  Forest Hill South (101)\n22  Forest Hill South (101)\n23  Forest Hill South (101)\n24  Forest Hill South (101)\n25  Forest Hill South (101)\n26  Forest Hill South (101)\n27  Forest Hill South (101)\n28  Forest Hill South (101)\n29  Forest Hill South (101)\n30  Forest Hill South (101)\n31  Forest Hill South (101)\n32  Forest Hill South (101)\n33  Forest Hill South (101)\n34  Forest Hill South (101)\n35  Forest Hill South (101)\n36  Forest Hill South (101)\n37  Forest Hill South (101)\n38  Forest Hill South (101)\n39  Forest Hill South (101)\n40  Forest Hill South (101)",
      "text/html": "<div>\n<style scoped>\n    .dataframe tbody tr th:only-of-type {\n        vertical-align: middle;\n    }\n\n    .dataframe tbody tr th {\n        vertical-align: top;\n    }\n\n    .dataframe thead th {\n        text-align: right;\n    }\n</style>\n<table border=\"1\" class=\"dataframe\">\n  <thead>\n    <tr style=\"text-align: right;\">\n      <th></th>\n      <th>NEIGHBOURHOOD</th>\n    </tr>\n  </thead>\n  <tbody>\n    <tr>\n      <th>0</th>\n      <td>Forest Hill South (101)</td>\n    </tr>\n    <tr>\n      <th>1</th>\n      <td>Forest Hill South (101)</td>\n    </tr>\n    <tr>\n      <th>2</th>\n      <td>Forest Hill South (101)</td>\n    </tr>\n    <tr>\n      <th>3</th>\n      <td>Forest Hill South (101)</td>\n    </tr>\n    <tr>\n      <th>4</th>\n      <td>Forest Hill South (101)</td>\n    </tr>\n    <tr>\n      <th>5</th>\n      <td>Forest Hill South (101)</td>\n    </tr>\n    <tr>\n      <th>6</th>\n      <td>Forest Hill South (101)</td>\n    </tr>\n    <tr>\n      <th>7</th>\n      <td>Forest Hill South (101)</td>\n    </tr>\n    <tr>\n      <th>8</th>\n      <td>Forest Hill South (101)</td>\n    </tr>\n    <tr>\n      <th>9</th>\n      <td>Forest Hill South (101)</td>\n    </tr>\n    <tr>\n      <th>10</th>\n      <td>Forest Hill South (101)</td>\n    </tr>\n    <tr>\n      <th>11</th>\n      <td>Forest Hill South (101)</td>\n    </tr>\n    <tr>\n      <th>12</th>\n      <td>Forest Hill South (101)</td>\n    </tr>\n    <tr>\n      <th>13</th>\n      <td>Forest Hill South (101)</td>\n    </tr>\n    <tr>\n      <th>14</th>\n      <td>Forest Hill South (101)</td>\n    </tr>\n    <tr>\n      <th>15</th>\n      <td>Forest Hill South (101)</td>\n    </tr>\n    <tr>\n      <th>16</th>\n      <td>Forest Hill South (101)</td>\n    </tr>\n    <tr>\n      <th>17</th>\n      <td>Forest Hill South (101)</td>\n    </tr>\n    <tr>\n      <th>18</th>\n      <td>Forest Hill South (101)</td>\n    </tr>\n    <tr>\n      <th>19</th>\n      <td>Forest Hill South (101)</td>\n    </tr>\n    <tr>\n      <th>20</th>\n      <td>Forest Hill South (101)</td>\n    </tr>\n    <tr>\n      <th>21</th>\n      <td>Forest Hill South (101)</td>\n    </tr>\n    <tr>\n      <th>22</th>\n      <td>Forest Hill South (101)</td>\n    </tr>\n    <tr>\n      <th>23</th>\n      <td>Forest Hill South (101)</td>\n    </tr>\n    <tr>\n      <th>24</th>\n      <td>Forest Hill South (101)</td>\n    </tr>\n    <tr>\n      <th>25</th>\n      <td>Forest Hill South (101)</td>\n    </tr>\n    <tr>\n      <th>26</th>\n      <td>Forest Hill South (101)</td>\n    </tr>\n    <tr>\n      <th>27</th>\n      <td>Forest Hill South (101)</td>\n    </tr>\n    <tr>\n      <th>28</th>\n      <td>Forest Hill South (101)</td>\n    </tr>\n    <tr>\n      <th>29</th>\n      <td>Forest Hill South (101)</td>\n    </tr>\n    <tr>\n      <th>30</th>\n      <td>Forest Hill South (101)</td>\n    </tr>\n    <tr>\n      <th>31</th>\n      <td>Forest Hill South (101)</td>\n    </tr>\n    <tr>\n      <th>32</th>\n      <td>Forest Hill South (101)</td>\n    </tr>\n    <tr>\n      <th>33</th>\n      <td>Forest Hill South (101)</td>\n    </tr>\n    <tr>\n      <th>34</th>\n      <td>Forest Hill South (101)</td>\n    </tr>\n    <tr>\n      <th>35</th>\n      <td>Forest Hill South (101)</td>\n    </tr>\n    <tr>\n      <th>36</th>\n      <td>Forest Hill South (101)</td>\n    </tr>\n    <tr>\n      <th>37</th>\n      <td>Forest Hill South (101)</td>\n    </tr>\n    <tr>\n      <th>38</th>\n      <td>Forest Hill South (101)</td>\n    </tr>\n    <tr>\n      <th>39</th>\n      <td>Forest Hill South (101)</td>\n    </tr>\n    <tr>\n      <th>40</th>\n      <td>Forest Hill South (101)</td>\n    </tr>\n  </tbody>\n</table>\n</div>"
     },
     "execution_count": 493,
     "metadata": {},
     "output_type": "execute_result"
    }
   ],
   "source": [
    "df_vizinhanca"
   ],
   "metadata": {
    "collapsed": false,
    "pycharm": {
     "name": "#%%\n"
    }
   }
  },
  {
   "cell_type": "code",
   "execution_count": 500,
   "outputs": [
    {
     "data": {
      "text/plain": "              NEIGHBOURHOOD  contagem\n0   Forest Hill South (101)      41.0\n1   Forest Hill South (101)       NaN\n2   Forest Hill South (101)       NaN\n3   Forest Hill South (101)       NaN\n4   Forest Hill South (101)       NaN\n5   Forest Hill South (101)       NaN\n6   Forest Hill South (101)       NaN\n7   Forest Hill South (101)       NaN\n8   Forest Hill South (101)       NaN\n9   Forest Hill South (101)       NaN\n10  Forest Hill South (101)       NaN\n11  Forest Hill South (101)       NaN\n12  Forest Hill South (101)       NaN\n13  Forest Hill South (101)       NaN\n14  Forest Hill South (101)       NaN\n15  Forest Hill South (101)       NaN\n16  Forest Hill South (101)       NaN\n17  Forest Hill South (101)       NaN\n18  Forest Hill South (101)       NaN\n19  Forest Hill South (101)       NaN\n20  Forest Hill South (101)       NaN\n21  Forest Hill South (101)       NaN\n22  Forest Hill South (101)       NaN\n23  Forest Hill South (101)       NaN\n24  Forest Hill South (101)       NaN\n25  Forest Hill South (101)       NaN\n26  Forest Hill South (101)       NaN\n27  Forest Hill South (101)       NaN\n28  Forest Hill South (101)       NaN\n29  Forest Hill South (101)       NaN\n30  Forest Hill South (101)       NaN\n31  Forest Hill South (101)       NaN\n32  Forest Hill South (101)       NaN\n33  Forest Hill South (101)       NaN\n34  Forest Hill South (101)       NaN\n35  Forest Hill South (101)       NaN\n36  Forest Hill South (101)       NaN\n37  Forest Hill South (101)       NaN\n38  Forest Hill South (101)       NaN\n39  Forest Hill South (101)       NaN\n40  Forest Hill South (101)       NaN",
      "text/html": "<div>\n<style scoped>\n    .dataframe tbody tr th:only-of-type {\n        vertical-align: middle;\n    }\n\n    .dataframe tbody tr th {\n        vertical-align: top;\n    }\n\n    .dataframe thead th {\n        text-align: right;\n    }\n</style>\n<table border=\"1\" class=\"dataframe\">\n  <thead>\n    <tr style=\"text-align: right;\">\n      <th></th>\n      <th>NEIGHBOURHOOD</th>\n      <th>contagem</th>\n    </tr>\n  </thead>\n  <tbody>\n    <tr>\n      <th>0</th>\n      <td>Forest Hill South (101)</td>\n      <td>41.0</td>\n    </tr>\n    <tr>\n      <th>1</th>\n      <td>Forest Hill South (101)</td>\n      <td>NaN</td>\n    </tr>\n    <tr>\n      <th>2</th>\n      <td>Forest Hill South (101)</td>\n      <td>NaN</td>\n    </tr>\n    <tr>\n      <th>3</th>\n      <td>Forest Hill South (101)</td>\n      <td>NaN</td>\n    </tr>\n    <tr>\n      <th>4</th>\n      <td>Forest Hill South (101)</td>\n      <td>NaN</td>\n    </tr>\n    <tr>\n      <th>5</th>\n      <td>Forest Hill South (101)</td>\n      <td>NaN</td>\n    </tr>\n    <tr>\n      <th>6</th>\n      <td>Forest Hill South (101)</td>\n      <td>NaN</td>\n    </tr>\n    <tr>\n      <th>7</th>\n      <td>Forest Hill South (101)</td>\n      <td>NaN</td>\n    </tr>\n    <tr>\n      <th>8</th>\n      <td>Forest Hill South (101)</td>\n      <td>NaN</td>\n    </tr>\n    <tr>\n      <th>9</th>\n      <td>Forest Hill South (101)</td>\n      <td>NaN</td>\n    </tr>\n    <tr>\n      <th>10</th>\n      <td>Forest Hill South (101)</td>\n      <td>NaN</td>\n    </tr>\n    <tr>\n      <th>11</th>\n      <td>Forest Hill South (101)</td>\n      <td>NaN</td>\n    </tr>\n    <tr>\n      <th>12</th>\n      <td>Forest Hill South (101)</td>\n      <td>NaN</td>\n    </tr>\n    <tr>\n      <th>13</th>\n      <td>Forest Hill South (101)</td>\n      <td>NaN</td>\n    </tr>\n    <tr>\n      <th>14</th>\n      <td>Forest Hill South (101)</td>\n      <td>NaN</td>\n    </tr>\n    <tr>\n      <th>15</th>\n      <td>Forest Hill South (101)</td>\n      <td>NaN</td>\n    </tr>\n    <tr>\n      <th>16</th>\n      <td>Forest Hill South (101)</td>\n      <td>NaN</td>\n    </tr>\n    <tr>\n      <th>17</th>\n      <td>Forest Hill South (101)</td>\n      <td>NaN</td>\n    </tr>\n    <tr>\n      <th>18</th>\n      <td>Forest Hill South (101)</td>\n      <td>NaN</td>\n    </tr>\n    <tr>\n      <th>19</th>\n      <td>Forest Hill South (101)</td>\n      <td>NaN</td>\n    </tr>\n    <tr>\n      <th>20</th>\n      <td>Forest Hill South (101)</td>\n      <td>NaN</td>\n    </tr>\n    <tr>\n      <th>21</th>\n      <td>Forest Hill South (101)</td>\n      <td>NaN</td>\n    </tr>\n    <tr>\n      <th>22</th>\n      <td>Forest Hill South (101)</td>\n      <td>NaN</td>\n    </tr>\n    <tr>\n      <th>23</th>\n      <td>Forest Hill South (101)</td>\n      <td>NaN</td>\n    </tr>\n    <tr>\n      <th>24</th>\n      <td>Forest Hill South (101)</td>\n      <td>NaN</td>\n    </tr>\n    <tr>\n      <th>25</th>\n      <td>Forest Hill South (101)</td>\n      <td>NaN</td>\n    </tr>\n    <tr>\n      <th>26</th>\n      <td>Forest Hill South (101)</td>\n      <td>NaN</td>\n    </tr>\n    <tr>\n      <th>27</th>\n      <td>Forest Hill South (101)</td>\n      <td>NaN</td>\n    </tr>\n    <tr>\n      <th>28</th>\n      <td>Forest Hill South (101)</td>\n      <td>NaN</td>\n    </tr>\n    <tr>\n      <th>29</th>\n      <td>Forest Hill South (101)</td>\n      <td>NaN</td>\n    </tr>\n    <tr>\n      <th>30</th>\n      <td>Forest Hill South (101)</td>\n      <td>NaN</td>\n    </tr>\n    <tr>\n      <th>31</th>\n      <td>Forest Hill South (101)</td>\n      <td>NaN</td>\n    </tr>\n    <tr>\n      <th>32</th>\n      <td>Forest Hill South (101)</td>\n      <td>NaN</td>\n    </tr>\n    <tr>\n      <th>33</th>\n      <td>Forest Hill South (101)</td>\n      <td>NaN</td>\n    </tr>\n    <tr>\n      <th>34</th>\n      <td>Forest Hill South (101)</td>\n      <td>NaN</td>\n    </tr>\n    <tr>\n      <th>35</th>\n      <td>Forest Hill South (101)</td>\n      <td>NaN</td>\n    </tr>\n    <tr>\n      <th>36</th>\n      <td>Forest Hill South (101)</td>\n      <td>NaN</td>\n    </tr>\n    <tr>\n      <th>37</th>\n      <td>Forest Hill South (101)</td>\n      <td>NaN</td>\n    </tr>\n    <tr>\n      <th>38</th>\n      <td>Forest Hill South (101)</td>\n      <td>NaN</td>\n    </tr>\n    <tr>\n      <th>39</th>\n      <td>Forest Hill South (101)</td>\n      <td>NaN</td>\n    </tr>\n    <tr>\n      <th>40</th>\n      <td>Forest Hill South (101)</td>\n      <td>NaN</td>\n    </tr>\n  </tbody>\n</table>\n</div>"
     },
     "execution_count": 500,
     "metadata": {},
     "output_type": "execute_result"
    }
   ],
   "source": [
    "df_vizinhanca[\"contagem\"] = cidades_por_resposta[cidades_por_resposta['cidade']=='Toronto'][\"contagem\"]\n",
    "df_vizinhanca"
   ],
   "metadata": {
    "collapsed": false,
    "pycharm": {
     "name": "#%%\n"
    }
   }
  },
  {
   "cell_type": "code",
   "execution_count": 561,
   "outputs": [
    {
     "data": {
      "text/plain": "(7,)"
     },
     "execution_count": 561,
     "metadata": {},
     "output_type": "execute_result"
    }
   ],
   "source": [
    "df_respostas.columns.shape"
   ],
   "metadata": {
    "collapsed": false,
    "pycharm": {
     "name": "#%%\n"
    }
   }
  },
  {
   "cell_type": "code",
   "execution_count": 566,
   "outputs": [
    {
     "name": "stdout",
     "output_type": "stream",
     "text": [
      "-95.98119430000003\n",
      "46.7493174\n"
     ]
    },
    {
     "data": {
      "text/plain": "<folium.folium.Map at 0x7fdf0d43e370>",
      "text/html": "<div style=\"width:100%;\"><div style=\"position:relative;width:100%;height:0;padding-bottom:60%;\"><span style=\"color:#565656\">Make this Notebook Trusted to load map: File -> Trust Notebook</span><iframe srcdoc=\"&lt;!DOCTYPE html&gt;\n&lt;head&gt;    \n    &lt;meta http-equiv=&quot;content-type&quot; content=&quot;text/html; charset=UTF-8&quot; /&gt;\n    \n        &lt;script&gt;\n            L_NO_TOUCH = false;\n            L_DISABLE_3D = false;\n        &lt;/script&gt;\n    \n    &lt;style&gt;html, body {width: 100%;height: 100%;margin: 0;padding: 0;}&lt;/style&gt;\n    &lt;style&gt;#map {position:absolute;top:0;bottom:0;right:0;left:0;}&lt;/style&gt;\n    &lt;script src=&quot;https://cdn.jsdelivr.net/npm/leaflet@1.6.0/dist/leaflet.js&quot;&gt;&lt;/script&gt;\n    &lt;script src=&quot;https://code.jquery.com/jquery-1.12.4.min.js&quot;&gt;&lt;/script&gt;\n    &lt;script src=&quot;https://maxcdn.bootstrapcdn.com/bootstrap/3.2.0/js/bootstrap.min.js&quot;&gt;&lt;/script&gt;\n    &lt;script src=&quot;https://cdnjs.cloudflare.com/ajax/libs/Leaflet.awesome-markers/2.0.2/leaflet.awesome-markers.js&quot;&gt;&lt;/script&gt;\n    &lt;link rel=&quot;stylesheet&quot; href=&quot;https://cdn.jsdelivr.net/npm/leaflet@1.6.0/dist/leaflet.css&quot;/&gt;\n    &lt;link rel=&quot;stylesheet&quot; href=&quot;https://maxcdn.bootstrapcdn.com/bootstrap/3.2.0/css/bootstrap.min.css&quot;/&gt;\n    &lt;link rel=&quot;stylesheet&quot; href=&quot;https://maxcdn.bootstrapcdn.com/bootstrap/3.2.0/css/bootstrap-theme.min.css&quot;/&gt;\n    &lt;link rel=&quot;stylesheet&quot; href=&quot;https://maxcdn.bootstrapcdn.com/font-awesome/4.6.3/css/font-awesome.min.css&quot;/&gt;\n    &lt;link rel=&quot;stylesheet&quot; href=&quot;https://cdnjs.cloudflare.com/ajax/libs/Leaflet.awesome-markers/2.0.2/leaflet.awesome-markers.css&quot;/&gt;\n    &lt;link rel=&quot;stylesheet&quot; href=&quot;https://cdn.jsdelivr.net/gh/python-visualization/folium/folium/templates/leaflet.awesome.rotate.min.css&quot;/&gt;\n    \n            &lt;meta name=&quot;viewport&quot; content=&quot;width=device-width,\n                initial-scale=1.0, maximum-scale=1.0, user-scalable=no&quot; /&gt;\n            &lt;style&gt;\n                #map_c786679657cdcb9432975dde7a9467e3 {\n                    position: relative;\n                    width: 100.0%;\n                    height: 100.0%;\n                    left: 0.0%;\n                    top: 0.0%;\n                }\n            &lt;/style&gt;\n        \n&lt;/head&gt;\n&lt;body&gt;    \n    \n            &lt;div class=&quot;folium-map&quot; id=&quot;map_c786679657cdcb9432975dde7a9467e3&quot; &gt;&lt;/div&gt;\n        \n&lt;/body&gt;\n&lt;script&gt;    \n    \n            var map_c786679657cdcb9432975dde7a9467e3 = L.map(\n                &quot;map_c786679657cdcb9432975dde7a9467e3&quot;,\n                {\n                    center: [46.7493174, -95.98119430000003],\n                    crs: L.CRS.EPSG3857,\n                    zoom: 10,\n                    zoomControl: true,\n                    preferCanvas: false,\n                }\n            );\n\n            \n\n        \n    \n            var tile_layer_c8c1825e504d1528ffb492a812c604dc = L.tileLayer(\n                &quot;https://{s}.tile.openstreetmap.org/{z}/{x}/{y}.png&quot;,\n                {&quot;attribution&quot;: &quot;Data by \\u0026copy; \\u003ca href=\\&quot;http://openstreetmap.org\\&quot;\\u003eOpenStreetMap\\u003c/a\\u003e, under \\u003ca href=\\&quot;http://www.openstreetmap.org/copyright\\&quot;\\u003eODbL\\u003c/a\\u003e.&quot;, &quot;detectRetina&quot;: false, &quot;maxNativeZoom&quot;: 18, &quot;maxZoom&quot;: 18, &quot;minZoom&quot;: 0, &quot;noWrap&quot;: false, &quot;opacity&quot;: 1, &quot;subdomains&quot;: &quot;abc&quot;, &quot;tms&quot;: false}\n            ).addTo(map_c786679657cdcb9432975dde7a9467e3);\n        \n    \n            var marker_bc8bc1e9f47c7f245085f6dc55934c67 = L.marker(\n                [49.88307, -119.48568],\n                {}\n            ).addTo(map_c786679657cdcb9432975dde7a9467e3);\n        \n    \n            var icon_b8842cb031d5e7fb837c80d7216a2ec9 = L.AwesomeMarkers.icon(\n                {&quot;extraClasses&quot;: &quot;fa-rotate-0&quot;, &quot;icon&quot;: &quot;info-sign&quot;, &quot;iconColor&quot;: &quot;white&quot;, &quot;markerColor&quot;: &quot;blue&quot;, &quot;prefix&quot;: &quot;glyphicon&quot;}\n            );\n            marker_bc8bc1e9f47c7f245085f6dc55934c67.setIcon(icon_b8842cb031d5e7fb837c80d7216a2ec9);\n        \n    \n            var marker_e20c0b44b4ff1c0181ce966876a1c2cd = L.marker(\n                [49.88307, -119.48568],\n                {}\n            ).addTo(map_c786679657cdcb9432975dde7a9467e3);\n        \n    \n            var icon_731cbc89afc3c7ec1f3e1f0ef913b3c4 = L.AwesomeMarkers.icon(\n                {&quot;extraClasses&quot;: &quot;fa-rotate-0&quot;, &quot;icon&quot;: &quot;info-sign&quot;, &quot;iconColor&quot;: &quot;white&quot;, &quot;markerColor&quot;: &quot;blue&quot;, &quot;prefix&quot;: &quot;glyphicon&quot;}\n            );\n            marker_e20c0b44b4ff1c0181ce966876a1c2cd.setIcon(icon_731cbc89afc3c7ec1f3e1f0ef913b3c4);\n        \n    \n            var marker_48775ef1a4e840f981518aa8e0474001 = L.marker(\n                [43.70011, -79.4163],\n                {}\n            ).addTo(map_c786679657cdcb9432975dde7a9467e3);\n        \n    \n            var icon_0fffbd859699012070ca11956513c956 = L.AwesomeMarkers.icon(\n                {&quot;extraClasses&quot;: &quot;fa-rotate-0&quot;, &quot;icon&quot;: &quot;info-sign&quot;, &quot;iconColor&quot;: &quot;white&quot;, &quot;markerColor&quot;: &quot;blue&quot;, &quot;prefix&quot;: &quot;glyphicon&quot;}\n            );\n            marker_48775ef1a4e840f981518aa8e0474001.setIcon(icon_0fffbd859699012070ca11956513c956);\n        \n    \n            var marker_b96b6cc051deaa582f0ab1d2af5bcb4f = L.marker(\n                [43.70011, -79.4163],\n                {}\n            ).addTo(map_c786679657cdcb9432975dde7a9467e3);\n        \n    \n            var icon_987e1dea4ac056a0931357221810366e = L.AwesomeMarkers.icon(\n                {&quot;extraClasses&quot;: &quot;fa-rotate-0&quot;, &quot;icon&quot;: &quot;info-sign&quot;, &quot;iconColor&quot;: &quot;white&quot;, &quot;markerColor&quot;: &quot;blue&quot;, &quot;prefix&quot;: &quot;glyphicon&quot;}\n            );\n            marker_b96b6cc051deaa582f0ab1d2af5bcb4f.setIcon(icon_987e1dea4ac056a0931357221810366e);\n        \n    \n            var marker_1015522f0943ee4e712f05088d92546a = L.marker(\n                [43.70011, -79.4163],\n                {}\n            ).addTo(map_c786679657cdcb9432975dde7a9467e3);\n        \n    \n            var icon_f71769c848aca34ad9e659241eb66203 = L.AwesomeMarkers.icon(\n                {&quot;extraClasses&quot;: &quot;fa-rotate-0&quot;, &quot;icon&quot;: &quot;info-sign&quot;, &quot;iconColor&quot;: &quot;white&quot;, &quot;markerColor&quot;: &quot;blue&quot;, &quot;prefix&quot;: &quot;glyphicon&quot;}\n            );\n            marker_1015522f0943ee4e712f05088d92546a.setIcon(icon_f71769c848aca34ad9e659241eb66203);\n        \n    \n            var marker_da65a941a42edb36b84880ff71354851 = L.marker(\n                [51.05011, -114.08529],\n                {}\n            ).addTo(map_c786679657cdcb9432975dde7a9467e3);\n        \n    \n            var icon_129d9d17e3583f6435286effce6256db = L.AwesomeMarkers.icon(\n                {&quot;extraClasses&quot;: &quot;fa-rotate-0&quot;, &quot;icon&quot;: &quot;info-sign&quot;, &quot;iconColor&quot;: &quot;white&quot;, &quot;markerColor&quot;: &quot;blue&quot;, &quot;prefix&quot;: &quot;glyphicon&quot;}\n            );\n            marker_da65a941a42edb36b84880ff71354851.setIcon(icon_129d9d17e3583f6435286effce6256db);\n        \n    \n            var marker_e66844c45487782d33f93599a6b5ff0d = L.marker(\n                [51.05011, -114.08529],\n                {}\n            ).addTo(map_c786679657cdcb9432975dde7a9467e3);\n        \n    \n            var icon_8a1cae56a207d431eaf43d326adcb42c = L.AwesomeMarkers.icon(\n                {&quot;extraClasses&quot;: &quot;fa-rotate-0&quot;, &quot;icon&quot;: &quot;info-sign&quot;, &quot;iconColor&quot;: &quot;white&quot;, &quot;markerColor&quot;: &quot;blue&quot;, &quot;prefix&quot;: &quot;glyphicon&quot;}\n            );\n            marker_e66844c45487782d33f93599a6b5ff0d.setIcon(icon_8a1cae56a207d431eaf43d326adcb42c);\n        \n    \n            var marker_540bf9f801fc97612280c4e71fee5d50 = L.marker(\n                [51.05011, -114.08529],\n                {}\n            ).addTo(map_c786679657cdcb9432975dde7a9467e3);\n        \n    \n            var icon_3fdd60d81b22908e9fc685be42e5fc8f = L.AwesomeMarkers.icon(\n                {&quot;extraClasses&quot;: &quot;fa-rotate-0&quot;, &quot;icon&quot;: &quot;info-sign&quot;, &quot;iconColor&quot;: &quot;white&quot;, &quot;markerColor&quot;: &quot;blue&quot;, &quot;prefix&quot;: &quot;glyphicon&quot;}\n            );\n            marker_540bf9f801fc97612280c4e71fee5d50.setIcon(icon_3fdd60d81b22908e9fc685be42e5fc8f);\n        \n    \n            var marker_01341c3f0b44745041cb19f63112ebce = L.marker(\n                [43.42537, -80.5112],\n                {}\n            ).addTo(map_c786679657cdcb9432975dde7a9467e3);\n        \n    \n            var icon_cccdf5f647d4d5374565b9e45a6c92d8 = L.AwesomeMarkers.icon(\n                {&quot;extraClasses&quot;: &quot;fa-rotate-0&quot;, &quot;icon&quot;: &quot;info-sign&quot;, &quot;iconColor&quot;: &quot;white&quot;, &quot;markerColor&quot;: &quot;blue&quot;, &quot;prefix&quot;: &quot;glyphicon&quot;}\n            );\n            marker_01341c3f0b44745041cb19f63112ebce.setIcon(icon_cccdf5f647d4d5374565b9e45a6c92d8);\n        \n    \n            var marker_49e095cccf69d77abf99df8aebbd25e3 = L.marker(\n                [43.70011, -79.4163],\n                {}\n            ).addTo(map_c786679657cdcb9432975dde7a9467e3);\n        \n    \n            var icon_2e35487548393dd4f12e9c1bfffe5c12 = L.AwesomeMarkers.icon(\n                {&quot;extraClasses&quot;: &quot;fa-rotate-0&quot;, &quot;icon&quot;: &quot;info-sign&quot;, &quot;iconColor&quot;: &quot;white&quot;, &quot;markerColor&quot;: &quot;blue&quot;, &quot;prefix&quot;: &quot;glyphicon&quot;}\n            );\n            marker_49e095cccf69d77abf99df8aebbd25e3.setIcon(icon_2e35487548393dd4f12e9c1bfffe5c12);\n        \n    \n            var marker_036a556173276e4cb7c1ec434f2c6042 = L.marker(\n                [49.24966, -123.11934],\n                {}\n            ).addTo(map_c786679657cdcb9432975dde7a9467e3);\n        \n    \n            var icon_07fca662cf79ad4ab44b562146405466 = L.AwesomeMarkers.icon(\n                {&quot;extraClasses&quot;: &quot;fa-rotate-0&quot;, &quot;icon&quot;: &quot;info-sign&quot;, &quot;iconColor&quot;: &quot;white&quot;, &quot;markerColor&quot;: &quot;blue&quot;, &quot;prefix&quot;: &quot;glyphicon&quot;}\n            );\n            marker_036a556173276e4cb7c1ec434f2c6042.setIcon(icon_07fca662cf79ad4ab44b562146405466);\n        \n    \n            var marker_bfc980caf278044b03bbcb8e60d4d03b = L.marker(\n                [51.05011, -114.08529],\n                {}\n            ).addTo(map_c786679657cdcb9432975dde7a9467e3);\n        \n    \n            var icon_944be3cf6f42fb1cd7f2e66efd1be86c = L.AwesomeMarkers.icon(\n                {&quot;extraClasses&quot;: &quot;fa-rotate-0&quot;, &quot;icon&quot;: &quot;info-sign&quot;, &quot;iconColor&quot;: &quot;white&quot;, &quot;markerColor&quot;: &quot;blue&quot;, &quot;prefix&quot;: &quot;glyphicon&quot;}\n            );\n            marker_bfc980caf278044b03bbcb8e60d4d03b.setIcon(icon_944be3cf6f42fb1cd7f2e66efd1be86c);\n        \n    \n            var marker_8f9514953f4293b9213a24069c9aaf02 = L.marker(\n                [43.1334, -80.26635999999998],\n                {}\n            ).addTo(map_c786679657cdcb9432975dde7a9467e3);\n        \n    \n            var icon_b380a0e90b020a0444f383b868cd8f7f = L.AwesomeMarkers.icon(\n                {&quot;extraClasses&quot;: &quot;fa-rotate-0&quot;, &quot;icon&quot;: &quot;info-sign&quot;, &quot;iconColor&quot;: &quot;white&quot;, &quot;markerColor&quot;: &quot;blue&quot;, &quot;prefix&quot;: &quot;glyphicon&quot;}\n            );\n            marker_8f9514953f4293b9213a24069c9aaf02.setIcon(icon_b380a0e90b020a0444f383b868cd8f7f);\n        \n    \n            var marker_3271a3b6688365cae117dd8829b27119 = L.marker(\n                [43.70011, -79.4163],\n                {}\n            ).addTo(map_c786679657cdcb9432975dde7a9467e3);\n        \n    \n            var icon_17450e2f8f2979e56a6abe64a6f1ae3d = L.AwesomeMarkers.icon(\n                {&quot;extraClasses&quot;: &quot;fa-rotate-0&quot;, &quot;icon&quot;: &quot;info-sign&quot;, &quot;iconColor&quot;: &quot;white&quot;, &quot;markerColor&quot;: &quot;blue&quot;, &quot;prefix&quot;: &quot;glyphicon&quot;}\n            );\n            marker_3271a3b6688365cae117dd8829b27119.setIcon(icon_17450e2f8f2979e56a6abe64a6f1ae3d);\n        \n    \n            var marker_8f3517e1d3132d7658fb33680d94266a = L.marker(\n                [49.24966, -123.11934],\n                {}\n            ).addTo(map_c786679657cdcb9432975dde7a9467e3);\n        \n    \n            var icon_29bf6576a12beca584f27d7838e9689a = L.AwesomeMarkers.icon(\n                {&quot;extraClasses&quot;: &quot;fa-rotate-0&quot;, &quot;icon&quot;: &quot;info-sign&quot;, &quot;iconColor&quot;: &quot;white&quot;, &quot;markerColor&quot;: &quot;blue&quot;, &quot;prefix&quot;: &quot;glyphicon&quot;}\n            );\n            marker_8f3517e1d3132d7658fb33680d94266a.setIcon(icon_29bf6576a12beca584f27d7838e9689a);\n        \n    \n            var marker_d95cf23e70478b3c381a5e72c935c1f1 = L.marker(\n                [43.70011, -79.4163],\n                {}\n            ).addTo(map_c786679657cdcb9432975dde7a9467e3);\n        \n    \n            var icon_5eb66a7c3e910e9fefbf3d3a5933ef83 = L.AwesomeMarkers.icon(\n                {&quot;extraClasses&quot;: &quot;fa-rotate-0&quot;, &quot;icon&quot;: &quot;info-sign&quot;, &quot;iconColor&quot;: &quot;white&quot;, &quot;markerColor&quot;: &quot;blue&quot;, &quot;prefix&quot;: &quot;glyphicon&quot;}\n            );\n            marker_d95cf23e70478b3c381a5e72c935c1f1.setIcon(icon_5eb66a7c3e910e9fefbf3d3a5933ef83);\n        \n    \n            var marker_393b6462567e10f3458a4fc85911cfe5 = L.marker(\n                [43.70011, -79.4163],\n                {}\n            ).addTo(map_c786679657cdcb9432975dde7a9467e3);\n        \n    \n            var icon_b0aaf54ccb777afcd775064880654ff8 = L.AwesomeMarkers.icon(\n                {&quot;extraClasses&quot;: &quot;fa-rotate-0&quot;, &quot;icon&quot;: &quot;info-sign&quot;, &quot;iconColor&quot;: &quot;white&quot;, &quot;markerColor&quot;: &quot;blue&quot;, &quot;prefix&quot;: &quot;glyphicon&quot;}\n            );\n            marker_393b6462567e10f3458a4fc85911cfe5.setIcon(icon_b0aaf54ccb777afcd775064880654ff8);\n        \n    \n            var marker_528b700ca70fcfeee5cfc5001305fc81 = L.marker(\n                [43.70011, -79.4163],\n                {}\n            ).addTo(map_c786679657cdcb9432975dde7a9467e3);\n        \n    \n            var icon_57a0fc3bbccdc75fff5a513b5478cf92 = L.AwesomeMarkers.icon(\n                {&quot;extraClasses&quot;: &quot;fa-rotate-0&quot;, &quot;icon&quot;: &quot;info-sign&quot;, &quot;iconColor&quot;: &quot;white&quot;, &quot;markerColor&quot;: &quot;blue&quot;, &quot;prefix&quot;: &quot;glyphicon&quot;}\n            );\n            marker_528b700ca70fcfeee5cfc5001305fc81.setIcon(icon_57a0fc3bbccdc75fff5a513b5478cf92);\n        \n    \n            var marker_82a0fd0915b6e7bf8f80a46696a340be = L.marker(\n                [49.24966, -123.11934],\n                {}\n            ).addTo(map_c786679657cdcb9432975dde7a9467e3);\n        \n    \n            var icon_09af50f7f33c2e94644db58edbd5e58b = L.AwesomeMarkers.icon(\n                {&quot;extraClasses&quot;: &quot;fa-rotate-0&quot;, &quot;icon&quot;: &quot;info-sign&quot;, &quot;iconColor&quot;: &quot;white&quot;, &quot;markerColor&quot;: &quot;blue&quot;, &quot;prefix&quot;: &quot;glyphicon&quot;}\n            );\n            marker_82a0fd0915b6e7bf8f80a46696a340be.setIcon(icon_09af50f7f33c2e94644db58edbd5e58b);\n        \n    \n            var marker_128982537ed93edd0758fe0ef218edbc = L.marker(\n                [51.05011, -114.08529],\n                {}\n            ).addTo(map_c786679657cdcb9432975dde7a9467e3);\n        \n    \n            var icon_3c0bcebf7d21fc742cba5e05f0383613 = L.AwesomeMarkers.icon(\n                {&quot;extraClasses&quot;: &quot;fa-rotate-0&quot;, &quot;icon&quot;: &quot;info-sign&quot;, &quot;iconColor&quot;: &quot;white&quot;, &quot;markerColor&quot;: &quot;blue&quot;, &quot;prefix&quot;: &quot;glyphicon&quot;}\n            );\n            marker_128982537ed93edd0758fe0ef218edbc.setIcon(icon_3c0bcebf7d21fc742cba5e05f0383613);\n        \n    \n            var marker_c6c61c422b326ca042dce933f7bbc4e4 = L.marker(\n                [43.70011, -79.4163],\n                {}\n            ).addTo(map_c786679657cdcb9432975dde7a9467e3);\n        \n    \n            var icon_83aa0ebe7efb6d7a08c82cce7ab21fc6 = L.AwesomeMarkers.icon(\n                {&quot;extraClasses&quot;: &quot;fa-rotate-0&quot;, &quot;icon&quot;: &quot;info-sign&quot;, &quot;iconColor&quot;: &quot;white&quot;, &quot;markerColor&quot;: &quot;blue&quot;, &quot;prefix&quot;: &quot;glyphicon&quot;}\n            );\n            marker_c6c61c422b326ca042dce933f7bbc4e4.setIcon(icon_83aa0ebe7efb6d7a08c82cce7ab21fc6);\n        \n    \n            var marker_83074f8116ee3940fdc2bb29e6e3f1ba = L.marker(\n                [49.88307, -119.48568],\n                {}\n            ).addTo(map_c786679657cdcb9432975dde7a9467e3);\n        \n    \n            var icon_e48e345031c4db0e630ee23e9c97937f = L.AwesomeMarkers.icon(\n                {&quot;extraClasses&quot;: &quot;fa-rotate-0&quot;, &quot;icon&quot;: &quot;info-sign&quot;, &quot;iconColor&quot;: &quot;white&quot;, &quot;markerColor&quot;: &quot;blue&quot;, &quot;prefix&quot;: &quot;glyphicon&quot;}\n            );\n            marker_83074f8116ee3940fdc2bb29e6e3f1ba.setIcon(icon_e48e345031c4db0e630ee23e9c97937f);\n        \n    \n            var marker_330d8a67204ea35c823470a142f4d218 = L.marker(\n                [49.88307, -119.48568],\n                {}\n            ).addTo(map_c786679657cdcb9432975dde7a9467e3);\n        \n    \n            var icon_587294ea558a7ea352c36e850e906968 = L.AwesomeMarkers.icon(\n                {&quot;extraClasses&quot;: &quot;fa-rotate-0&quot;, &quot;icon&quot;: &quot;info-sign&quot;, &quot;iconColor&quot;: &quot;white&quot;, &quot;markerColor&quot;: &quot;blue&quot;, &quot;prefix&quot;: &quot;glyphicon&quot;}\n            );\n            marker_330d8a67204ea35c823470a142f4d218.setIcon(icon_587294ea558a7ea352c36e850e906968);\n        \n    \n            var marker_cd24571eea3826fca09b16694f25fd2e = L.marker(\n                [51.05011, -114.08529],\n                {}\n            ).addTo(map_c786679657cdcb9432975dde7a9467e3);\n        \n    \n            var icon_b05068a9d1fb6029ddd608d7d1ec42c4 = L.AwesomeMarkers.icon(\n                {&quot;extraClasses&quot;: &quot;fa-rotate-0&quot;, &quot;icon&quot;: &quot;info-sign&quot;, &quot;iconColor&quot;: &quot;white&quot;, &quot;markerColor&quot;: &quot;blue&quot;, &quot;prefix&quot;: &quot;glyphicon&quot;}\n            );\n            marker_cd24571eea3826fca09b16694f25fd2e.setIcon(icon_b05068a9d1fb6029ddd608d7d1ec42c4);\n        \n    \n            var marker_ae00ac1bc0e20550d49cf7274b65c0ea = L.marker(\n                [43.70011, -79.4163],\n                {}\n            ).addTo(map_c786679657cdcb9432975dde7a9467e3);\n        \n    \n            var icon_a56f2a1d2aca78b512341a0d236f1a44 = L.AwesomeMarkers.icon(\n                {&quot;extraClasses&quot;: &quot;fa-rotate-0&quot;, &quot;icon&quot;: &quot;info-sign&quot;, &quot;iconColor&quot;: &quot;white&quot;, &quot;markerColor&quot;: &quot;blue&quot;, &quot;prefix&quot;: &quot;glyphicon&quot;}\n            );\n            marker_ae00ac1bc0e20550d49cf7274b65c0ea.setIcon(icon_a56f2a1d2aca78b512341a0d236f1a44);\n        \n    \n            var marker_689d1afba4596c43c8eed43304511021 = L.marker(\n                [43.70011, -79.4163],\n                {}\n            ).addTo(map_c786679657cdcb9432975dde7a9467e3);\n        \n    \n            var icon_ec10c7b693942857ae18bb169694ffa5 = L.AwesomeMarkers.icon(\n                {&quot;extraClasses&quot;: &quot;fa-rotate-0&quot;, &quot;icon&quot;: &quot;info-sign&quot;, &quot;iconColor&quot;: &quot;white&quot;, &quot;markerColor&quot;: &quot;blue&quot;, &quot;prefix&quot;: &quot;glyphicon&quot;}\n            );\n            marker_689d1afba4596c43c8eed43304511021.setIcon(icon_ec10c7b693942857ae18bb169694ffa5);\n        \n    \n            var marker_b9ca44b3e07c0e76f8c8384a624b8025 = L.marker(\n                [43.70011, -79.4163],\n                {}\n            ).addTo(map_c786679657cdcb9432975dde7a9467e3);\n        \n    \n            var icon_632ea8cdec4c74d7c19e272ef1f439c7 = L.AwesomeMarkers.icon(\n                {&quot;extraClasses&quot;: &quot;fa-rotate-0&quot;, &quot;icon&quot;: &quot;info-sign&quot;, &quot;iconColor&quot;: &quot;white&quot;, &quot;markerColor&quot;: &quot;blue&quot;, &quot;prefix&quot;: &quot;glyphicon&quot;}\n            );\n            marker_b9ca44b3e07c0e76f8c8384a624b8025.setIcon(icon_632ea8cdec4c74d7c19e272ef1f439c7);\n        \n    \n            var marker_decb3b3b4e5573f530a96af2be9b258a = L.marker(\n                [49.24966, -123.11934],\n                {}\n            ).addTo(map_c786679657cdcb9432975dde7a9467e3);\n        \n    \n            var icon_6ab3acc2ae28124d9f338b7724782d76 = L.AwesomeMarkers.icon(\n                {&quot;extraClasses&quot;: &quot;fa-rotate-0&quot;, &quot;icon&quot;: &quot;info-sign&quot;, &quot;iconColor&quot;: &quot;white&quot;, &quot;markerColor&quot;: &quot;blue&quot;, &quot;prefix&quot;: &quot;glyphicon&quot;}\n            );\n            marker_decb3b3b4e5573f530a96af2be9b258a.setIcon(icon_6ab3acc2ae28124d9f338b7724782d76);\n        \n    \n            var marker_b8c83947cb707c8b2c1300e2d7bd4c01 = L.marker(\n                [51.05011, -114.08529],\n                {}\n            ).addTo(map_c786679657cdcb9432975dde7a9467e3);\n        \n    \n            var icon_47f2f5d7d43da79dbd40863b87e43087 = L.AwesomeMarkers.icon(\n                {&quot;extraClasses&quot;: &quot;fa-rotate-0&quot;, &quot;icon&quot;: &quot;info-sign&quot;, &quot;iconColor&quot;: &quot;white&quot;, &quot;markerColor&quot;: &quot;blue&quot;, &quot;prefix&quot;: &quot;glyphicon&quot;}\n            );\n            marker_b8c83947cb707c8b2c1300e2d7bd4c01.setIcon(icon_47f2f5d7d43da79dbd40863b87e43087);\n        \n    \n            var marker_072142d8fa38cc2e67613054df7f6848 = L.marker(\n                [43.70011, -79.4163],\n                {}\n            ).addTo(map_c786679657cdcb9432975dde7a9467e3);\n        \n    \n            var icon_fa4b5e938c86a6d4712c2668002c7074 = L.AwesomeMarkers.icon(\n                {&quot;extraClasses&quot;: &quot;fa-rotate-0&quot;, &quot;icon&quot;: &quot;info-sign&quot;, &quot;iconColor&quot;: &quot;white&quot;, &quot;markerColor&quot;: &quot;blue&quot;, &quot;prefix&quot;: &quot;glyphicon&quot;}\n            );\n            marker_072142d8fa38cc2e67613054df7f6848.setIcon(icon_fa4b5e938c86a6d4712c2668002c7074);\n        \n    \n            var marker_c39f44ca2aa154250a3c845cd82b582f = L.marker(\n                [45.50884, -73.58781],\n                {}\n            ).addTo(map_c786679657cdcb9432975dde7a9467e3);\n        \n    \n            var icon_0bca085d493805d6f5cfd2118a2ccdde = L.AwesomeMarkers.icon(\n                {&quot;extraClasses&quot;: &quot;fa-rotate-0&quot;, &quot;icon&quot;: &quot;info-sign&quot;, &quot;iconColor&quot;: &quot;white&quot;, &quot;markerColor&quot;: &quot;blue&quot;, &quot;prefix&quot;: &quot;glyphicon&quot;}\n            );\n            marker_c39f44ca2aa154250a3c845cd82b582f.setIcon(icon_0bca085d493805d6f5cfd2118a2ccdde);\n        \n    \n            var marker_e58d05da98410830bb9b877f13f19577 = L.marker(\n                [45.50884, -73.58781],\n                {}\n            ).addTo(map_c786679657cdcb9432975dde7a9467e3);\n        \n    \n            var icon_fb2ffcc1fba30bc35fa6acea24e245a3 = L.AwesomeMarkers.icon(\n                {&quot;extraClasses&quot;: &quot;fa-rotate-0&quot;, &quot;icon&quot;: &quot;info-sign&quot;, &quot;iconColor&quot;: &quot;white&quot;, &quot;markerColor&quot;: &quot;blue&quot;, &quot;prefix&quot;: &quot;glyphicon&quot;}\n            );\n            marker_e58d05da98410830bb9b877f13f19577.setIcon(icon_fb2ffcc1fba30bc35fa6acea24e245a3);\n        \n    \n            var marker_8b1025f1e92f66289e1eb0d6a0d8b51a = L.marker(\n                [45.41117, -75.69811999999997],\n                {}\n            ).addTo(map_c786679657cdcb9432975dde7a9467e3);\n        \n    \n            var icon_5343b1440f3307e7cd40c9c878a6c4fa = L.AwesomeMarkers.icon(\n                {&quot;extraClasses&quot;: &quot;fa-rotate-0&quot;, &quot;icon&quot;: &quot;info-sign&quot;, &quot;iconColor&quot;: &quot;white&quot;, &quot;markerColor&quot;: &quot;blue&quot;, &quot;prefix&quot;: &quot;glyphicon&quot;}\n            );\n            marker_8b1025f1e92f66289e1eb0d6a0d8b51a.setIcon(icon_5343b1440f3307e7cd40c9c878a6c4fa);\n        \n    \n            var marker_1ab31b58d7291c94610f079932b5a555 = L.marker(\n                [43.70011, -79.4163],\n                {}\n            ).addTo(map_c786679657cdcb9432975dde7a9467e3);\n        \n    \n            var icon_ec3d74f345f88bab0bd9a37b93cfe827 = L.AwesomeMarkers.icon(\n                {&quot;extraClasses&quot;: &quot;fa-rotate-0&quot;, &quot;icon&quot;: &quot;info-sign&quot;, &quot;iconColor&quot;: &quot;white&quot;, &quot;markerColor&quot;: &quot;blue&quot;, &quot;prefix&quot;: &quot;glyphicon&quot;}\n            );\n            marker_1ab31b58d7291c94610f079932b5a555.setIcon(icon_ec3d74f345f88bab0bd9a37b93cfe827);\n        \n    \n            var marker_7833b9384c2a6e0f5f8e27f48647bad8 = L.marker(\n                [49.24966, -123.11934],\n                {}\n            ).addTo(map_c786679657cdcb9432975dde7a9467e3);\n        \n    \n            var icon_98a161c455de5c1e6e5d8e7bdfc782f7 = L.AwesomeMarkers.icon(\n                {&quot;extraClasses&quot;: &quot;fa-rotate-0&quot;, &quot;icon&quot;: &quot;info-sign&quot;, &quot;iconColor&quot;: &quot;white&quot;, &quot;markerColor&quot;: &quot;blue&quot;, &quot;prefix&quot;: &quot;glyphicon&quot;}\n            );\n            marker_7833b9384c2a6e0f5f8e27f48647bad8.setIcon(icon_98a161c455de5c1e6e5d8e7bdfc782f7);\n        \n    \n            var marker_4844f70261073fb723afd4aea07d56a4 = L.marker(\n                [51.05011, -114.08529],\n                {}\n            ).addTo(map_c786679657cdcb9432975dde7a9467e3);\n        \n    \n            var icon_85145230211fc7c340dbd5bf1e18bc5d = L.AwesomeMarkers.icon(\n                {&quot;extraClasses&quot;: &quot;fa-rotate-0&quot;, &quot;icon&quot;: &quot;info-sign&quot;, &quot;iconColor&quot;: &quot;white&quot;, &quot;markerColor&quot;: &quot;blue&quot;, &quot;prefix&quot;: &quot;glyphicon&quot;}\n            );\n            marker_4844f70261073fb723afd4aea07d56a4.setIcon(icon_85145230211fc7c340dbd5bf1e18bc5d);\n        \n    \n            var marker_62e62cc0ba19251c933a16d9c8f3a71d = L.marker(\n                [43.70011, -79.4163],\n                {}\n            ).addTo(map_c786679657cdcb9432975dde7a9467e3);\n        \n    \n            var icon_6f965f29ce7cc79687e3a623fa1e44eb = L.AwesomeMarkers.icon(\n                {&quot;extraClasses&quot;: &quot;fa-rotate-0&quot;, &quot;icon&quot;: &quot;info-sign&quot;, &quot;iconColor&quot;: &quot;white&quot;, &quot;markerColor&quot;: &quot;blue&quot;, &quot;prefix&quot;: &quot;glyphicon&quot;}\n            );\n            marker_62e62cc0ba19251c933a16d9c8f3a71d.setIcon(icon_6f965f29ce7cc79687e3a623fa1e44eb);\n        \n    \n            var marker_4e7940a045a5819e61578b6ddc6256dc = L.marker(\n                [49.24966, -123.11934],\n                {}\n            ).addTo(map_c786679657cdcb9432975dde7a9467e3);\n        \n    \n            var icon_b3bdd1d475c5275c37be00c086848a5b = L.AwesomeMarkers.icon(\n                {&quot;extraClasses&quot;: &quot;fa-rotate-0&quot;, &quot;icon&quot;: &quot;info-sign&quot;, &quot;iconColor&quot;: &quot;white&quot;, &quot;markerColor&quot;: &quot;blue&quot;, &quot;prefix&quot;: &quot;glyphicon&quot;}\n            );\n            marker_4e7940a045a5819e61578b6ddc6256dc.setIcon(icon_b3bdd1d475c5275c37be00c086848a5b);\n        \n    \n            var marker_d6a682018cb30018c4a9e93c49f1ebdc = L.marker(\n                [43.70011, -79.4163],\n                {}\n            ).addTo(map_c786679657cdcb9432975dde7a9467e3);\n        \n    \n            var icon_5cb11009b45bab3852fa12ba310c092e = L.AwesomeMarkers.icon(\n                {&quot;extraClasses&quot;: &quot;fa-rotate-0&quot;, &quot;icon&quot;: &quot;info-sign&quot;, &quot;iconColor&quot;: &quot;white&quot;, &quot;markerColor&quot;: &quot;blue&quot;, &quot;prefix&quot;: &quot;glyphicon&quot;}\n            );\n            marker_d6a682018cb30018c4a9e93c49f1ebdc.setIcon(icon_5cb11009b45bab3852fa12ba310c092e);\n        \n    \n            var marker_870076c450c121f0c3bf886d56e548d0 = L.marker(\n                [43.70011, -79.4163],\n                {}\n            ).addTo(map_c786679657cdcb9432975dde7a9467e3);\n        \n    \n            var icon_609b33303b626c44f3e6524b7c972210 = L.AwesomeMarkers.icon(\n                {&quot;extraClasses&quot;: &quot;fa-rotate-0&quot;, &quot;icon&quot;: &quot;info-sign&quot;, &quot;iconColor&quot;: &quot;white&quot;, &quot;markerColor&quot;: &quot;blue&quot;, &quot;prefix&quot;: &quot;glyphicon&quot;}\n            );\n            marker_870076c450c121f0c3bf886d56e548d0.setIcon(icon_609b33303b626c44f3e6524b7c972210);\n        \n    \n            var marker_4786603ebe40afd8cfa7f4486f7faf7f = L.marker(\n                [43.70011, -79.4163],\n                {}\n            ).addTo(map_c786679657cdcb9432975dde7a9467e3);\n        \n    \n            var icon_998726b118062f11b47d12497780ff16 = L.AwesomeMarkers.icon(\n                {&quot;extraClasses&quot;: &quot;fa-rotate-0&quot;, &quot;icon&quot;: &quot;info-sign&quot;, &quot;iconColor&quot;: &quot;white&quot;, &quot;markerColor&quot;: &quot;blue&quot;, &quot;prefix&quot;: &quot;glyphicon&quot;}\n            );\n            marker_4786603ebe40afd8cfa7f4486f7faf7f.setIcon(icon_998726b118062f11b47d12497780ff16);\n        \n    \n            var marker_57a1863afb4ff1932629318424f686bc = L.marker(\n                [49.88307, -119.48568],\n                {}\n            ).addTo(map_c786679657cdcb9432975dde7a9467e3);\n        \n    \n            var icon_bdae7b7719932383f30c0acf02261fd5 = L.AwesomeMarkers.icon(\n                {&quot;extraClasses&quot;: &quot;fa-rotate-0&quot;, &quot;icon&quot;: &quot;info-sign&quot;, &quot;iconColor&quot;: &quot;white&quot;, &quot;markerColor&quot;: &quot;blue&quot;, &quot;prefix&quot;: &quot;glyphicon&quot;}\n            );\n            marker_57a1863afb4ff1932629318424f686bc.setIcon(icon_bdae7b7719932383f30c0acf02261fd5);\n        \n    \n            var marker_4843099ce286f8b0ba2e7e8d471f7b40 = L.marker(\n                [49.88307, -119.48568],\n                {}\n            ).addTo(map_c786679657cdcb9432975dde7a9467e3);\n        \n    \n            var icon_9fdbe1727b3f280d3a0a2693b0544559 = L.AwesomeMarkers.icon(\n                {&quot;extraClasses&quot;: &quot;fa-rotate-0&quot;, &quot;icon&quot;: &quot;info-sign&quot;, &quot;iconColor&quot;: &quot;white&quot;, &quot;markerColor&quot;: &quot;blue&quot;, &quot;prefix&quot;: &quot;glyphicon&quot;}\n            );\n            marker_4843099ce286f8b0ba2e7e8d471f7b40.setIcon(icon_9fdbe1727b3f280d3a0a2693b0544559);\n        \n    \n            var marker_12e5453ac59324f9414f4cbc012d07c4 = L.marker(\n                [51.05011, -114.08529],\n                {}\n            ).addTo(map_c786679657cdcb9432975dde7a9467e3);\n        \n    \n            var icon_1c56ad2510af4d576e24f7d42d885ae9 = L.AwesomeMarkers.icon(\n                {&quot;extraClasses&quot;: &quot;fa-rotate-0&quot;, &quot;icon&quot;: &quot;info-sign&quot;, &quot;iconColor&quot;: &quot;white&quot;, &quot;markerColor&quot;: &quot;blue&quot;, &quot;prefix&quot;: &quot;glyphicon&quot;}\n            );\n            marker_12e5453ac59324f9414f4cbc012d07c4.setIcon(icon_1c56ad2510af4d576e24f7d42d885ae9);\n        \n    \n            var marker_3659da526bbf50a3fca3d95f7817c54c = L.marker(\n                [43.70011, -79.4163],\n                {}\n            ).addTo(map_c786679657cdcb9432975dde7a9467e3);\n        \n    \n            var icon_30e76c05d6eab829d3380ae91e6f86bd = L.AwesomeMarkers.icon(\n                {&quot;extraClasses&quot;: &quot;fa-rotate-0&quot;, &quot;icon&quot;: &quot;info-sign&quot;, &quot;iconColor&quot;: &quot;white&quot;, &quot;markerColor&quot;: &quot;blue&quot;, &quot;prefix&quot;: &quot;glyphicon&quot;}\n            );\n            marker_3659da526bbf50a3fca3d95f7817c54c.setIcon(icon_30e76c05d6eab829d3380ae91e6f86bd);\n        \n    \n            var marker_a806447a9db4a4fdc2122fd006e8f8ef = L.marker(\n                [43.70011, -79.4163],\n                {}\n            ).addTo(map_c786679657cdcb9432975dde7a9467e3);\n        \n    \n            var icon_68f02a8db925fdcce52786afbfa6152d = L.AwesomeMarkers.icon(\n                {&quot;extraClasses&quot;: &quot;fa-rotate-0&quot;, &quot;icon&quot;: &quot;info-sign&quot;, &quot;iconColor&quot;: &quot;white&quot;, &quot;markerColor&quot;: &quot;blue&quot;, &quot;prefix&quot;: &quot;glyphicon&quot;}\n            );\n            marker_a806447a9db4a4fdc2122fd006e8f8ef.setIcon(icon_68f02a8db925fdcce52786afbfa6152d);\n        \n    \n            var marker_d878830b072a89b65d056ad12b1721e1 = L.marker(\n                [43.70011, -79.4163],\n                {}\n            ).addTo(map_c786679657cdcb9432975dde7a9467e3);\n        \n    \n            var icon_4a7734aa7a9e58a01b724032d5c8d832 = L.AwesomeMarkers.icon(\n                {&quot;extraClasses&quot;: &quot;fa-rotate-0&quot;, &quot;icon&quot;: &quot;info-sign&quot;, &quot;iconColor&quot;: &quot;white&quot;, &quot;markerColor&quot;: &quot;blue&quot;, &quot;prefix&quot;: &quot;glyphicon&quot;}\n            );\n            marker_d878830b072a89b65d056ad12b1721e1.setIcon(icon_4a7734aa7a9e58a01b724032d5c8d832);\n        \n    \n            var marker_b488bbb7531d464afd8397e2e40de12d = L.marker(\n                [49.24966, -123.11934],\n                {}\n            ).addTo(map_c786679657cdcb9432975dde7a9467e3);\n        \n    \n            var icon_974805b6429f47b4cd1256e74d920bcb = L.AwesomeMarkers.icon(\n                {&quot;extraClasses&quot;: &quot;fa-rotate-0&quot;, &quot;icon&quot;: &quot;info-sign&quot;, &quot;iconColor&quot;: &quot;white&quot;, &quot;markerColor&quot;: &quot;blue&quot;, &quot;prefix&quot;: &quot;glyphicon&quot;}\n            );\n            marker_b488bbb7531d464afd8397e2e40de12d.setIcon(icon_974805b6429f47b4cd1256e74d920bcb);\n        \n    \n            var marker_143a1ded449fcc637be1a1302e898083 = L.marker(\n                [51.05011, -114.08529],\n                {}\n            ).addTo(map_c786679657cdcb9432975dde7a9467e3);\n        \n    \n            var icon_757e2041c86be015f12d200aee3bdc52 = L.AwesomeMarkers.icon(\n                {&quot;extraClasses&quot;: &quot;fa-rotate-0&quot;, &quot;icon&quot;: &quot;info-sign&quot;, &quot;iconColor&quot;: &quot;white&quot;, &quot;markerColor&quot;: &quot;blue&quot;, &quot;prefix&quot;: &quot;glyphicon&quot;}\n            );\n            marker_143a1ded449fcc637be1a1302e898083.setIcon(icon_757e2041c86be015f12d200aee3bdc52);\n        \n    \n            var marker_9f59b15b5ac913895b9e530e47c57e87 = L.marker(\n                [45.50884, -73.58781],\n                {}\n            ).addTo(map_c786679657cdcb9432975dde7a9467e3);\n        \n    \n            var icon_12a9f41b4632da5ae25d13fd25a21599 = L.AwesomeMarkers.icon(\n                {&quot;extraClasses&quot;: &quot;fa-rotate-0&quot;, &quot;icon&quot;: &quot;info-sign&quot;, &quot;iconColor&quot;: &quot;white&quot;, &quot;markerColor&quot;: &quot;blue&quot;, &quot;prefix&quot;: &quot;glyphicon&quot;}\n            );\n            marker_9f59b15b5ac913895b9e530e47c57e87.setIcon(icon_12a9f41b4632da5ae25d13fd25a21599);\n        \n    \n            var marker_28c4d65bbc27e6a4bf7decca17bae757 = L.marker(\n                [45.50884, -73.58781],\n                {}\n            ).addTo(map_c786679657cdcb9432975dde7a9467e3);\n        \n    \n            var icon_8d789eb46cc08d4b1371c60ea7e2c524 = L.AwesomeMarkers.icon(\n                {&quot;extraClasses&quot;: &quot;fa-rotate-0&quot;, &quot;icon&quot;: &quot;info-sign&quot;, &quot;iconColor&quot;: &quot;white&quot;, &quot;markerColor&quot;: &quot;blue&quot;, &quot;prefix&quot;: &quot;glyphicon&quot;}\n            );\n            marker_28c4d65bbc27e6a4bf7decca17bae757.setIcon(icon_8d789eb46cc08d4b1371c60ea7e2c524);\n        \n    \n            var marker_f699d84f26e7a0f1c17d6ba3ec2a39ef = L.marker(\n                [45.41117, -75.69811999999997],\n                {}\n            ).addTo(map_c786679657cdcb9432975dde7a9467e3);\n        \n    \n            var icon_da2d81a03d75c7dc442d651247d52a70 = L.AwesomeMarkers.icon(\n                {&quot;extraClasses&quot;: &quot;fa-rotate-0&quot;, &quot;icon&quot;: &quot;info-sign&quot;, &quot;iconColor&quot;: &quot;white&quot;, &quot;markerColor&quot;: &quot;blue&quot;, &quot;prefix&quot;: &quot;glyphicon&quot;}\n            );\n            marker_f699d84f26e7a0f1c17d6ba3ec2a39ef.setIcon(icon_da2d81a03d75c7dc442d651247d52a70);\n        \n    \n            var marker_39458aebff25c74a5d2cbf8f0560bddf = L.marker(\n                [51.05011, -114.08529],\n                {}\n            ).addTo(map_c786679657cdcb9432975dde7a9467e3);\n        \n    \n            var icon_6b25fa5644c25cb6258fe58842267c0d = L.AwesomeMarkers.icon(\n                {&quot;extraClasses&quot;: &quot;fa-rotate-0&quot;, &quot;icon&quot;: &quot;info-sign&quot;, &quot;iconColor&quot;: &quot;white&quot;, &quot;markerColor&quot;: &quot;blue&quot;, &quot;prefix&quot;: &quot;glyphicon&quot;}\n            );\n            marker_39458aebff25c74a5d2cbf8f0560bddf.setIcon(icon_6b25fa5644c25cb6258fe58842267c0d);\n        \n    \n            var marker_388637e57cc71d712f21ec28c62239cd = L.marker(\n                [49.24966, -123.11934],\n                {}\n            ).addTo(map_c786679657cdcb9432975dde7a9467e3);\n        \n    \n            var icon_c98c14f435b760f1940720ca0003b071 = L.AwesomeMarkers.icon(\n                {&quot;extraClasses&quot;: &quot;fa-rotate-0&quot;, &quot;icon&quot;: &quot;info-sign&quot;, &quot;iconColor&quot;: &quot;white&quot;, &quot;markerColor&quot;: &quot;blue&quot;, &quot;prefix&quot;: &quot;glyphicon&quot;}\n            );\n            marker_388637e57cc71d712f21ec28c62239cd.setIcon(icon_c98c14f435b760f1940720ca0003b071);\n        \n    \n            var marker_6f4d9252dd4ec468d246f964e02e6e37 = L.marker(\n                [43.70011, -79.4163],\n                {}\n            ).addTo(map_c786679657cdcb9432975dde7a9467e3);\n        \n    \n            var icon_850652edf34de8da84ca17dd8aaea113 = L.AwesomeMarkers.icon(\n                {&quot;extraClasses&quot;: &quot;fa-rotate-0&quot;, &quot;icon&quot;: &quot;info-sign&quot;, &quot;iconColor&quot;: &quot;white&quot;, &quot;markerColor&quot;: &quot;blue&quot;, &quot;prefix&quot;: &quot;glyphicon&quot;}\n            );\n            marker_6f4d9252dd4ec468d246f964e02e6e37.setIcon(icon_850652edf34de8da84ca17dd8aaea113);\n        \n    \n            var marker_c18da8c4e353e60690ef1a825594cac1 = L.marker(\n                [43.70011, -79.4163],\n                {}\n            ).addTo(map_c786679657cdcb9432975dde7a9467e3);\n        \n    \n            var icon_896733cb7c7f1366f639fd3f946e86a2 = L.AwesomeMarkers.icon(\n                {&quot;extraClasses&quot;: &quot;fa-rotate-0&quot;, &quot;icon&quot;: &quot;info-sign&quot;, &quot;iconColor&quot;: &quot;white&quot;, &quot;markerColor&quot;: &quot;blue&quot;, &quot;prefix&quot;: &quot;glyphicon&quot;}\n            );\n            marker_c18da8c4e353e60690ef1a825594cac1.setIcon(icon_896733cb7c7f1366f639fd3f946e86a2);\n        \n    \n            var marker_ae7656b8e5f69193a353614ae12b016d = L.marker(\n                [49.24966, -123.11934],\n                {}\n            ).addTo(map_c786679657cdcb9432975dde7a9467e3);\n        \n    \n            var icon_541bd75317db0e6d8d1073ed98cb9a28 = L.AwesomeMarkers.icon(\n                {&quot;extraClasses&quot;: &quot;fa-rotate-0&quot;, &quot;icon&quot;: &quot;info-sign&quot;, &quot;iconColor&quot;: &quot;white&quot;, &quot;markerColor&quot;: &quot;blue&quot;, &quot;prefix&quot;: &quot;glyphicon&quot;}\n            );\n            marker_ae7656b8e5f69193a353614ae12b016d.setIcon(icon_541bd75317db0e6d8d1073ed98cb9a28);\n        \n    \n            var marker_b53475cd5f39c759a3f913aa86670ddd = L.marker(\n                [43.70011, -79.4163],\n                {}\n            ).addTo(map_c786679657cdcb9432975dde7a9467e3);\n        \n    \n            var icon_7093300a5cc0ef44230ad3a963b9cf81 = L.AwesomeMarkers.icon(\n                {&quot;extraClasses&quot;: &quot;fa-rotate-0&quot;, &quot;icon&quot;: &quot;info-sign&quot;, &quot;iconColor&quot;: &quot;white&quot;, &quot;markerColor&quot;: &quot;blue&quot;, &quot;prefix&quot;: &quot;glyphicon&quot;}\n            );\n            marker_b53475cd5f39c759a3f913aa86670ddd.setIcon(icon_7093300a5cc0ef44230ad3a963b9cf81);\n        \n    \n            var marker_97b325d622aa7e25917f7a8ff1a1cc41 = L.marker(\n                [51.05011, -114.08529],\n                {}\n            ).addTo(map_c786679657cdcb9432975dde7a9467e3);\n        \n    \n            var icon_28631cd5708c75d7c316b09c3caa5c71 = L.AwesomeMarkers.icon(\n                {&quot;extraClasses&quot;: &quot;fa-rotate-0&quot;, &quot;icon&quot;: &quot;info-sign&quot;, &quot;iconColor&quot;: &quot;white&quot;, &quot;markerColor&quot;: &quot;blue&quot;, &quot;prefix&quot;: &quot;glyphicon&quot;}\n            );\n            marker_97b325d622aa7e25917f7a8ff1a1cc41.setIcon(icon_28631cd5708c75d7c316b09c3caa5c71);\n        \n    \n            var marker_dc52fecb6da8e44d33ea77cb79afeda5 = L.marker(\n                [43.70011, -79.4163],\n                {}\n            ).addTo(map_c786679657cdcb9432975dde7a9467e3);\n        \n    \n            var icon_ce412780ff451853d9b8b9393ea7c726 = L.AwesomeMarkers.icon(\n                {&quot;extraClasses&quot;: &quot;fa-rotate-0&quot;, &quot;icon&quot;: &quot;info-sign&quot;, &quot;iconColor&quot;: &quot;white&quot;, &quot;markerColor&quot;: &quot;blue&quot;, &quot;prefix&quot;: &quot;glyphicon&quot;}\n            );\n            marker_dc52fecb6da8e44d33ea77cb79afeda5.setIcon(icon_ce412780ff451853d9b8b9393ea7c726);\n        \n    \n            var marker_6d4aa99e63a09d29ab68867d6ea65ffe = L.marker(\n                [43.42537, -80.5112],\n                {}\n            ).addTo(map_c786679657cdcb9432975dde7a9467e3);\n        \n    \n            var icon_641be30d80be153db15cd6db222e8b56 = L.AwesomeMarkers.icon(\n                {&quot;extraClasses&quot;: &quot;fa-rotate-0&quot;, &quot;icon&quot;: &quot;info-sign&quot;, &quot;iconColor&quot;: &quot;white&quot;, &quot;markerColor&quot;: &quot;blue&quot;, &quot;prefix&quot;: &quot;glyphicon&quot;}\n            );\n            marker_6d4aa99e63a09d29ab68867d6ea65ffe.setIcon(icon_641be30d80be153db15cd6db222e8b56);\n        \n    \n            var marker_9047893a918b27b3e96a5f64b5b3b90a = L.marker(\n                [43.70011, -79.4163],\n                {}\n            ).addTo(map_c786679657cdcb9432975dde7a9467e3);\n        \n    \n            var icon_aad6997db859c207ab385a2e467b93b9 = L.AwesomeMarkers.icon(\n                {&quot;extraClasses&quot;: &quot;fa-rotate-0&quot;, &quot;icon&quot;: &quot;info-sign&quot;, &quot;iconColor&quot;: &quot;white&quot;, &quot;markerColor&quot;: &quot;blue&quot;, &quot;prefix&quot;: &quot;glyphicon&quot;}\n            );\n            marker_9047893a918b27b3e96a5f64b5b3b90a.setIcon(icon_aad6997db859c207ab385a2e467b93b9);\n        \n    \n            var marker_973d7db933eba5d9841fea2b66fc3203 = L.marker(\n                [43.70011, -79.4163],\n                {}\n            ).addTo(map_c786679657cdcb9432975dde7a9467e3);\n        \n    \n            var icon_e9b8aa1034ed3a39459a9b1b8371520b = L.AwesomeMarkers.icon(\n                {&quot;extraClasses&quot;: &quot;fa-rotate-0&quot;, &quot;icon&quot;: &quot;info-sign&quot;, &quot;iconColor&quot;: &quot;white&quot;, &quot;markerColor&quot;: &quot;blue&quot;, &quot;prefix&quot;: &quot;glyphicon&quot;}\n            );\n            marker_973d7db933eba5d9841fea2b66fc3203.setIcon(icon_e9b8aa1034ed3a39459a9b1b8371520b);\n        \n    \n            var marker_a154ffc24a574cf2763396e5ca50e04a = L.marker(\n                [49.88307, -119.48568],\n                {}\n            ).addTo(map_c786679657cdcb9432975dde7a9467e3);\n        \n    \n            var icon_461b658d2a2fb83b93111d2c42a71946 = L.AwesomeMarkers.icon(\n                {&quot;extraClasses&quot;: &quot;fa-rotate-0&quot;, &quot;icon&quot;: &quot;info-sign&quot;, &quot;iconColor&quot;: &quot;white&quot;, &quot;markerColor&quot;: &quot;blue&quot;, &quot;prefix&quot;: &quot;glyphicon&quot;}\n            );\n            marker_a154ffc24a574cf2763396e5ca50e04a.setIcon(icon_461b658d2a2fb83b93111d2c42a71946);\n        \n    \n            var marker_817c607b993a7dc0e61556e864e75774 = L.marker(\n                [49.88307, -119.48568],\n                {}\n            ).addTo(map_c786679657cdcb9432975dde7a9467e3);\n        \n    \n            var icon_38c3662093dd6f99e715209a038529f9 = L.AwesomeMarkers.icon(\n                {&quot;extraClasses&quot;: &quot;fa-rotate-0&quot;, &quot;icon&quot;: &quot;info-sign&quot;, &quot;iconColor&quot;: &quot;white&quot;, &quot;markerColor&quot;: &quot;blue&quot;, &quot;prefix&quot;: &quot;glyphicon&quot;}\n            );\n            marker_817c607b993a7dc0e61556e864e75774.setIcon(icon_38c3662093dd6f99e715209a038529f9);\n        \n    \n            var marker_2f10851e0c4d916871ffb826ab57d429 = L.marker(\n                [51.05011, -114.08529],\n                {}\n            ).addTo(map_c786679657cdcb9432975dde7a9467e3);\n        \n    \n            var icon_43c02298d2e359c2c5b0ed7b9ec59762 = L.AwesomeMarkers.icon(\n                {&quot;extraClasses&quot;: &quot;fa-rotate-0&quot;, &quot;icon&quot;: &quot;info-sign&quot;, &quot;iconColor&quot;: &quot;white&quot;, &quot;markerColor&quot;: &quot;blue&quot;, &quot;prefix&quot;: &quot;glyphicon&quot;}\n            );\n            marker_2f10851e0c4d916871ffb826ab57d429.setIcon(icon_43c02298d2e359c2c5b0ed7b9ec59762);\n        \n    \n            var marker_de388f0234a92c994136e9cddb97c02f = L.marker(\n                [49.24966, -123.11934],\n                {}\n            ).addTo(map_c786679657cdcb9432975dde7a9467e3);\n        \n    \n            var icon_f2998933728abf0ec35ef4e520117622 = L.AwesomeMarkers.icon(\n                {&quot;extraClasses&quot;: &quot;fa-rotate-0&quot;, &quot;icon&quot;: &quot;info-sign&quot;, &quot;iconColor&quot;: &quot;white&quot;, &quot;markerColor&quot;: &quot;blue&quot;, &quot;prefix&quot;: &quot;glyphicon&quot;}\n            );\n            marker_de388f0234a92c994136e9cddb97c02f.setIcon(icon_f2998933728abf0ec35ef4e520117622);\n        \n    \n            var marker_26ca8d4ca306beef21a83011a23e9983 = L.marker(\n                [43.70011, -79.4163],\n                {}\n            ).addTo(map_c786679657cdcb9432975dde7a9467e3);\n        \n    \n            var icon_5f43fa7765a06da2ff8c7c11e49d3dab = L.AwesomeMarkers.icon(\n                {&quot;extraClasses&quot;: &quot;fa-rotate-0&quot;, &quot;icon&quot;: &quot;info-sign&quot;, &quot;iconColor&quot;: &quot;white&quot;, &quot;markerColor&quot;: &quot;blue&quot;, &quot;prefix&quot;: &quot;glyphicon&quot;}\n            );\n            marker_26ca8d4ca306beef21a83011a23e9983.setIcon(icon_5f43fa7765a06da2ff8c7c11e49d3dab);\n        \n    \n            var marker_e1278ea900ecfdc8cb6cb08486b713a5 = L.marker(\n                [43.70011, -79.4163],\n                {}\n            ).addTo(map_c786679657cdcb9432975dde7a9467e3);\n        \n    \n            var icon_e580577005524c6df0f34a8f1708f4a6 = L.AwesomeMarkers.icon(\n                {&quot;extraClasses&quot;: &quot;fa-rotate-0&quot;, &quot;icon&quot;: &quot;info-sign&quot;, &quot;iconColor&quot;: &quot;white&quot;, &quot;markerColor&quot;: &quot;blue&quot;, &quot;prefix&quot;: &quot;glyphicon&quot;}\n            );\n            marker_e1278ea900ecfdc8cb6cb08486b713a5.setIcon(icon_e580577005524c6df0f34a8f1708f4a6);\n        \n    \n            var marker_33e774833869361c3ef62cff274432d7 = L.marker(\n                [43.70011, -79.4163],\n                {}\n            ).addTo(map_c786679657cdcb9432975dde7a9467e3);\n        \n    \n            var icon_64b460b6412a76942b34d37669826f82 = L.AwesomeMarkers.icon(\n                {&quot;extraClasses&quot;: &quot;fa-rotate-0&quot;, &quot;icon&quot;: &quot;info-sign&quot;, &quot;iconColor&quot;: &quot;white&quot;, &quot;markerColor&quot;: &quot;blue&quot;, &quot;prefix&quot;: &quot;glyphicon&quot;}\n            );\n            marker_33e774833869361c3ef62cff274432d7.setIcon(icon_64b460b6412a76942b34d37669826f82);\n        \n    \n            var marker_ed310b2ebd43f4743ff559467274a510 = L.marker(\n                [43.70011, -79.4163],\n                {}\n            ).addTo(map_c786679657cdcb9432975dde7a9467e3);\n        \n    \n            var icon_8e8ce3dffff6b5c0d85cb5e01cd4f880 = L.AwesomeMarkers.icon(\n                {&quot;extraClasses&quot;: &quot;fa-rotate-0&quot;, &quot;icon&quot;: &quot;info-sign&quot;, &quot;iconColor&quot;: &quot;white&quot;, &quot;markerColor&quot;: &quot;blue&quot;, &quot;prefix&quot;: &quot;glyphicon&quot;}\n            );\n            marker_ed310b2ebd43f4743ff559467274a510.setIcon(icon_8e8ce3dffff6b5c0d85cb5e01cd4f880);\n        \n    \n            var marker_4c69e1f3398de83c5471b1b3d167b2cc = L.marker(\n                [49.24966, -123.11934],\n                {}\n            ).addTo(map_c786679657cdcb9432975dde7a9467e3);\n        \n    \n            var icon_9cf2d8d60c9b0b66f48eab01f618f063 = L.AwesomeMarkers.icon(\n                {&quot;extraClasses&quot;: &quot;fa-rotate-0&quot;, &quot;icon&quot;: &quot;info-sign&quot;, &quot;iconColor&quot;: &quot;white&quot;, &quot;markerColor&quot;: &quot;blue&quot;, &quot;prefix&quot;: &quot;glyphicon&quot;}\n            );\n            marker_4c69e1f3398de83c5471b1b3d167b2cc.setIcon(icon_9cf2d8d60c9b0b66f48eab01f618f063);\n        \n    \n            var marker_ad9cf2f5627ff7a6218521c64b25ba7d = L.marker(\n                [51.05011, -114.08529],\n                {}\n            ).addTo(map_c786679657cdcb9432975dde7a9467e3);\n        \n    \n            var icon_5d57db1b2cf5fde0271740be097a3aa5 = L.AwesomeMarkers.icon(\n                {&quot;extraClasses&quot;: &quot;fa-rotate-0&quot;, &quot;icon&quot;: &quot;info-sign&quot;, &quot;iconColor&quot;: &quot;white&quot;, &quot;markerColor&quot;: &quot;blue&quot;, &quot;prefix&quot;: &quot;glyphicon&quot;}\n            );\n            marker_ad9cf2f5627ff7a6218521c64b25ba7d.setIcon(icon_5d57db1b2cf5fde0271740be097a3aa5);\n        \n    \n            var marker_0ebcad75e9acea423d87559cb3b8f1b5 = L.marker(\n                [43.70011, -79.4163],\n                {}\n            ).addTo(map_c786679657cdcb9432975dde7a9467e3);\n        \n    \n            var icon_7e689e2070a4fd297be930a17c3c97ec = L.AwesomeMarkers.icon(\n                {&quot;extraClasses&quot;: &quot;fa-rotate-0&quot;, &quot;icon&quot;: &quot;info-sign&quot;, &quot;iconColor&quot;: &quot;white&quot;, &quot;markerColor&quot;: &quot;blue&quot;, &quot;prefix&quot;: &quot;glyphicon&quot;}\n            );\n            marker_0ebcad75e9acea423d87559cb3b8f1b5.setIcon(icon_7e689e2070a4fd297be930a17c3c97ec);\n        \n    \n            var marker_c26cd215bcc278145f1ce14d36fd6d2b = L.marker(\n                [45.50884, -73.58781],\n                {}\n            ).addTo(map_c786679657cdcb9432975dde7a9467e3);\n        \n    \n            var icon_97d246cd8161502fdefbe90146a781bc = L.AwesomeMarkers.icon(\n                {&quot;extraClasses&quot;: &quot;fa-rotate-0&quot;, &quot;icon&quot;: &quot;info-sign&quot;, &quot;iconColor&quot;: &quot;white&quot;, &quot;markerColor&quot;: &quot;blue&quot;, &quot;prefix&quot;: &quot;glyphicon&quot;}\n            );\n            marker_c26cd215bcc278145f1ce14d36fd6d2b.setIcon(icon_97d246cd8161502fdefbe90146a781bc);\n        \n    \n            var marker_306c78ec668821f3305b33c8cef78e34 = L.marker(\n                [49.24966, -123.11934],\n                {}\n            ).addTo(map_c786679657cdcb9432975dde7a9467e3);\n        \n    \n            var icon_c310068c4e4dd1b68a49d5dc907be85f = L.AwesomeMarkers.icon(\n                {&quot;extraClasses&quot;: &quot;fa-rotate-0&quot;, &quot;icon&quot;: &quot;info-sign&quot;, &quot;iconColor&quot;: &quot;white&quot;, &quot;markerColor&quot;: &quot;blue&quot;, &quot;prefix&quot;: &quot;glyphicon&quot;}\n            );\n            marker_306c78ec668821f3305b33c8cef78e34.setIcon(icon_c310068c4e4dd1b68a49d5dc907be85f);\n        \n    \n            var marker_69a840613beccb8bb167c83bf856bc33 = L.marker(\n                [45.50884, -73.58781],\n                {}\n            ).addTo(map_c786679657cdcb9432975dde7a9467e3);\n        \n    \n            var icon_f3cc8078af53aadc2c2da0c3402df49a = L.AwesomeMarkers.icon(\n                {&quot;extraClasses&quot;: &quot;fa-rotate-0&quot;, &quot;icon&quot;: &quot;info-sign&quot;, &quot;iconColor&quot;: &quot;white&quot;, &quot;markerColor&quot;: &quot;blue&quot;, &quot;prefix&quot;: &quot;glyphicon&quot;}\n            );\n            marker_69a840613beccb8bb167c83bf856bc33.setIcon(icon_f3cc8078af53aadc2c2da0c3402df49a);\n        \n    \n            var marker_f6f04fa1e2f84f1ff9a06ebf6e58f8e3 = L.marker(\n                [45.41117, -75.69811999999997],\n                {}\n            ).addTo(map_c786679657cdcb9432975dde7a9467e3);\n        \n    \n            var icon_4893aadc68b787346eca7e4221af3d6e = L.AwesomeMarkers.icon(\n                {&quot;extraClasses&quot;: &quot;fa-rotate-0&quot;, &quot;icon&quot;: &quot;info-sign&quot;, &quot;iconColor&quot;: &quot;white&quot;, &quot;markerColor&quot;: &quot;blue&quot;, &quot;prefix&quot;: &quot;glyphicon&quot;}\n            );\n            marker_f6f04fa1e2f84f1ff9a06ebf6e58f8e3.setIcon(icon_4893aadc68b787346eca7e4221af3d6e);\n        \n    \n            var marker_5e7db0424fda3bc76d2d6cce4aa54277 = L.marker(\n                [51.05011, -114.08529],\n                {}\n            ).addTo(map_c786679657cdcb9432975dde7a9467e3);\n        \n    \n            var icon_d2810f0445a1ab0095f9f3265326fd90 = L.AwesomeMarkers.icon(\n                {&quot;extraClasses&quot;: &quot;fa-rotate-0&quot;, &quot;icon&quot;: &quot;info-sign&quot;, &quot;iconColor&quot;: &quot;white&quot;, &quot;markerColor&quot;: &quot;blue&quot;, &quot;prefix&quot;: &quot;glyphicon&quot;}\n            );\n            marker_5e7db0424fda3bc76d2d6cce4aa54277.setIcon(icon_d2810f0445a1ab0095f9f3265326fd90);\n        \n    \n            var marker_81b7cd682d6693d73b535027a88dd4db = L.marker(\n                [43.70011, -79.4163],\n                {}\n            ).addTo(map_c786679657cdcb9432975dde7a9467e3);\n        \n    \n            var icon_ca5b5084761e01515af79c3eba26ce06 = L.AwesomeMarkers.icon(\n                {&quot;extraClasses&quot;: &quot;fa-rotate-0&quot;, &quot;icon&quot;: &quot;info-sign&quot;, &quot;iconColor&quot;: &quot;white&quot;, &quot;markerColor&quot;: &quot;blue&quot;, &quot;prefix&quot;: &quot;glyphicon&quot;}\n            );\n            marker_81b7cd682d6693d73b535027a88dd4db.setIcon(icon_ca5b5084761e01515af79c3eba26ce06);\n        \n    \n            var marker_997c7d0cd4b737ea968e47111a6fecd9 = L.marker(\n                [43.70011, -79.4163],\n                {}\n            ).addTo(map_c786679657cdcb9432975dde7a9467e3);\n        \n    \n            var icon_6e254ddc93473cef415aa005f53d25b6 = L.AwesomeMarkers.icon(\n                {&quot;extraClasses&quot;: &quot;fa-rotate-0&quot;, &quot;icon&quot;: &quot;info-sign&quot;, &quot;iconColor&quot;: &quot;white&quot;, &quot;markerColor&quot;: &quot;blue&quot;, &quot;prefix&quot;: &quot;glyphicon&quot;}\n            );\n            marker_997c7d0cd4b737ea968e47111a6fecd9.setIcon(icon_6e254ddc93473cef415aa005f53d25b6);\n        \n    \n            var marker_94ad75a70508b2590ecac1856f8f4b48 = L.marker(\n                [49.88307, -119.48568],\n                {}\n            ).addTo(map_c786679657cdcb9432975dde7a9467e3);\n        \n    \n            var icon_d39109f3396d4895db284b39b61d2d74 = L.AwesomeMarkers.icon(\n                {&quot;extraClasses&quot;: &quot;fa-rotate-0&quot;, &quot;icon&quot;: &quot;info-sign&quot;, &quot;iconColor&quot;: &quot;white&quot;, &quot;markerColor&quot;: &quot;blue&quot;, &quot;prefix&quot;: &quot;glyphicon&quot;}\n            );\n            marker_94ad75a70508b2590ecac1856f8f4b48.setIcon(icon_d39109f3396d4895db284b39b61d2d74);\n        \n    \n            var marker_25d52dd6439964915ee19b6ff3233a62 = L.marker(\n                [49.88307, -119.48568],\n                {}\n            ).addTo(map_c786679657cdcb9432975dde7a9467e3);\n        \n    \n            var icon_1d34507b41bbdb7c7453300299d3c846 = L.AwesomeMarkers.icon(\n                {&quot;extraClasses&quot;: &quot;fa-rotate-0&quot;, &quot;icon&quot;: &quot;info-sign&quot;, &quot;iconColor&quot;: &quot;white&quot;, &quot;markerColor&quot;: &quot;blue&quot;, &quot;prefix&quot;: &quot;glyphicon&quot;}\n            );\n            marker_25d52dd6439964915ee19b6ff3233a62.setIcon(icon_1d34507b41bbdb7c7453300299d3c846);\n        \n    \n            var marker_0fc79a5c2dfbcfa6552947d865f628ac = L.marker(\n                [51.05011, -114.08529],\n                {}\n            ).addTo(map_c786679657cdcb9432975dde7a9467e3);\n        \n    \n            var icon_5f1747884ec5b8b0ce267f9dc2bf80b4 = L.AwesomeMarkers.icon(\n                {&quot;extraClasses&quot;: &quot;fa-rotate-0&quot;, &quot;icon&quot;: &quot;info-sign&quot;, &quot;iconColor&quot;: &quot;white&quot;, &quot;markerColor&quot;: &quot;blue&quot;, &quot;prefix&quot;: &quot;glyphicon&quot;}\n            );\n            marker_0fc79a5c2dfbcfa6552947d865f628ac.setIcon(icon_5f1747884ec5b8b0ce267f9dc2bf80b4);\n        \n    \n            var marker_ba561456fa4e09dfbe7315c0e0afc45b = L.marker(\n                [43.70011, -79.4163],\n                {}\n            ).addTo(map_c786679657cdcb9432975dde7a9467e3);\n        \n    \n            var icon_911ef16564e6a566aa9e58ba8decca59 = L.AwesomeMarkers.icon(\n                {&quot;extraClasses&quot;: &quot;fa-rotate-0&quot;, &quot;icon&quot;: &quot;info-sign&quot;, &quot;iconColor&quot;: &quot;white&quot;, &quot;markerColor&quot;: &quot;blue&quot;, &quot;prefix&quot;: &quot;glyphicon&quot;}\n            );\n            marker_ba561456fa4e09dfbe7315c0e0afc45b.setIcon(icon_911ef16564e6a566aa9e58ba8decca59);\n        \n    \n            var marker_ff05c66cee685c9260e58c65d2be04a4 = L.marker(\n                [43.70011, -79.4163],\n                {}\n            ).addTo(map_c786679657cdcb9432975dde7a9467e3);\n        \n    \n            var icon_a1d9a0c137c081b23aa30a64d5fe3a04 = L.AwesomeMarkers.icon(\n                {&quot;extraClasses&quot;: &quot;fa-rotate-0&quot;, &quot;icon&quot;: &quot;info-sign&quot;, &quot;iconColor&quot;: &quot;white&quot;, &quot;markerColor&quot;: &quot;blue&quot;, &quot;prefix&quot;: &quot;glyphicon&quot;}\n            );\n            marker_ff05c66cee685c9260e58c65d2be04a4.setIcon(icon_a1d9a0c137c081b23aa30a64d5fe3a04);\n        \n    \n            var marker_5392979483c6f401ea0d343ef5a77c45 = L.marker(\n                [43.70011, -79.4163],\n                {}\n            ).addTo(map_c786679657cdcb9432975dde7a9467e3);\n        \n    \n            var icon_7b598f14ad1ce99a3b0414036f1dfaf0 = L.AwesomeMarkers.icon(\n                {&quot;extraClasses&quot;: &quot;fa-rotate-0&quot;, &quot;icon&quot;: &quot;info-sign&quot;, &quot;iconColor&quot;: &quot;white&quot;, &quot;markerColor&quot;: &quot;blue&quot;, &quot;prefix&quot;: &quot;glyphicon&quot;}\n            );\n            marker_5392979483c6f401ea0d343ef5a77c45.setIcon(icon_7b598f14ad1ce99a3b0414036f1dfaf0);\n        \n    \n            var marker_aa64fd0a211bed6ab97c5f13215a880c = L.marker(\n                [49.24966, -123.11934],\n                {}\n            ).addTo(map_c786679657cdcb9432975dde7a9467e3);\n        \n    \n            var icon_9c8e9506a57da30f344298289491d31e = L.AwesomeMarkers.icon(\n                {&quot;extraClasses&quot;: &quot;fa-rotate-0&quot;, &quot;icon&quot;: &quot;info-sign&quot;, &quot;iconColor&quot;: &quot;white&quot;, &quot;markerColor&quot;: &quot;blue&quot;, &quot;prefix&quot;: &quot;glyphicon&quot;}\n            );\n            marker_aa64fd0a211bed6ab97c5f13215a880c.setIcon(icon_9c8e9506a57da30f344298289491d31e);\n        \n    \n            var marker_ce5f3d5534170ad6be2088c5f6dedd98 = L.marker(\n                [51.05011, -114.08529],\n                {}\n            ).addTo(map_c786679657cdcb9432975dde7a9467e3);\n        \n    \n            var icon_7668dd38298c5ea8c9174f6bb52d9b0f = L.AwesomeMarkers.icon(\n                {&quot;extraClasses&quot;: &quot;fa-rotate-0&quot;, &quot;icon&quot;: &quot;info-sign&quot;, &quot;iconColor&quot;: &quot;white&quot;, &quot;markerColor&quot;: &quot;blue&quot;, &quot;prefix&quot;: &quot;glyphicon&quot;}\n            );\n            marker_ce5f3d5534170ad6be2088c5f6dedd98.setIcon(icon_7668dd38298c5ea8c9174f6bb52d9b0f);\n        \n    \n            var marker_c0c88cb5445600c1795edf0bbfd45fd5 = L.marker(\n                [45.50884, -73.58781],\n                {}\n            ).addTo(map_c786679657cdcb9432975dde7a9467e3);\n        \n    \n            var icon_e3988492845e48e83fbfbd9c27de596d = L.AwesomeMarkers.icon(\n                {&quot;extraClasses&quot;: &quot;fa-rotate-0&quot;, &quot;icon&quot;: &quot;info-sign&quot;, &quot;iconColor&quot;: &quot;white&quot;, &quot;markerColor&quot;: &quot;blue&quot;, &quot;prefix&quot;: &quot;glyphicon&quot;}\n            );\n            marker_c0c88cb5445600c1795edf0bbfd45fd5.setIcon(icon_e3988492845e48e83fbfbd9c27de596d);\n        \n    \n            var marker_cec4674cc0b732dfb85dc04ee5c9bc37 = L.marker(\n                [45.50884, -73.58781],\n                {}\n            ).addTo(map_c786679657cdcb9432975dde7a9467e3);\n        \n    \n            var icon_b180a2355a2676df4dc7df5aa572476d = L.AwesomeMarkers.icon(\n                {&quot;extraClasses&quot;: &quot;fa-rotate-0&quot;, &quot;icon&quot;: &quot;info-sign&quot;, &quot;iconColor&quot;: &quot;white&quot;, &quot;markerColor&quot;: &quot;blue&quot;, &quot;prefix&quot;: &quot;glyphicon&quot;}\n            );\n            marker_cec4674cc0b732dfb85dc04ee5c9bc37.setIcon(icon_b180a2355a2676df4dc7df5aa572476d);\n        \n    \n            var marker_58dda73b1362b0338795abcbe708bfd5 = L.marker(\n                [45.41117, -75.69811999999997],\n                {}\n            ).addTo(map_c786679657cdcb9432975dde7a9467e3);\n        \n    \n            var icon_d887ca8df6aa1bc3abe8024d3fd39108 = L.AwesomeMarkers.icon(\n                {&quot;extraClasses&quot;: &quot;fa-rotate-0&quot;, &quot;icon&quot;: &quot;info-sign&quot;, &quot;iconColor&quot;: &quot;white&quot;, &quot;markerColor&quot;: &quot;blue&quot;, &quot;prefix&quot;: &quot;glyphicon&quot;}\n            );\n            marker_58dda73b1362b0338795abcbe708bfd5.setIcon(icon_d887ca8df6aa1bc3abe8024d3fd39108);\n        \n    \n            var marker_1331bf5219f89291a739aac2be2d69a0 = L.marker(\n                [51.05011, -114.08529],\n                {}\n            ).addTo(map_c786679657cdcb9432975dde7a9467e3);\n        \n    \n            var icon_cb51ad649c63f1875dff3676cc9ebb1f = L.AwesomeMarkers.icon(\n                {&quot;extraClasses&quot;: &quot;fa-rotate-0&quot;, &quot;icon&quot;: &quot;info-sign&quot;, &quot;iconColor&quot;: &quot;white&quot;, &quot;markerColor&quot;: &quot;blue&quot;, &quot;prefix&quot;: &quot;glyphicon&quot;}\n            );\n            marker_1331bf5219f89291a739aac2be2d69a0.setIcon(icon_cb51ad649c63f1875dff3676cc9ebb1f);\n        \n    \n            var marker_32c7aec2445c5cfc634fa0e2e71a757d = L.marker(\n                [49.24966, -123.11934],\n                {}\n            ).addTo(map_c786679657cdcb9432975dde7a9467e3);\n        \n    \n            var icon_f0d594b525d76d5f349ffe3ff3723a91 = L.AwesomeMarkers.icon(\n                {&quot;extraClasses&quot;: &quot;fa-rotate-0&quot;, &quot;icon&quot;: &quot;info-sign&quot;, &quot;iconColor&quot;: &quot;white&quot;, &quot;markerColor&quot;: &quot;blue&quot;, &quot;prefix&quot;: &quot;glyphicon&quot;}\n            );\n            marker_32c7aec2445c5cfc634fa0e2e71a757d.setIcon(icon_f0d594b525d76d5f349ffe3ff3723a91);\n        \n    \n            var marker_e0a30bbada8b711e08702c6194d662ec = L.marker(\n                [43.70011, -79.4163],\n                {}\n            ).addTo(map_c786679657cdcb9432975dde7a9467e3);\n        \n    \n            var icon_9f764336fbc6bb19c86c81305c1e7149 = L.AwesomeMarkers.icon(\n                {&quot;extraClasses&quot;: &quot;fa-rotate-0&quot;, &quot;icon&quot;: &quot;info-sign&quot;, &quot;iconColor&quot;: &quot;white&quot;, &quot;markerColor&quot;: &quot;blue&quot;, &quot;prefix&quot;: &quot;glyphicon&quot;}\n            );\n            marker_e0a30bbada8b711e08702c6194d662ec.setIcon(icon_9f764336fbc6bb19c86c81305c1e7149);\n        \n    \n            var marker_166a14eb339546eb2552379ebaceae60 = L.marker(\n                [43.70011, -79.4163],\n                {}\n            ).addTo(map_c786679657cdcb9432975dde7a9467e3);\n        \n    \n            var icon_f2da4a191b7fd6b1d1771efba608f259 = L.AwesomeMarkers.icon(\n                {&quot;extraClasses&quot;: &quot;fa-rotate-0&quot;, &quot;icon&quot;: &quot;info-sign&quot;, &quot;iconColor&quot;: &quot;white&quot;, &quot;markerColor&quot;: &quot;blue&quot;, &quot;prefix&quot;: &quot;glyphicon&quot;}\n            );\n            marker_166a14eb339546eb2552379ebaceae60.setIcon(icon_f2da4a191b7fd6b1d1771efba608f259);\n        \n    \n            var marker_0399003e5d0d88e35e0ea7b5fd18e78f = L.marker(\n                [49.24966, -123.11934],\n                {}\n            ).addTo(map_c786679657cdcb9432975dde7a9467e3);\n        \n    \n            var icon_7c968776c726d98381ec9e559aab5f4e = L.AwesomeMarkers.icon(\n                {&quot;extraClasses&quot;: &quot;fa-rotate-0&quot;, &quot;icon&quot;: &quot;info-sign&quot;, &quot;iconColor&quot;: &quot;white&quot;, &quot;markerColor&quot;: &quot;blue&quot;, &quot;prefix&quot;: &quot;glyphicon&quot;}\n            );\n            marker_0399003e5d0d88e35e0ea7b5fd18e78f.setIcon(icon_7c968776c726d98381ec9e559aab5f4e);\n        \n    \n            var marker_a501f766bfde565d04096a56ae4fda9c = L.marker(\n                [43.70011, -79.4163],\n                {}\n            ).addTo(map_c786679657cdcb9432975dde7a9467e3);\n        \n    \n            var icon_dd58a6a94f6f4dae3115d3078e984903 = L.AwesomeMarkers.icon(\n                {&quot;extraClasses&quot;: &quot;fa-rotate-0&quot;, &quot;icon&quot;: &quot;info-sign&quot;, &quot;iconColor&quot;: &quot;white&quot;, &quot;markerColor&quot;: &quot;blue&quot;, &quot;prefix&quot;: &quot;glyphicon&quot;}\n            );\n            marker_a501f766bfde565d04096a56ae4fda9c.setIcon(icon_dd58a6a94f6f4dae3115d3078e984903);\n        \n    \n            var marker_6c0dd611d41a937cabfad037d479f2f2 = L.marker(\n                [51.05011, -114.08529],\n                {}\n            ).addTo(map_c786679657cdcb9432975dde7a9467e3);\n        \n    \n            var icon_8b4e19181afbc85a26797aa29340e80a = L.AwesomeMarkers.icon(\n                {&quot;extraClasses&quot;: &quot;fa-rotate-0&quot;, &quot;icon&quot;: &quot;info-sign&quot;, &quot;iconColor&quot;: &quot;white&quot;, &quot;markerColor&quot;: &quot;blue&quot;, &quot;prefix&quot;: &quot;glyphicon&quot;}\n            );\n            marker_6c0dd611d41a937cabfad037d479f2f2.setIcon(icon_8b4e19181afbc85a26797aa29340e80a);\n        \n    \n            var marker_fb4ee2ba810c8b30eecdd4539f00fc76 = L.marker(\n                [43.70011, -79.4163],\n                {}\n            ).addTo(map_c786679657cdcb9432975dde7a9467e3);\n        \n    \n            var icon_d7c3d9b29aa6d411ab84badd0593e644 = L.AwesomeMarkers.icon(\n                {&quot;extraClasses&quot;: &quot;fa-rotate-0&quot;, &quot;icon&quot;: &quot;info-sign&quot;, &quot;iconColor&quot;: &quot;white&quot;, &quot;markerColor&quot;: &quot;blue&quot;, &quot;prefix&quot;: &quot;glyphicon&quot;}\n            );\n            marker_fb4ee2ba810c8b30eecdd4539f00fc76.setIcon(icon_d7c3d9b29aa6d411ab84badd0593e644);\n        \n&lt;/script&gt;\" style=\"position:absolute;width:100%;height:100%;left:0;top:0;border:none !important;\" allowfullscreen webkitallowfullscreen mozallowfullscreen></iframe></div></div>"
     },
     "execution_count": 566,
     "metadata": {},
     "output_type": "execute_result"
    }
   ],
   "source": [
    "from folium import *\n",
    "\n",
    "long_medio = df_respostas[\"X\"].mean()\n",
    "lat_medio = df_respostas[\"Y\"].mean()\n",
    "\n",
    "print(long_medio)\n",
    "print(lat_medio)\n",
    "\n",
    "Toronto = folium.Map(\n",
    "    location=[lat_medio,long_medio],\n",
    "    zoom_start=10\n",
    ")\n",
    "\n",
    "l = df_respostas\n",
    "\n",
    "for i in range(len(l)):\n",
    "    folium.Marker(\n",
    "        location=[l['Y'].iloc[i], l['X'].iloc[i]],\n",
    "        icon=folium.Icon(color=\"blue\")\n",
    "    ).add_to(Toronto)\n",
    "\n",
    "Toronto"
   ],
   "metadata": {
    "collapsed": false,
    "pycharm": {
     "name": "#%%\n"
    }
   }
  },
  {
   "cell_type": "code",
   "execution_count": 516,
   "outputs": [
    {
     "name": "stdout",
     "output_type": "stream",
     "text": [
      "-79.41629999999999\n",
      "43.70011\n"
     ]
    },
    {
     "data": {
      "text/plain": "<folium.folium.Map at 0x7fdf0c7bf9d0>",
      "text/html": "<div style=\"width:100%;\"><div style=\"position:relative;width:100%;height:0;padding-bottom:60%;\"><span style=\"color:#565656\">Make this Notebook Trusted to load map: File -> Trust Notebook</span><iframe srcdoc=\"&lt;!DOCTYPE html&gt;\n&lt;head&gt;    \n    &lt;meta http-equiv=&quot;content-type&quot; content=&quot;text/html; charset=UTF-8&quot; /&gt;\n    \n        &lt;script&gt;\n            L_NO_TOUCH = false;\n            L_DISABLE_3D = false;\n        &lt;/script&gt;\n    \n    &lt;style&gt;html, body {width: 100%;height: 100%;margin: 0;padding: 0;}&lt;/style&gt;\n    &lt;style&gt;#map {position:absolute;top:0;bottom:0;right:0;left:0;}&lt;/style&gt;\n    &lt;script src=&quot;https://cdn.jsdelivr.net/npm/leaflet@1.6.0/dist/leaflet.js&quot;&gt;&lt;/script&gt;\n    &lt;script src=&quot;https://code.jquery.com/jquery-1.12.4.min.js&quot;&gt;&lt;/script&gt;\n    &lt;script src=&quot;https://maxcdn.bootstrapcdn.com/bootstrap/3.2.0/js/bootstrap.min.js&quot;&gt;&lt;/script&gt;\n    &lt;script src=&quot;https://cdnjs.cloudflare.com/ajax/libs/Leaflet.awesome-markers/2.0.2/leaflet.awesome-markers.js&quot;&gt;&lt;/script&gt;\n    &lt;link rel=&quot;stylesheet&quot; href=&quot;https://cdn.jsdelivr.net/npm/leaflet@1.6.0/dist/leaflet.css&quot;/&gt;\n    &lt;link rel=&quot;stylesheet&quot; href=&quot;https://maxcdn.bootstrapcdn.com/bootstrap/3.2.0/css/bootstrap.min.css&quot;/&gt;\n    &lt;link rel=&quot;stylesheet&quot; href=&quot;https://maxcdn.bootstrapcdn.com/bootstrap/3.2.0/css/bootstrap-theme.min.css&quot;/&gt;\n    &lt;link rel=&quot;stylesheet&quot; href=&quot;https://maxcdn.bootstrapcdn.com/font-awesome/4.6.3/css/font-awesome.min.css&quot;/&gt;\n    &lt;link rel=&quot;stylesheet&quot; href=&quot;https://cdnjs.cloudflare.com/ajax/libs/Leaflet.awesome-markers/2.0.2/leaflet.awesome-markers.css&quot;/&gt;\n    &lt;link rel=&quot;stylesheet&quot; href=&quot;https://cdn.jsdelivr.net/gh/python-visualization/folium/folium/templates/leaflet.awesome.rotate.min.css&quot;/&gt;\n    \n            &lt;meta name=&quot;viewport&quot; content=&quot;width=device-width,\n                initial-scale=1.0, maximum-scale=1.0, user-scalable=no&quot; /&gt;\n            &lt;style&gt;\n                #map_5d3b6cb0f1fdc24b6be8e9048c712ba4 {\n                    position: relative;\n                    width: 100.0%;\n                    height: 100.0%;\n                    left: 0.0%;\n                    top: 0.0%;\n                }\n            &lt;/style&gt;\n        \n&lt;/head&gt;\n&lt;body&gt;    \n    \n            &lt;div class=&quot;folium-map&quot; id=&quot;map_5d3b6cb0f1fdc24b6be8e9048c712ba4&quot; &gt;&lt;/div&gt;\n        \n&lt;/body&gt;\n&lt;script&gt;    \n    \n            var map_5d3b6cb0f1fdc24b6be8e9048c712ba4 = L.map(\n                &quot;map_5d3b6cb0f1fdc24b6be8e9048c712ba4&quot;,\n                {\n                    center: [43.70011, -79.41629999999999],\n                    crs: L.CRS.EPSG3857,\n                    zoom: 10,\n                    zoomControl: true,\n                    preferCanvas: false,\n                }\n            );\n\n            \n\n        \n    \n            var tile_layer_00ff91a2c85f93f6bf35b6f5a35ca6c9 = L.tileLayer(\n                &quot;https://{s}.tile.openstreetmap.org/{z}/{x}/{y}.png&quot;,\n                {&quot;attribution&quot;: &quot;Data by \\u0026copy; \\u003ca href=\\&quot;http://openstreetmap.org\\&quot;\\u003eOpenStreetMap\\u003c/a\\u003e, under \\u003ca href=\\&quot;http://www.openstreetmap.org/copyright\\&quot;\\u003eODbL\\u003c/a\\u003e.&quot;, &quot;detectRetina&quot;: false, &quot;maxNativeZoom&quot;: 18, &quot;maxZoom&quot;: 18, &quot;minZoom&quot;: 0, &quot;noWrap&quot;: false, &quot;opacity&quot;: 1, &quot;subdomains&quot;: &quot;abc&quot;, &quot;tms&quot;: false}\n            ).addTo(map_5d3b6cb0f1fdc24b6be8e9048c712ba4);\n        \n&lt;/script&gt;\" style=\"position:absolute;width:100%;height:100%;left:0;top:0;border:none !important;\" allowfullscreen webkitallowfullscreen mozallowfullscreen></iframe></div></div>"
     },
     "execution_count": 516,
     "metadata": {},
     "output_type": "execute_result"
    }
   ],
   "source": [
    "long_medio = df_respostas[df_respostas[\"cidade\"]==\"Toronto\"][\"X\"].mean()\n",
    "lat_medio = df_respostas[df_respostas[\"cidade\"]==\"Toronto\"][\"Y\"].mean()\n",
    "\n",
    "print(long_medio)\n",
    "print(lat_medio)\n",
    "\n",
    "Toronto = folium.Map(\n",
    "    location=[lat_medio,long_medio],\n",
    "    zoom_start=10\n",
    ")\n",
    "Toronto"
   ],
   "metadata": {
    "collapsed": false,
    "pycharm": {
     "name": "#%%\n"
    }
   }
  },
  {
   "cell_type": "code",
   "execution_count": 520,
   "outputs": [
    {
     "data": {
      "text/plain": "(41, 7)"
     },
     "execution_count": 520,
     "metadata": {},
     "output_type": "execute_result"
    }
   ],
   "source": [
    "l = df_respostas[df_respostas[\"cidade\"]==\"Toronto\"]\n",
    "l.shape"
   ],
   "metadata": {
    "collapsed": false,
    "pycharm": {
     "name": "#%%\n"
    }
   }
  },
  {
   "cell_type": "code",
   "execution_count": 529,
   "outputs": [
    {
     "data": {
      "text/plain": "                            tema                           nome     cidade  \\\n0   solutions on waste and water                   Aqua air 247    Kelowna   \n1   solutions on waste and water                  Aqua air 247     Kelowna   \n2   solutions on waste and water                 Tabl'eau water    Toronto   \n3   solutions on waste and water  Fine recycling & disposal ltd    Toronto   \n4   solutions on waste and water      Island water technologies    Toronto   \n..                           ...                            ...        ...   \n95               water resources         Fer-pal infrastructure    Toronto   \n96               water resources           Twothirds water inc.  Vancouver   \n97               water resources         Sanzfield technologies    Toronto   \n98               water resources          2s water incorporated    Calgary   \n99               water resources         Smart watering systems    Toronto   \n\n    empregados    aporte          X         Y  \n0          0.0         - -119.48568  49.88307  \n1          1.0       NaN -119.48568  49.88307  \n2          1.0       NaN  -79.41630  43.70011  \n3          1.0       NaN  -79.41630  43.70011  \n4          1.0  690742.0  -79.41630  43.70011  \n..         ...       ...        ...       ...  \n95         0.0         -  -79.41630  43.70011  \n96         1.0       NaN -123.11934  49.24966  \n97         1.0       NaN  -79.41630  43.70011  \n98         1.0       NaN -114.08529  51.05011  \n99        10.0       NaN  -79.41630  43.70011  \n\n[100 rows x 7 columns]",
      "text/html": "<div>\n<style scoped>\n    .dataframe tbody tr th:only-of-type {\n        vertical-align: middle;\n    }\n\n    .dataframe tbody tr th {\n        vertical-align: top;\n    }\n\n    .dataframe thead th {\n        text-align: right;\n    }\n</style>\n<table border=\"1\" class=\"dataframe\">\n  <thead>\n    <tr style=\"text-align: right;\">\n      <th></th>\n      <th>tema</th>\n      <th>nome</th>\n      <th>cidade</th>\n      <th>empregados</th>\n      <th>aporte</th>\n      <th>X</th>\n      <th>Y</th>\n    </tr>\n  </thead>\n  <tbody>\n    <tr>\n      <th>0</th>\n      <td>solutions on waste and water</td>\n      <td>Aqua air 247</td>\n      <td>Kelowna</td>\n      <td>0.0</td>\n      <td>-</td>\n      <td>-119.48568</td>\n      <td>49.88307</td>\n    </tr>\n    <tr>\n      <th>1</th>\n      <td>solutions on waste and water</td>\n      <td>Aqua air 247</td>\n      <td>Kelowna</td>\n      <td>1.0</td>\n      <td>NaN</td>\n      <td>-119.48568</td>\n      <td>49.88307</td>\n    </tr>\n    <tr>\n      <th>2</th>\n      <td>solutions on waste and water</td>\n      <td>Tabl'eau water</td>\n      <td>Toronto</td>\n      <td>1.0</td>\n      <td>NaN</td>\n      <td>-79.41630</td>\n      <td>43.70011</td>\n    </tr>\n    <tr>\n      <th>3</th>\n      <td>solutions on waste and water</td>\n      <td>Fine recycling &amp; disposal ltd</td>\n      <td>Toronto</td>\n      <td>1.0</td>\n      <td>NaN</td>\n      <td>-79.41630</td>\n      <td>43.70011</td>\n    </tr>\n    <tr>\n      <th>4</th>\n      <td>solutions on waste and water</td>\n      <td>Island water technologies</td>\n      <td>Toronto</td>\n      <td>1.0</td>\n      <td>690742.0</td>\n      <td>-79.41630</td>\n      <td>43.70011</td>\n    </tr>\n    <tr>\n      <th>...</th>\n      <td>...</td>\n      <td>...</td>\n      <td>...</td>\n      <td>...</td>\n      <td>...</td>\n      <td>...</td>\n      <td>...</td>\n    </tr>\n    <tr>\n      <th>95</th>\n      <td>water resources</td>\n      <td>Fer-pal infrastructure</td>\n      <td>Toronto</td>\n      <td>0.0</td>\n      <td>-</td>\n      <td>-79.41630</td>\n      <td>43.70011</td>\n    </tr>\n    <tr>\n      <th>96</th>\n      <td>water resources</td>\n      <td>Twothirds water inc.</td>\n      <td>Vancouver</td>\n      <td>1.0</td>\n      <td>NaN</td>\n      <td>-123.11934</td>\n      <td>49.24966</td>\n    </tr>\n    <tr>\n      <th>97</th>\n      <td>water resources</td>\n      <td>Sanzfield technologies</td>\n      <td>Toronto</td>\n      <td>1.0</td>\n      <td>NaN</td>\n      <td>-79.41630</td>\n      <td>43.70011</td>\n    </tr>\n    <tr>\n      <th>98</th>\n      <td>water resources</td>\n      <td>2s water incorporated</td>\n      <td>Calgary</td>\n      <td>1.0</td>\n      <td>NaN</td>\n      <td>-114.08529</td>\n      <td>51.05011</td>\n    </tr>\n    <tr>\n      <th>99</th>\n      <td>water resources</td>\n      <td>Smart watering systems</td>\n      <td>Toronto</td>\n      <td>10.0</td>\n      <td>NaN</td>\n      <td>-79.41630</td>\n      <td>43.70011</td>\n    </tr>\n  </tbody>\n</table>\n<p>100 rows × 7 columns</p>\n</div>"
     },
     "execution_count": 529,
     "metadata": {},
     "output_type": "execute_result"
    }
   ],
   "source": [
    "df_respostas"
   ],
   "metadata": {
    "collapsed": false,
    "pycharm": {
     "name": "#%%\n"
    }
   }
  },
  {
   "cell_type": "code",
   "execution_count": 526,
   "outputs": [
    {
     "data": {
      "text/plain": "43.70011"
     },
     "execution_count": 526,
     "metadata": {},
     "output_type": "execute_result"
    }
   ],
   "source": [
    "l['Y'].loc[2]"
   ],
   "metadata": {
    "collapsed": false,
    "pycharm": {
     "name": "#%%\n"
    }
   }
  },
  {
   "cell_type": "code",
   "execution_count": null,
   "outputs": [],
   "source": [],
   "metadata": {
    "collapsed": false,
    "pycharm": {
     "name": "#%%\n"
    }
   }
  },
  {
   "cell_type": "code",
   "execution_count": null,
   "outputs": [],
   "source": [],
   "metadata": {
    "collapsed": false,
    "pycharm": {
     "name": "#%%\n"
    }
   }
  },
  {
   "cell_type": "code",
   "execution_count": null,
   "outputs": [],
   "source": [],
   "metadata": {
    "collapsed": false,
    "pycharm": {
     "name": "#%%\n"
    }
   }
  },
  {
   "cell_type": "code",
   "execution_count": null,
   "outputs": [],
   "source": [],
   "metadata": {
    "collapsed": false,
    "pycharm": {
     "name": "#%%\n"
    }
   }
  },
  {
   "cell_type": "code",
   "execution_count": null,
   "outputs": [],
   "source": [],
   "metadata": {
    "collapsed": false,
    "pycharm": {
     "name": "#%%\n"
    }
   }
  },
  {
   "cell_type": "code",
   "execution_count": null,
   "outputs": [],
   "source": [],
   "metadata": {
    "collapsed": false,
    "pycharm": {
     "name": "#%%\n"
    }
   }
  },
  {
   "cell_type": "code",
   "execution_count": null,
   "outputs": [],
   "source": [],
   "metadata": {
    "collapsed": false,
    "pycharm": {
     "name": "#%%\n"
    }
   }
  },
  {
   "cell_type": "code",
   "execution_count": null,
   "outputs": [],
   "source": [],
   "metadata": {
    "collapsed": false,
    "pycharm": {
     "name": "#%%\n"
    }
   }
  },
  {
   "cell_type": "code",
   "execution_count": null,
   "outputs": [],
   "source": [],
   "metadata": {
    "collapsed": false,
    "pycharm": {
     "name": "#%%\n"
    }
   }
  },
  {
   "cell_type": "code",
   "execution_count": null,
   "outputs": [],
   "source": [],
   "metadata": {
    "collapsed": false,
    "pycharm": {
     "name": "#%%\n"
    }
   }
  },
  {
   "cell_type": "code",
   "execution_count": null,
   "outputs": [],
   "source": [],
   "metadata": {
    "collapsed": false,
    "pycharm": {
     "name": "#%%\n"
    }
   }
  }
 ],
 "metadata": {
  "kernelspec": {
   "display_name": "Python 3 (ipykernel)",
   "language": "python",
   "name": "python3"
  },
  "language_info": {
   "codemirror_mode": {
    "name": "ipython",
    "version": 3
   },
   "file_extension": ".py",
   "mimetype": "text/x-python",
   "name": "python",
   "nbconvert_exporter": "python",
   "pygments_lexer": "ipython3",
   "version": "3.9.7"
  }
 },
 "nbformat": 4,
 "nbformat_minor": 1
}